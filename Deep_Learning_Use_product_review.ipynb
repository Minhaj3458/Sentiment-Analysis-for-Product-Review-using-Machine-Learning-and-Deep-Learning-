{
  "cells": [
    {
      "cell_type": "code",
      "execution_count": 104,
      "metadata": {
        "colab": {
          "base_uri": "https://localhost:8080/"
        },
        "id": "UHwpi8jnuwI1",
        "outputId": "f9311c62-44d9-4519-9c7f-d706a297f0dc"
      },
      "outputs": [
        {
          "output_type": "stream",
          "name": "stdout",
          "text": [
            "Drive already mounted at /content/gdrive; to attempt to forcibly remount, call drive.mount(\"/content/gdrive\", force_remount=True).\n"
          ]
        }
      ],
      "source": [
        "from google.colab import drive\n",
        "drive.mount('/content/gdrive')"
      ]
    },
    {
      "cell_type": "code",
      "execution_count": 105,
      "metadata": {
        "colab": {
          "base_uri": "https://localhost:8080/"
        },
        "id": "fq1lZWO8VsDu",
        "outputId": "138035f1-03b3-4a1b-e491-f58dec9fcf6c"
      },
      "outputs": [
        {
          "output_type": "stream",
          "name": "stderr",
          "text": [
            "[nltk_data] Downloading package stopwords to /root/nltk_data...\n",
            "[nltk_data]   Package stopwords is already up-to-date!\n",
            "[nltk_data] Downloading package punkt to /root/nltk_data...\n",
            "[nltk_data]   Package punkt is already up-to-date!\n",
            "[nltk_data] Downloading package wordnet to /root/nltk_data...\n",
            "[nltk_data]   Package wordnet is already up-to-date!\n",
            "[nltk_data] Downloading package omw-1.4 to /root/nltk_data...\n",
            "[nltk_data]   Package omw-1.4 is already up-to-date!\n"
          ]
        },
        {
          "output_type": "execute_result",
          "data": {
            "text/plain": [
              "True"
            ]
          },
          "metadata": {},
          "execution_count": 105
        }
      ],
      "source": [
        "import numpy as np # linear algebra\n",
        "import pandas as pd # data processing, CSV file I/O (e.g. pd.read_csv)\n",
        "import matplotlib.pyplot as plt\n",
        "import string\n",
        "import re\n",
        "import nltk\n",
        "nltk.download('stopwords')\n",
        "from nltk.corpus import stopwords\n",
        "stop_words = stopwords.words('english')\n",
        "nltk.download('punkt')\n",
        "nltk.download('wordnet')\n",
        "nltk.download('omw-1.4')"
      ]
    },
    {
      "cell_type": "code",
      "execution_count": 106,
      "metadata": {
        "id": "-dLe2ZMwW0fo"
      },
      "outputs": [],
      "source": [
        "df = pd.read_csv('/content/gdrive/MyDrive/Dataset/Amazon_Products_Clothing_Shoes_and_Jewelry.csv')"
      ]
    },
    {
      "cell_type": "code",
      "execution_count": 107,
      "metadata": {
        "colab": {
          "base_uri": "https://localhost:8080/"
        },
        "id": "FIZFmTdDSBVc",
        "outputId": "018f7184-6d18-4157-d8e5-221a93582ede"
      },
      "outputs": [
        {
          "output_type": "stream",
          "name": "stdout",
          "text": [
            "<class 'pandas.core.frame.DataFrame'>\n",
            "RangeIndex: 55000 entries, 0 to 54999\n",
            "Data columns (total 5 columns):\n",
            " #   Column               Non-Null Count  Dtype  \n",
            "---  ------               --------------  -----  \n",
            " 0   Unnamed: 0           55000 non-null  int64  \n",
            " 1   Unnamed: 0.1         55000 non-null  int64  \n",
            " 2   Customer_reviewText  55000 non-null  object \n",
            " 3   Unnamed: 3           0 non-null      float64\n",
            " 4   Unnamed: 4           2 non-null      object \n",
            "dtypes: float64(1), int64(2), object(2)\n",
            "memory usage: 2.1+ MB\n"
          ]
        }
      ],
      "source": [
        "df.info()"
      ]
    },
    {
      "cell_type": "code",
      "execution_count": 108,
      "metadata": {
        "colab": {
          "base_uri": "https://localhost:8080/"
        },
        "id": "D0Vxs3E4SUg1",
        "outputId": "a9319ebf-f347-44e8-9097-eaeb883373ee"
      },
      "outputs": [
        {
          "output_type": "execute_result",
          "data": {
            "text/plain": [
              "(55000, 5)"
            ]
          },
          "metadata": {},
          "execution_count": 108
        }
      ],
      "source": [
        "df.shape"
      ]
    },
    {
      "cell_type": "code",
      "execution_count": 109,
      "metadata": {
        "colab": {
          "base_uri": "https://localhost:8080/",
          "height": 206
        },
        "id": "on8pA6kqaTWB",
        "outputId": "0a9212a1-19eb-4467-dd0e-f18226ef7789"
      },
      "outputs": [
        {
          "output_type": "execute_result",
          "data": {
            "text/plain": [
              "   Unnamed: 0  Unnamed: 0.1  \\\n",
              "0       65000         65000   \n",
              "1       65001         65001   \n",
              "2       65002         65002   \n",
              "3       65003         65003   \n",
              "4       65004         65004   \n",
              "\n",
              "                                 Customer_reviewText  Unnamed: 3 Unnamed: 4  \n",
              "0     \"fits great but not too hot and bulky so it...         NaN        NaN  \n",
              "1     \"great lounge set!  i now own both colors a...         NaN        NaN  \n",
              "2     \"i ordered both colors and i am in love wit...         NaN        NaN  \n",
              "3     \"i purchased these for myself and was so ha...         NaN        NaN  \n",
              "4     \"i bought this for my son-in-law.  he put i...         NaN        NaN  "
            ],
            "text/html": [
              "\n",
              "  <div id=\"df-3acff42a-cb8d-4280-8094-4a1b3bba0926\">\n",
              "    <div class=\"colab-df-container\">\n",
              "      <div>\n",
              "<style scoped>\n",
              "    .dataframe tbody tr th:only-of-type {\n",
              "        vertical-align: middle;\n",
              "    }\n",
              "\n",
              "    .dataframe tbody tr th {\n",
              "        vertical-align: top;\n",
              "    }\n",
              "\n",
              "    .dataframe thead th {\n",
              "        text-align: right;\n",
              "    }\n",
              "</style>\n",
              "<table border=\"1\" class=\"dataframe\">\n",
              "  <thead>\n",
              "    <tr style=\"text-align: right;\">\n",
              "      <th></th>\n",
              "      <th>Unnamed: 0</th>\n",
              "      <th>Unnamed: 0.1</th>\n",
              "      <th>Customer_reviewText</th>\n",
              "      <th>Unnamed: 3</th>\n",
              "      <th>Unnamed: 4</th>\n",
              "    </tr>\n",
              "  </thead>\n",
              "  <tbody>\n",
              "    <tr>\n",
              "      <th>0</th>\n",
              "      <td>65000</td>\n",
              "      <td>65000</td>\n",
              "      <td>\"fits great but not too hot and bulky so it...</td>\n",
              "      <td>NaN</td>\n",
              "      <td>NaN</td>\n",
              "    </tr>\n",
              "    <tr>\n",
              "      <th>1</th>\n",
              "      <td>65001</td>\n",
              "      <td>65001</td>\n",
              "      <td>\"great lounge set!  i now own both colors a...</td>\n",
              "      <td>NaN</td>\n",
              "      <td>NaN</td>\n",
              "    </tr>\n",
              "    <tr>\n",
              "      <th>2</th>\n",
              "      <td>65002</td>\n",
              "      <td>65002</td>\n",
              "      <td>\"i ordered both colors and i am in love wit...</td>\n",
              "      <td>NaN</td>\n",
              "      <td>NaN</td>\n",
              "    </tr>\n",
              "    <tr>\n",
              "      <th>3</th>\n",
              "      <td>65003</td>\n",
              "      <td>65003</td>\n",
              "      <td>\"i purchased these for myself and was so ha...</td>\n",
              "      <td>NaN</td>\n",
              "      <td>NaN</td>\n",
              "    </tr>\n",
              "    <tr>\n",
              "      <th>4</th>\n",
              "      <td>65004</td>\n",
              "      <td>65004</td>\n",
              "      <td>\"i bought this for my son-in-law.  he put i...</td>\n",
              "      <td>NaN</td>\n",
              "      <td>NaN</td>\n",
              "    </tr>\n",
              "  </tbody>\n",
              "</table>\n",
              "</div>\n",
              "      <button class=\"colab-df-convert\" onclick=\"convertToInteractive('df-3acff42a-cb8d-4280-8094-4a1b3bba0926')\"\n",
              "              title=\"Convert this dataframe to an interactive table.\"\n",
              "              style=\"display:none;\">\n",
              "        \n",
              "  <svg xmlns=\"http://www.w3.org/2000/svg\" height=\"24px\"viewBox=\"0 0 24 24\"\n",
              "       width=\"24px\">\n",
              "    <path d=\"M0 0h24v24H0V0z\" fill=\"none\"/>\n",
              "    <path d=\"M18.56 5.44l.94 2.06.94-2.06 2.06-.94-2.06-.94-.94-2.06-.94 2.06-2.06.94zm-11 1L8.5 8.5l.94-2.06 2.06-.94-2.06-.94L8.5 2.5l-.94 2.06-2.06.94zm10 10l.94 2.06.94-2.06 2.06-.94-2.06-.94-.94-2.06-.94 2.06-2.06.94z\"/><path d=\"M17.41 7.96l-1.37-1.37c-.4-.4-.92-.59-1.43-.59-.52 0-1.04.2-1.43.59L10.3 9.45l-7.72 7.72c-.78.78-.78 2.05 0 2.83L4 21.41c.39.39.9.59 1.41.59.51 0 1.02-.2 1.41-.59l7.78-7.78 2.81-2.81c.8-.78.8-2.07 0-2.86zM5.41 20L4 18.59l7.72-7.72 1.47 1.35L5.41 20z\"/>\n",
              "  </svg>\n",
              "      </button>\n",
              "      \n",
              "  <style>\n",
              "    .colab-df-container {\n",
              "      display:flex;\n",
              "      flex-wrap:wrap;\n",
              "      gap: 12px;\n",
              "    }\n",
              "\n",
              "    .colab-df-convert {\n",
              "      background-color: #E8F0FE;\n",
              "      border: none;\n",
              "      border-radius: 50%;\n",
              "      cursor: pointer;\n",
              "      display: none;\n",
              "      fill: #1967D2;\n",
              "      height: 32px;\n",
              "      padding: 0 0 0 0;\n",
              "      width: 32px;\n",
              "    }\n",
              "\n",
              "    .colab-df-convert:hover {\n",
              "      background-color: #E2EBFA;\n",
              "      box-shadow: 0px 1px 2px rgba(60, 64, 67, 0.3), 0px 1px 3px 1px rgba(60, 64, 67, 0.15);\n",
              "      fill: #174EA6;\n",
              "    }\n",
              "\n",
              "    [theme=dark] .colab-df-convert {\n",
              "      background-color: #3B4455;\n",
              "      fill: #D2E3FC;\n",
              "    }\n",
              "\n",
              "    [theme=dark] .colab-df-convert:hover {\n",
              "      background-color: #434B5C;\n",
              "      box-shadow: 0px 1px 3px 1px rgba(0, 0, 0, 0.15);\n",
              "      filter: drop-shadow(0px 1px 2px rgba(0, 0, 0, 0.3));\n",
              "      fill: #FFFFFF;\n",
              "    }\n",
              "  </style>\n",
              "\n",
              "      <script>\n",
              "        const buttonEl =\n",
              "          document.querySelector('#df-3acff42a-cb8d-4280-8094-4a1b3bba0926 button.colab-df-convert');\n",
              "        buttonEl.style.display =\n",
              "          google.colab.kernel.accessAllowed ? 'block' : 'none';\n",
              "\n",
              "        async function convertToInteractive(key) {\n",
              "          const element = document.querySelector('#df-3acff42a-cb8d-4280-8094-4a1b3bba0926');\n",
              "          const dataTable =\n",
              "            await google.colab.kernel.invokeFunction('convertToInteractive',\n",
              "                                                     [key], {});\n",
              "          if (!dataTable) return;\n",
              "\n",
              "          const docLinkHtml = 'Like what you see? Visit the ' +\n",
              "            '<a target=\"_blank\" href=https://colab.research.google.com/notebooks/data_table.ipynb>data table notebook</a>'\n",
              "            + ' to learn more about interactive tables.';\n",
              "          element.innerHTML = '';\n",
              "          dataTable['output_type'] = 'display_data';\n",
              "          await google.colab.output.renderOutput(dataTable, element);\n",
              "          const docLink = document.createElement('div');\n",
              "          docLink.innerHTML = docLinkHtml;\n",
              "          element.appendChild(docLink);\n",
              "        }\n",
              "      </script>\n",
              "    </div>\n",
              "  </div>\n",
              "  "
            ]
          },
          "metadata": {},
          "execution_count": 109
        }
      ],
      "source": [
        "df.head()\n"
      ]
    },
    {
      "cell_type": "code",
      "execution_count": 110,
      "metadata": {
        "colab": {
          "base_uri": "https://localhost:8080/"
        },
        "id": "JoFzyuQHVu59",
        "outputId": "7f2c6ca4-3b0a-469e-ba93-68dc55eb8779"
      },
      "outputs": [
        {
          "output_type": "execute_result",
          "data": {
            "text/plain": [
              "Unnamed: 0               int64\n",
              "Unnamed: 0.1             int64\n",
              "Customer_reviewText     object\n",
              "Unnamed: 3             float64\n",
              "Unnamed: 4              object\n",
              "dtype: object"
            ]
          },
          "metadata": {},
          "execution_count": 110
        }
      ],
      "source": [
        "#convert to string\n",
        "df['Customer_reviewText'] = df['Customer_reviewText'].astype(str) \n",
        "df.dtypes"
      ]
    },
    {
      "cell_type": "code",
      "execution_count": 111,
      "metadata": {
        "colab": {
          "base_uri": "https://localhost:8080/"
        },
        "id": "RwJGt2ldqLD6",
        "outputId": "6495219b-8dbc-4f2f-8dc6-7dd1108e98c4"
      },
      "outputs": [
        {
          "output_type": "execute_result",
          "data": {
            "text/plain": [
              "Unnamed: 0                 0\n",
              "Unnamed: 0.1               0\n",
              "Customer_reviewText        0\n",
              "Unnamed: 3             55000\n",
              "Unnamed: 4             54998\n",
              "dtype: int64"
            ]
          },
          "metadata": {},
          "execution_count": 111
        }
      ],
      "source": [
        "df.isnull().sum()"
      ]
    },
    {
      "cell_type": "code",
      "execution_count": 112,
      "metadata": {
        "colab": {
          "base_uri": "https://localhost:8080/",
          "height": 424
        },
        "id": "-CgKRyQ5zZBa",
        "outputId": "93042a70-b15d-4483-fdcf-1ff385ece4f1"
      },
      "outputs": [
        {
          "output_type": "execute_result",
          "data": {
            "text/plain": [
              "       Unnamed: 0  Unnamed: 0.1  \\\n",
              "0           65000         65000   \n",
              "1           65001         65001   \n",
              "2           65002         65002   \n",
              "3           65003         65003   \n",
              "4           65004         65004   \n",
              "...           ...           ...   \n",
              "54995      119995        119995   \n",
              "54996      119996        119996   \n",
              "54997      119997        119997   \n",
              "54998      119998        119998   \n",
              "54999      119999        119999   \n",
              "\n",
              "                                     Customer_reviewText  Unnamed: 3  \\\n",
              "0         \"fits great but not too hot and bulky so it...         NaN   \n",
              "1         \"great lounge set!  i now own both colors a...         NaN   \n",
              "2         \"i ordered both colors and i am in love wit...         NaN   \n",
              "3         \"i purchased these for myself and was so ha...         NaN   \n",
              "4         \"i bought this for my son-in-law.  he put i...         NaN   \n",
              "...                                                  ...         ...   \n",
              "54995     \"absolutely love this robe. looks like it s...         NaN   \n",
              "54996                       \"this robe fits true to size         NaN   \n",
              "54997     \"this is a superior satin men's robe.  grea...         NaN   \n",
              "54998                  \"this is a great item.  no lining         NaN   \n",
              "54999     \"previously i had a silk robe which i liked...         NaN   \n",
              "\n",
              "      Unnamed: 4  \n",
              "0            NaN  \n",
              "1            NaN  \n",
              "2            NaN  \n",
              "3            NaN  \n",
              "4            NaN  \n",
              "...          ...  \n",
              "54995        NaN  \n",
              "54996        NaN  \n",
              "54997        NaN  \n",
              "54998        NaN  \n",
              "54999        NaN  \n",
              "\n",
              "[52869 rows x 5 columns]"
            ],
            "text/html": [
              "\n",
              "  <div id=\"df-52c897cb-18a0-41ef-ac2b-4352b946edf3\">\n",
              "    <div class=\"colab-df-container\">\n",
              "      <div>\n",
              "<style scoped>\n",
              "    .dataframe tbody tr th:only-of-type {\n",
              "        vertical-align: middle;\n",
              "    }\n",
              "\n",
              "    .dataframe tbody tr th {\n",
              "        vertical-align: top;\n",
              "    }\n",
              "\n",
              "    .dataframe thead th {\n",
              "        text-align: right;\n",
              "    }\n",
              "</style>\n",
              "<table border=\"1\" class=\"dataframe\">\n",
              "  <thead>\n",
              "    <tr style=\"text-align: right;\">\n",
              "      <th></th>\n",
              "      <th>Unnamed: 0</th>\n",
              "      <th>Unnamed: 0.1</th>\n",
              "      <th>Customer_reviewText</th>\n",
              "      <th>Unnamed: 3</th>\n",
              "      <th>Unnamed: 4</th>\n",
              "    </tr>\n",
              "  </thead>\n",
              "  <tbody>\n",
              "    <tr>\n",
              "      <th>0</th>\n",
              "      <td>65000</td>\n",
              "      <td>65000</td>\n",
              "      <td>\"fits great but not too hot and bulky so it...</td>\n",
              "      <td>NaN</td>\n",
              "      <td>NaN</td>\n",
              "    </tr>\n",
              "    <tr>\n",
              "      <th>1</th>\n",
              "      <td>65001</td>\n",
              "      <td>65001</td>\n",
              "      <td>\"great lounge set!  i now own both colors a...</td>\n",
              "      <td>NaN</td>\n",
              "      <td>NaN</td>\n",
              "    </tr>\n",
              "    <tr>\n",
              "      <th>2</th>\n",
              "      <td>65002</td>\n",
              "      <td>65002</td>\n",
              "      <td>\"i ordered both colors and i am in love wit...</td>\n",
              "      <td>NaN</td>\n",
              "      <td>NaN</td>\n",
              "    </tr>\n",
              "    <tr>\n",
              "      <th>3</th>\n",
              "      <td>65003</td>\n",
              "      <td>65003</td>\n",
              "      <td>\"i purchased these for myself and was so ha...</td>\n",
              "      <td>NaN</td>\n",
              "      <td>NaN</td>\n",
              "    </tr>\n",
              "    <tr>\n",
              "      <th>4</th>\n",
              "      <td>65004</td>\n",
              "      <td>65004</td>\n",
              "      <td>\"i bought this for my son-in-law.  he put i...</td>\n",
              "      <td>NaN</td>\n",
              "      <td>NaN</td>\n",
              "    </tr>\n",
              "    <tr>\n",
              "      <th>...</th>\n",
              "      <td>...</td>\n",
              "      <td>...</td>\n",
              "      <td>...</td>\n",
              "      <td>...</td>\n",
              "      <td>...</td>\n",
              "    </tr>\n",
              "    <tr>\n",
              "      <th>54995</th>\n",
              "      <td>119995</td>\n",
              "      <td>119995</td>\n",
              "      <td>\"absolutely love this robe. looks like it s...</td>\n",
              "      <td>NaN</td>\n",
              "      <td>NaN</td>\n",
              "    </tr>\n",
              "    <tr>\n",
              "      <th>54996</th>\n",
              "      <td>119996</td>\n",
              "      <td>119996</td>\n",
              "      <td>\"this robe fits true to size</td>\n",
              "      <td>NaN</td>\n",
              "      <td>NaN</td>\n",
              "    </tr>\n",
              "    <tr>\n",
              "      <th>54997</th>\n",
              "      <td>119997</td>\n",
              "      <td>119997</td>\n",
              "      <td>\"this is a superior satin men's robe.  grea...</td>\n",
              "      <td>NaN</td>\n",
              "      <td>NaN</td>\n",
              "    </tr>\n",
              "    <tr>\n",
              "      <th>54998</th>\n",
              "      <td>119998</td>\n",
              "      <td>119998</td>\n",
              "      <td>\"this is a great item.  no lining</td>\n",
              "      <td>NaN</td>\n",
              "      <td>NaN</td>\n",
              "    </tr>\n",
              "    <tr>\n",
              "      <th>54999</th>\n",
              "      <td>119999</td>\n",
              "      <td>119999</td>\n",
              "      <td>\"previously i had a silk robe which i liked...</td>\n",
              "      <td>NaN</td>\n",
              "      <td>NaN</td>\n",
              "    </tr>\n",
              "  </tbody>\n",
              "</table>\n",
              "<p>52869 rows × 5 columns</p>\n",
              "</div>\n",
              "      <button class=\"colab-df-convert\" onclick=\"convertToInteractive('df-52c897cb-18a0-41ef-ac2b-4352b946edf3')\"\n",
              "              title=\"Convert this dataframe to an interactive table.\"\n",
              "              style=\"display:none;\">\n",
              "        \n",
              "  <svg xmlns=\"http://www.w3.org/2000/svg\" height=\"24px\"viewBox=\"0 0 24 24\"\n",
              "       width=\"24px\">\n",
              "    <path d=\"M0 0h24v24H0V0z\" fill=\"none\"/>\n",
              "    <path d=\"M18.56 5.44l.94 2.06.94-2.06 2.06-.94-2.06-.94-.94-2.06-.94 2.06-2.06.94zm-11 1L8.5 8.5l.94-2.06 2.06-.94-2.06-.94L8.5 2.5l-.94 2.06-2.06.94zm10 10l.94 2.06.94-2.06 2.06-.94-2.06-.94-.94-2.06-.94 2.06-2.06.94z\"/><path d=\"M17.41 7.96l-1.37-1.37c-.4-.4-.92-.59-1.43-.59-.52 0-1.04.2-1.43.59L10.3 9.45l-7.72 7.72c-.78.78-.78 2.05 0 2.83L4 21.41c.39.39.9.59 1.41.59.51 0 1.02-.2 1.41-.59l7.78-7.78 2.81-2.81c.8-.78.8-2.07 0-2.86zM5.41 20L4 18.59l7.72-7.72 1.47 1.35L5.41 20z\"/>\n",
              "  </svg>\n",
              "      </button>\n",
              "      \n",
              "  <style>\n",
              "    .colab-df-container {\n",
              "      display:flex;\n",
              "      flex-wrap:wrap;\n",
              "      gap: 12px;\n",
              "    }\n",
              "\n",
              "    .colab-df-convert {\n",
              "      background-color: #E8F0FE;\n",
              "      border: none;\n",
              "      border-radius: 50%;\n",
              "      cursor: pointer;\n",
              "      display: none;\n",
              "      fill: #1967D2;\n",
              "      height: 32px;\n",
              "      padding: 0 0 0 0;\n",
              "      width: 32px;\n",
              "    }\n",
              "\n",
              "    .colab-df-convert:hover {\n",
              "      background-color: #E2EBFA;\n",
              "      box-shadow: 0px 1px 2px rgba(60, 64, 67, 0.3), 0px 1px 3px 1px rgba(60, 64, 67, 0.15);\n",
              "      fill: #174EA6;\n",
              "    }\n",
              "\n",
              "    [theme=dark] .colab-df-convert {\n",
              "      background-color: #3B4455;\n",
              "      fill: #D2E3FC;\n",
              "    }\n",
              "\n",
              "    [theme=dark] .colab-df-convert:hover {\n",
              "      background-color: #434B5C;\n",
              "      box-shadow: 0px 1px 3px 1px rgba(0, 0, 0, 0.15);\n",
              "      filter: drop-shadow(0px 1px 2px rgba(0, 0, 0, 0.3));\n",
              "      fill: #FFFFFF;\n",
              "    }\n",
              "  </style>\n",
              "\n",
              "      <script>\n",
              "        const buttonEl =\n",
              "          document.querySelector('#df-52c897cb-18a0-41ef-ac2b-4352b946edf3 button.colab-df-convert');\n",
              "        buttonEl.style.display =\n",
              "          google.colab.kernel.accessAllowed ? 'block' : 'none';\n",
              "\n",
              "        async function convertToInteractive(key) {\n",
              "          const element = document.querySelector('#df-52c897cb-18a0-41ef-ac2b-4352b946edf3');\n",
              "          const dataTable =\n",
              "            await google.colab.kernel.invokeFunction('convertToInteractive',\n",
              "                                                     [key], {});\n",
              "          if (!dataTable) return;\n",
              "\n",
              "          const docLinkHtml = 'Like what you see? Visit the ' +\n",
              "            '<a target=\"_blank\" href=https://colab.research.google.com/notebooks/data_table.ipynb>data table notebook</a>'\n",
              "            + ' to learn more about interactive tables.';\n",
              "          element.innerHTML = '';\n",
              "          dataTable['output_type'] = 'display_data';\n",
              "          await google.colab.output.renderOutput(dataTable, element);\n",
              "          const docLink = document.createElement('div');\n",
              "          docLink.innerHTML = docLinkHtml;\n",
              "          element.appendChild(docLink);\n",
              "        }\n",
              "      </script>\n",
              "    </div>\n",
              "  </div>\n",
              "  "
            ]
          },
          "metadata": {},
          "execution_count": 112
        }
      ],
      "source": [
        "df = df.drop_duplicates(subset=['Customer_reviewText'])\n",
        "df"
      ]
    },
    {
      "cell_type": "code",
      "execution_count": 113,
      "metadata": {
        "colab": {
          "base_uri": "https://localhost:8080/",
          "height": 424
        },
        "id": "dai-8fYnMH5A",
        "outputId": "72baba78-f396-462d-c194-5606cedd89aa"
      },
      "outputs": [
        {
          "output_type": "execute_result",
          "data": {
            "text/plain": [
              "                                     Customer_reviewText\n",
              "0         \"fits great but not too hot and bulky so it...\n",
              "1         \"great lounge set!  i now own both colors a...\n",
              "2         \"i ordered both colors and i am in love wit...\n",
              "3         \"i purchased these for myself and was so ha...\n",
              "4         \"i bought this for my son-in-law.  he put i...\n",
              "...                                                  ...\n",
              "54995     \"absolutely love this robe. looks like it s...\n",
              "54996                       \"this robe fits true to size\n",
              "54997     \"this is a superior satin men's robe.  grea...\n",
              "54998                  \"this is a great item.  no lining\n",
              "54999     \"previously i had a silk robe which i liked...\n",
              "\n",
              "[52869 rows x 1 columns]"
            ],
            "text/html": [
              "\n",
              "  <div id=\"df-d1c177c6-c1e2-4756-9827-cf3ed3bac683\">\n",
              "    <div class=\"colab-df-container\">\n",
              "      <div>\n",
              "<style scoped>\n",
              "    .dataframe tbody tr th:only-of-type {\n",
              "        vertical-align: middle;\n",
              "    }\n",
              "\n",
              "    .dataframe tbody tr th {\n",
              "        vertical-align: top;\n",
              "    }\n",
              "\n",
              "    .dataframe thead th {\n",
              "        text-align: right;\n",
              "    }\n",
              "</style>\n",
              "<table border=\"1\" class=\"dataframe\">\n",
              "  <thead>\n",
              "    <tr style=\"text-align: right;\">\n",
              "      <th></th>\n",
              "      <th>Customer_reviewText</th>\n",
              "    </tr>\n",
              "  </thead>\n",
              "  <tbody>\n",
              "    <tr>\n",
              "      <th>0</th>\n",
              "      <td>\"fits great but not too hot and bulky so it...</td>\n",
              "    </tr>\n",
              "    <tr>\n",
              "      <th>1</th>\n",
              "      <td>\"great lounge set!  i now own both colors a...</td>\n",
              "    </tr>\n",
              "    <tr>\n",
              "      <th>2</th>\n",
              "      <td>\"i ordered both colors and i am in love wit...</td>\n",
              "    </tr>\n",
              "    <tr>\n",
              "      <th>3</th>\n",
              "      <td>\"i purchased these for myself and was so ha...</td>\n",
              "    </tr>\n",
              "    <tr>\n",
              "      <th>4</th>\n",
              "      <td>\"i bought this for my son-in-law.  he put i...</td>\n",
              "    </tr>\n",
              "    <tr>\n",
              "      <th>...</th>\n",
              "      <td>...</td>\n",
              "    </tr>\n",
              "    <tr>\n",
              "      <th>54995</th>\n",
              "      <td>\"absolutely love this robe. looks like it s...</td>\n",
              "    </tr>\n",
              "    <tr>\n",
              "      <th>54996</th>\n",
              "      <td>\"this robe fits true to size</td>\n",
              "    </tr>\n",
              "    <tr>\n",
              "      <th>54997</th>\n",
              "      <td>\"this is a superior satin men's robe.  grea...</td>\n",
              "    </tr>\n",
              "    <tr>\n",
              "      <th>54998</th>\n",
              "      <td>\"this is a great item.  no lining</td>\n",
              "    </tr>\n",
              "    <tr>\n",
              "      <th>54999</th>\n",
              "      <td>\"previously i had a silk robe which i liked...</td>\n",
              "    </tr>\n",
              "  </tbody>\n",
              "</table>\n",
              "<p>52869 rows × 1 columns</p>\n",
              "</div>\n",
              "      <button class=\"colab-df-convert\" onclick=\"convertToInteractive('df-d1c177c6-c1e2-4756-9827-cf3ed3bac683')\"\n",
              "              title=\"Convert this dataframe to an interactive table.\"\n",
              "              style=\"display:none;\">\n",
              "        \n",
              "  <svg xmlns=\"http://www.w3.org/2000/svg\" height=\"24px\"viewBox=\"0 0 24 24\"\n",
              "       width=\"24px\">\n",
              "    <path d=\"M0 0h24v24H0V0z\" fill=\"none\"/>\n",
              "    <path d=\"M18.56 5.44l.94 2.06.94-2.06 2.06-.94-2.06-.94-.94-2.06-.94 2.06-2.06.94zm-11 1L8.5 8.5l.94-2.06 2.06-.94-2.06-.94L8.5 2.5l-.94 2.06-2.06.94zm10 10l.94 2.06.94-2.06 2.06-.94-2.06-.94-.94-2.06-.94 2.06-2.06.94z\"/><path d=\"M17.41 7.96l-1.37-1.37c-.4-.4-.92-.59-1.43-.59-.52 0-1.04.2-1.43.59L10.3 9.45l-7.72 7.72c-.78.78-.78 2.05 0 2.83L4 21.41c.39.39.9.59 1.41.59.51 0 1.02-.2 1.41-.59l7.78-7.78 2.81-2.81c.8-.78.8-2.07 0-2.86zM5.41 20L4 18.59l7.72-7.72 1.47 1.35L5.41 20z\"/>\n",
              "  </svg>\n",
              "      </button>\n",
              "      \n",
              "  <style>\n",
              "    .colab-df-container {\n",
              "      display:flex;\n",
              "      flex-wrap:wrap;\n",
              "      gap: 12px;\n",
              "    }\n",
              "\n",
              "    .colab-df-convert {\n",
              "      background-color: #E8F0FE;\n",
              "      border: none;\n",
              "      border-radius: 50%;\n",
              "      cursor: pointer;\n",
              "      display: none;\n",
              "      fill: #1967D2;\n",
              "      height: 32px;\n",
              "      padding: 0 0 0 0;\n",
              "      width: 32px;\n",
              "    }\n",
              "\n",
              "    .colab-df-convert:hover {\n",
              "      background-color: #E2EBFA;\n",
              "      box-shadow: 0px 1px 2px rgba(60, 64, 67, 0.3), 0px 1px 3px 1px rgba(60, 64, 67, 0.15);\n",
              "      fill: #174EA6;\n",
              "    }\n",
              "\n",
              "    [theme=dark] .colab-df-convert {\n",
              "      background-color: #3B4455;\n",
              "      fill: #D2E3FC;\n",
              "    }\n",
              "\n",
              "    [theme=dark] .colab-df-convert:hover {\n",
              "      background-color: #434B5C;\n",
              "      box-shadow: 0px 1px 3px 1px rgba(0, 0, 0, 0.15);\n",
              "      filter: drop-shadow(0px 1px 2px rgba(0, 0, 0, 0.3));\n",
              "      fill: #FFFFFF;\n",
              "    }\n",
              "  </style>\n",
              "\n",
              "      <script>\n",
              "        const buttonEl =\n",
              "          document.querySelector('#df-d1c177c6-c1e2-4756-9827-cf3ed3bac683 button.colab-df-convert');\n",
              "        buttonEl.style.display =\n",
              "          google.colab.kernel.accessAllowed ? 'block' : 'none';\n",
              "\n",
              "        async function convertToInteractive(key) {\n",
              "          const element = document.querySelector('#df-d1c177c6-c1e2-4756-9827-cf3ed3bac683');\n",
              "          const dataTable =\n",
              "            await google.colab.kernel.invokeFunction('convertToInteractive',\n",
              "                                                     [key], {});\n",
              "          if (!dataTable) return;\n",
              "\n",
              "          const docLinkHtml = 'Like what you see? Visit the ' +\n",
              "            '<a target=\"_blank\" href=https://colab.research.google.com/notebooks/data_table.ipynb>data table notebook</a>'\n",
              "            + ' to learn more about interactive tables.';\n",
              "          element.innerHTML = '';\n",
              "          dataTable['output_type'] = 'display_data';\n",
              "          await google.colab.output.renderOutput(dataTable, element);\n",
              "          const docLink = document.createElement('div');\n",
              "          docLink.innerHTML = docLinkHtml;\n",
              "          element.appendChild(docLink);\n",
              "        }\n",
              "      </script>\n",
              "    </div>\n",
              "  </div>\n",
              "  "
            ]
          },
          "metadata": {},
          "execution_count": 113
        }
      ],
      "source": [
        "df = df.drop(columns = ['Unnamed: 0','Unnamed: 0.1','Unnamed: 3','Unnamed: 4'])\n",
        "df"
      ]
    },
    {
      "cell_type": "code",
      "execution_count": 114,
      "metadata": {
        "id": "OET-ot6TJreQ"
      },
      "outputs": [],
      "source": [
        "from textblob import Word, TextBlob"
      ]
    },
    {
      "cell_type": "code",
      "execution_count": 115,
      "metadata": {
        "colab": {
          "base_uri": "https://localhost:8080/",
          "height": 424
        },
        "id": "B-f1PSY91CRk",
        "outputId": "165d134c-c351-4baf-aad8-c41d9043f733"
      },
      "outputs": [
        {
          "output_type": "execute_result",
          "data": {
            "text/plain": [
              "                                     Customer_reviewText  polarity  \\\n",
              "0         \"fits great but not too hot and bulky so it...  0.683333   \n",
              "1         \"great lounge set!  i now own both colors a...  0.812500   \n",
              "2         \"i ordered both colors and i am in love wit...  0.300000   \n",
              "3         \"i purchased these for myself and was so ha...  0.187500   \n",
              "4         \"i bought this for my son-in-law.  he put i...  0.700000   \n",
              "...                                                  ...       ...   \n",
              "54995     \"absolutely love this robe. looks like it s...  0.182099   \n",
              "54996                       \"this robe fits true to size  0.350000   \n",
              "54997     \"this is a superior satin men's robe.  grea...  0.642222   \n",
              "54998                  \"this is a great item.  no lining  0.800000   \n",
              "54999     \"previously i had a silk robe which i liked...  0.061111   \n",
              "\n",
              "       subjectivity  \n",
              "0          0.866667  \n",
              "1          0.937500  \n",
              "2          0.475000  \n",
              "3          0.687500  \n",
              "4          0.800000  \n",
              "...             ...  \n",
              "54995      0.403086  \n",
              "54996      0.650000  \n",
              "54997      0.785556  \n",
              "54998      0.750000  \n",
              "54999      0.455556  \n",
              "\n",
              "[52869 rows x 3 columns]"
            ],
            "text/html": [
              "\n",
              "  <div id=\"df-432b2fbe-5ca9-4862-a4e0-a65562f7a1e7\">\n",
              "    <div class=\"colab-df-container\">\n",
              "      <div>\n",
              "<style scoped>\n",
              "    .dataframe tbody tr th:only-of-type {\n",
              "        vertical-align: middle;\n",
              "    }\n",
              "\n",
              "    .dataframe tbody tr th {\n",
              "        vertical-align: top;\n",
              "    }\n",
              "\n",
              "    .dataframe thead th {\n",
              "        text-align: right;\n",
              "    }\n",
              "</style>\n",
              "<table border=\"1\" class=\"dataframe\">\n",
              "  <thead>\n",
              "    <tr style=\"text-align: right;\">\n",
              "      <th></th>\n",
              "      <th>Customer_reviewText</th>\n",
              "      <th>polarity</th>\n",
              "      <th>subjectivity</th>\n",
              "    </tr>\n",
              "  </thead>\n",
              "  <tbody>\n",
              "    <tr>\n",
              "      <th>0</th>\n",
              "      <td>\"fits great but not too hot and bulky so it...</td>\n",
              "      <td>0.683333</td>\n",
              "      <td>0.866667</td>\n",
              "    </tr>\n",
              "    <tr>\n",
              "      <th>1</th>\n",
              "      <td>\"great lounge set!  i now own both colors a...</td>\n",
              "      <td>0.812500</td>\n",
              "      <td>0.937500</td>\n",
              "    </tr>\n",
              "    <tr>\n",
              "      <th>2</th>\n",
              "      <td>\"i ordered both colors and i am in love wit...</td>\n",
              "      <td>0.300000</td>\n",
              "      <td>0.475000</td>\n",
              "    </tr>\n",
              "    <tr>\n",
              "      <th>3</th>\n",
              "      <td>\"i purchased these for myself and was so ha...</td>\n",
              "      <td>0.187500</td>\n",
              "      <td>0.687500</td>\n",
              "    </tr>\n",
              "    <tr>\n",
              "      <th>4</th>\n",
              "      <td>\"i bought this for my son-in-law.  he put i...</td>\n",
              "      <td>0.700000</td>\n",
              "      <td>0.800000</td>\n",
              "    </tr>\n",
              "    <tr>\n",
              "      <th>...</th>\n",
              "      <td>...</td>\n",
              "      <td>...</td>\n",
              "      <td>...</td>\n",
              "    </tr>\n",
              "    <tr>\n",
              "      <th>54995</th>\n",
              "      <td>\"absolutely love this robe. looks like it s...</td>\n",
              "      <td>0.182099</td>\n",
              "      <td>0.403086</td>\n",
              "    </tr>\n",
              "    <tr>\n",
              "      <th>54996</th>\n",
              "      <td>\"this robe fits true to size</td>\n",
              "      <td>0.350000</td>\n",
              "      <td>0.650000</td>\n",
              "    </tr>\n",
              "    <tr>\n",
              "      <th>54997</th>\n",
              "      <td>\"this is a superior satin men's robe.  grea...</td>\n",
              "      <td>0.642222</td>\n",
              "      <td>0.785556</td>\n",
              "    </tr>\n",
              "    <tr>\n",
              "      <th>54998</th>\n",
              "      <td>\"this is a great item.  no lining</td>\n",
              "      <td>0.800000</td>\n",
              "      <td>0.750000</td>\n",
              "    </tr>\n",
              "    <tr>\n",
              "      <th>54999</th>\n",
              "      <td>\"previously i had a silk robe which i liked...</td>\n",
              "      <td>0.061111</td>\n",
              "      <td>0.455556</td>\n",
              "    </tr>\n",
              "  </tbody>\n",
              "</table>\n",
              "<p>52869 rows × 3 columns</p>\n",
              "</div>\n",
              "      <button class=\"colab-df-convert\" onclick=\"convertToInteractive('df-432b2fbe-5ca9-4862-a4e0-a65562f7a1e7')\"\n",
              "              title=\"Convert this dataframe to an interactive table.\"\n",
              "              style=\"display:none;\">\n",
              "        \n",
              "  <svg xmlns=\"http://www.w3.org/2000/svg\" height=\"24px\"viewBox=\"0 0 24 24\"\n",
              "       width=\"24px\">\n",
              "    <path d=\"M0 0h24v24H0V0z\" fill=\"none\"/>\n",
              "    <path d=\"M18.56 5.44l.94 2.06.94-2.06 2.06-.94-2.06-.94-.94-2.06-.94 2.06-2.06.94zm-11 1L8.5 8.5l.94-2.06 2.06-.94-2.06-.94L8.5 2.5l-.94 2.06-2.06.94zm10 10l.94 2.06.94-2.06 2.06-.94-2.06-.94-.94-2.06-.94 2.06-2.06.94z\"/><path d=\"M17.41 7.96l-1.37-1.37c-.4-.4-.92-.59-1.43-.59-.52 0-1.04.2-1.43.59L10.3 9.45l-7.72 7.72c-.78.78-.78 2.05 0 2.83L4 21.41c.39.39.9.59 1.41.59.51 0 1.02-.2 1.41-.59l7.78-7.78 2.81-2.81c.8-.78.8-2.07 0-2.86zM5.41 20L4 18.59l7.72-7.72 1.47 1.35L5.41 20z\"/>\n",
              "  </svg>\n",
              "      </button>\n",
              "      \n",
              "  <style>\n",
              "    .colab-df-container {\n",
              "      display:flex;\n",
              "      flex-wrap:wrap;\n",
              "      gap: 12px;\n",
              "    }\n",
              "\n",
              "    .colab-df-convert {\n",
              "      background-color: #E8F0FE;\n",
              "      border: none;\n",
              "      border-radius: 50%;\n",
              "      cursor: pointer;\n",
              "      display: none;\n",
              "      fill: #1967D2;\n",
              "      height: 32px;\n",
              "      padding: 0 0 0 0;\n",
              "      width: 32px;\n",
              "    }\n",
              "\n",
              "    .colab-df-convert:hover {\n",
              "      background-color: #E2EBFA;\n",
              "      box-shadow: 0px 1px 2px rgba(60, 64, 67, 0.3), 0px 1px 3px 1px rgba(60, 64, 67, 0.15);\n",
              "      fill: #174EA6;\n",
              "    }\n",
              "\n",
              "    [theme=dark] .colab-df-convert {\n",
              "      background-color: #3B4455;\n",
              "      fill: #D2E3FC;\n",
              "    }\n",
              "\n",
              "    [theme=dark] .colab-df-convert:hover {\n",
              "      background-color: #434B5C;\n",
              "      box-shadow: 0px 1px 3px 1px rgba(0, 0, 0, 0.15);\n",
              "      filter: drop-shadow(0px 1px 2px rgba(0, 0, 0, 0.3));\n",
              "      fill: #FFFFFF;\n",
              "    }\n",
              "  </style>\n",
              "\n",
              "      <script>\n",
              "        const buttonEl =\n",
              "          document.querySelector('#df-432b2fbe-5ca9-4862-a4e0-a65562f7a1e7 button.colab-df-convert');\n",
              "        buttonEl.style.display =\n",
              "          google.colab.kernel.accessAllowed ? 'block' : 'none';\n",
              "\n",
              "        async function convertToInteractive(key) {\n",
              "          const element = document.querySelector('#df-432b2fbe-5ca9-4862-a4e0-a65562f7a1e7');\n",
              "          const dataTable =\n",
              "            await google.colab.kernel.invokeFunction('convertToInteractive',\n",
              "                                                     [key], {});\n",
              "          if (!dataTable) return;\n",
              "\n",
              "          const docLinkHtml = 'Like what you see? Visit the ' +\n",
              "            '<a target=\"_blank\" href=https://colab.research.google.com/notebooks/data_table.ipynb>data table notebook</a>'\n",
              "            + ' to learn more about interactive tables.';\n",
              "          element.innerHTML = '';\n",
              "          dataTable['output_type'] = 'display_data';\n",
              "          await google.colab.output.renderOutput(dataTable, element);\n",
              "          const docLink = document.createElement('div');\n",
              "          docLink.innerHTML = docLinkHtml;\n",
              "          element.appendChild(docLink);\n",
              "        }\n",
              "      </script>\n",
              "    </div>\n",
              "  </div>\n",
              "  "
            ]
          },
          "metadata": {},
          "execution_count": 115
        }
      ],
      "source": [
        "\n",
        "pol = lambda x: TextBlob(x).sentiment.polarity\n",
        "sub = lambda x: TextBlob(x).sentiment.subjectivity\n",
        "\n",
        "df['polarity'] = df['Customer_reviewText'].apply(pol)\n",
        "df['subjectivity'] = df['Customer_reviewText'].apply(sub)\n",
        "df"
      ]
    },
    {
      "cell_type": "code",
      "execution_count": 116,
      "metadata": {
        "colab": {
          "base_uri": "https://localhost:8080/",
          "height": 248
        },
        "id": "9IYJUG-xJMS3",
        "outputId": "a026f22f-1f50-47bf-d66f-5a15960ea5f7"
      },
      "outputs": [
        {
          "output_type": "display_data",
          "data": {
            "text/plain": [
              "<Figure size 432x288 with 1 Axes>"
            ],
            "image/png": "[encoded data removed]"
          },
          "metadata": {
            "needs_background": "light"
          }
        }
      ],
      "source": [
        "from wordcloud import WordCloud \n",
        "# Plot the Word Cloud\n",
        "allWords = ' '.join([comnt for comnt in df['Customer_reviewText']])\n",
        "wordCloud = WordCloud(width =1000, height =800, random_state = 21, max_font_size = 119).generate(allWords)\n",
        "\n",
        "plt.imshow(wordCloud, interpolation = \"bilinear\")\n",
        "plt.axis('off')\n",
        "plt.show()"
      ]
    },
    {
      "cell_type": "code",
      "execution_count": 117,
      "metadata": {
        "colab": {
          "base_uri": "https://localhost:8080/",
          "height": 424
        },
        "id": "WqVov65g4DaU",
        "outputId": "64343539-0278-4e56-f231-874e5e8bac5a"
      },
      "outputs": [
        {
          "output_type": "execute_result",
          "data": {
            "text/plain": [
              "                                     Customer_reviewText  polarity  \\\n",
              "0         \"fits great but not too hot and bulky so it...  0.683333   \n",
              "1         \"great lounge set!  i now own both colors a...  0.812500   \n",
              "2         \"i ordered both colors and i am in love wit...  0.300000   \n",
              "3         \"i purchased these for myself and was so ha...  0.187500   \n",
              "4         \"i bought this for my son-in-law.  he put i...  0.700000   \n",
              "...                                                  ...       ...   \n",
              "54995     \"absolutely love this robe. looks like it s...  0.182099   \n",
              "54996                       \"this robe fits true to size  0.350000   \n",
              "54997     \"this is a superior satin men's robe.  grea...  0.642222   \n",
              "54998                  \"this is a great item.  no lining  0.800000   \n",
              "54999     \"previously i had a silk robe which i liked...  0.061111   \n",
              "\n",
              "       subjectivity     Class  \n",
              "0          0.866667  Positive  \n",
              "1          0.937500  Positive  \n",
              "2          0.475000  Positive  \n",
              "3          0.687500  Positive  \n",
              "4          0.800000  Positive  \n",
              "...             ...       ...  \n",
              "54995      0.403086  Positive  \n",
              "54996      0.650000  Positive  \n",
              "54997      0.785556  Positive  \n",
              "54998      0.750000  Positive  \n",
              "54999      0.455556  Positive  \n",
              "\n",
              "[52869 rows x 4 columns]"
            ],
            "text/html": [
              "\n",
              "  <div id=\"df-666cc5f0-7013-4425-beca-48db9088db4a\">\n",
              "    <div class=\"colab-df-container\">\n",
              "      <div>\n",
              "<style scoped>\n",
              "    .dataframe tbody tr th:only-of-type {\n",
              "        vertical-align: middle;\n",
              "    }\n",
              "\n",
              "    .dataframe tbody tr th {\n",
              "        vertical-align: top;\n",
              "    }\n",
              "\n",
              "    .dataframe thead th {\n",
              "        text-align: right;\n",
              "    }\n",
              "</style>\n",
              "<table border=\"1\" class=\"dataframe\">\n",
              "  <thead>\n",
              "    <tr style=\"text-align: right;\">\n",
              "      <th></th>\n",
              "      <th>Customer_reviewText</th>\n",
              "      <th>polarity</th>\n",
              "      <th>subjectivity</th>\n",
              "      <th>Class</th>\n",
              "    </tr>\n",
              "  </thead>\n",
              "  <tbody>\n",
              "    <tr>\n",
              "      <th>0</th>\n",
              "      <td>\"fits great but not too hot and bulky so it...</td>\n",
              "      <td>0.683333</td>\n",
              "      <td>0.866667</td>\n",
              "      <td>Positive</td>\n",
              "    </tr>\n",
              "    <tr>\n",
              "      <th>1</th>\n",
              "      <td>\"great lounge set!  i now own both colors a...</td>\n",
              "      <td>0.812500</td>\n",
              "      <td>0.937500</td>\n",
              "      <td>Positive</td>\n",
              "    </tr>\n",
              "    <tr>\n",
              "      <th>2</th>\n",
              "      <td>\"i ordered both colors and i am in love wit...</td>\n",
              "      <td>0.300000</td>\n",
              "      <td>0.475000</td>\n",
              "      <td>Positive</td>\n",
              "    </tr>\n",
              "    <tr>\n",
              "      <th>3</th>\n",
              "      <td>\"i purchased these for myself and was so ha...</td>\n",
              "      <td>0.187500</td>\n",
              "      <td>0.687500</td>\n",
              "      <td>Positive</td>\n",
              "    </tr>\n",
              "    <tr>\n",
              "      <th>4</th>\n",
              "      <td>\"i bought this for my son-in-law.  he put i...</td>\n",
              "      <td>0.700000</td>\n",
              "      <td>0.800000</td>\n",
              "      <td>Positive</td>\n",
              "    </tr>\n",
              "    <tr>\n",
              "      <th>...</th>\n",
              "      <td>...</td>\n",
              "      <td>...</td>\n",
              "      <td>...</td>\n",
              "      <td>...</td>\n",
              "    </tr>\n",
              "    <tr>\n",
              "      <th>54995</th>\n",
              "      <td>\"absolutely love this robe. looks like it s...</td>\n",
              "      <td>0.182099</td>\n",
              "      <td>0.403086</td>\n",
              "      <td>Positive</td>\n",
              "    </tr>\n",
              "    <tr>\n",
              "      <th>54996</th>\n",
              "      <td>\"this robe fits true to size</td>\n",
              "      <td>0.350000</td>\n",
              "      <td>0.650000</td>\n",
              "      <td>Positive</td>\n",
              "    </tr>\n",
              "    <tr>\n",
              "      <th>54997</th>\n",
              "      <td>\"this is a superior satin men's robe.  grea...</td>\n",
              "      <td>0.642222</td>\n",
              "      <td>0.785556</td>\n",
              "      <td>Positive</td>\n",
              "    </tr>\n",
              "    <tr>\n",
              "      <th>54998</th>\n",
              "      <td>\"this is a great item.  no lining</td>\n",
              "      <td>0.800000</td>\n",
              "      <td>0.750000</td>\n",
              "      <td>Positive</td>\n",
              "    </tr>\n",
              "    <tr>\n",
              "      <th>54999</th>\n",
              "      <td>\"previously i had a silk robe which i liked...</td>\n",
              "      <td>0.061111</td>\n",
              "      <td>0.455556</td>\n",
              "      <td>Positive</td>\n",
              "    </tr>\n",
              "  </tbody>\n",
              "</table>\n",
              "<p>52869 rows × 4 columns</p>\n",
              "</div>\n",
              "      <button class=\"colab-df-convert\" onclick=\"convertToInteractive('df-666cc5f0-7013-4425-beca-48db9088db4a')\"\n",
              "              title=\"Convert this dataframe to an interactive table.\"\n",
              "              style=\"display:none;\">\n",
              "        \n",
              "  <svg xmlns=\"http://www.w3.org/2000/svg\" height=\"24px\"viewBox=\"0 0 24 24\"\n",
              "       width=\"24px\">\n",
              "    <path d=\"M0 0h24v24H0V0z\" fill=\"none\"/>\n",
              "    <path d=\"M18.56 5.44l.94 2.06.94-2.06 2.06-.94-2.06-.94-.94-2.06-.94 2.06-2.06.94zm-11 1L8.5 8.5l.94-2.06 2.06-.94-2.06-.94L8.5 2.5l-.94 2.06-2.06.94zm10 10l.94 2.06.94-2.06 2.06-.94-2.06-.94-.94-2.06-.94 2.06-2.06.94z\"/><path d=\"M17.41 7.96l-1.37-1.37c-.4-.4-.92-.59-1.43-.59-.52 0-1.04.2-1.43.59L10.3 9.45l-7.72 7.72c-.78.78-.78 2.05 0 2.83L4 21.41c.39.39.9.59 1.41.59.51 0 1.02-.2 1.41-.59l7.78-7.78 2.81-2.81c.8-.78.8-2.07 0-2.86zM5.41 20L4 18.59l7.72-7.72 1.47 1.35L5.41 20z\"/>\n",
              "  </svg>\n",
              "      </button>\n",
              "      \n",
              "  <style>\n",
              "    .colab-df-container {\n",
              "      display:flex;\n",
              "      flex-wrap:wrap;\n",
              "      gap: 12px;\n",
              "    }\n",
              "\n",
              "    .colab-df-convert {\n",
              "      background-color: #E8F0FE;\n",
              "      border: none;\n",
              "      border-radius: 50%;\n",
              "      cursor: pointer;\n",
              "      display: none;\n",
              "      fill: #1967D2;\n",
              "      height: 32px;\n",
              "      padding: 0 0 0 0;\n",
              "      width: 32px;\n",
              "    }\n",
              "\n",
              "    .colab-df-convert:hover {\n",
              "      background-color: #E2EBFA;\n",
              "      box-shadow: 0px 1px 2px rgba(60, 64, 67, 0.3), 0px 1px 3px 1px rgba(60, 64, 67, 0.15);\n",
              "      fill: #174EA6;\n",
              "    }\n",
              "\n",
              "    [theme=dark] .colab-df-convert {\n",
              "      background-color: #3B4455;\n",
              "      fill: #D2E3FC;\n",
              "    }\n",
              "\n",
              "    [theme=dark] .colab-df-convert:hover {\n",
              "      background-color: #434B5C;\n",
              "      box-shadow: 0px 1px 3px 1px rgba(0, 0, 0, 0.15);\n",
              "      filter: drop-shadow(0px 1px 2px rgba(0, 0, 0, 0.3));\n",
              "      fill: #FFFFFF;\n",
              "    }\n",
              "  </style>\n",
              "\n",
              "      <script>\n",
              "        const buttonEl =\n",
              "          document.querySelector('#df-666cc5f0-7013-4425-beca-48db9088db4a button.colab-df-convert');\n",
              "        buttonEl.style.display =\n",
              "          google.colab.kernel.accessAllowed ? 'block' : 'none';\n",
              "\n",
              "        async function convertToInteractive(key) {\n",
              "          const element = document.querySelector('#df-666cc5f0-7013-4425-beca-48db9088db4a');\n",
              "          const dataTable =\n",
              "            await google.colab.kernel.invokeFunction('convertToInteractive',\n",
              "                                                     [key], {});\n",
              "          if (!dataTable) return;\n",
              "\n",
              "          const docLinkHtml = 'Like what you see? Visit the ' +\n",
              "            '<a target=\"_blank\" href=https://colab.research.google.com/notebooks/data_table.ipynb>data table notebook</a>'\n",
              "            + ' to learn more about interactive tables.';\n",
              "          element.innerHTML = '';\n",
              "          dataTable['output_type'] = 'display_data';\n",
              "          await google.colab.output.renderOutput(dataTable, element);\n",
              "          const docLink = document.createElement('div');\n",
              "          docLink.innerHTML = docLinkHtml;\n",
              "          element.appendChild(docLink);\n",
              "        }\n",
              "      </script>\n",
              "    </div>\n",
              "  </div>\n",
              "  "
            ]
          },
          "metadata": {},
          "execution_count": 117
        }
      ],
      "source": [
        "# Sentiment analysis\n",
        "def getAnalysis(score):\n",
        "  if score < 0:\n",
        "    return 'Negative'\n",
        "  elif score == 0:\n",
        "    return 'Neutral'\n",
        "  else:\n",
        "    return 'Positive'\n",
        "df['Class'] = df['polarity'].apply(getAnalysis)\n",
        "\n",
        "df"
      ]
    },
    {
      "cell_type": "code",
      "execution_count": 118,
      "metadata": {
        "id": "Nibna8guKu90"
      },
      "outputs": [],
      "source": [
        "# Scatter-Plot the polarity and subjectivity in graph\n",
        "# plt.figure(figsize=(8,6))\n",
        "# for i in range(0, df.shape[0]):\n",
        "# \tif df['Class'][i]=='Neutral':\n",
        "#  \t\t plt.scatter(df['polarity'][i], df['subjectivity'][i], color='Blue')\n",
        "# \telif df['Class'][i]=='Positive':\n",
        "#  \t\t plt.scatter(df['polarity'][i], df['subjectivity'][i], color='Green')\n",
        "# \telse:\n",
        "#  \t\t plt.scatter(df['polarity'][i], df['subjectivity'][i], color='Red')\n",
        "\n",
        "# plt.title('Sentiment Analysis')\n",
        "# plt.xlabel('Polarity')\n",
        "# plt.ylabel('Subjectivity')\n",
        "# plt.show()"
      ]
    },
    {
      "cell_type": "code",
      "execution_count": 119,
      "metadata": {
        "colab": {
          "base_uri": "https://localhost:8080/"
        },
        "id": "_PRV_zqeKH4Y",
        "outputId": "c389e96a-db0d-48da-db05-81afff513886"
      },
      "outputs": [
        {
          "output_type": "execute_result",
          "data": {
            "text/plain": [
              "75.0"
            ]
          },
          "metadata": {},
          "execution_count": 119
        }
      ],
      "source": [
        "# Get the percentage of positive comment\n",
        "pcomment = df[df.Class == 'Positive']\n",
        "pcomment = pcomment['Customer_reviewText']\n",
        "round((pcomment.shape[0]/df.shape[0]*100), 1)"
      ]
    },
    {
      "cell_type": "code",
      "execution_count": 120,
      "metadata": {
        "colab": {
          "base_uri": "https://localhost:8080/"
        },
        "id": "bosie_cx86d_",
        "outputId": "8f0b9338-54ee-440a-a9a1-01fcc123552b"
      },
      "outputs": [
        {
          "output_type": "execute_result",
          "data": {
            "text/plain": [
              "11.4"
            ]
          },
          "metadata": {},
          "execution_count": 120
        }
      ],
      "source": [
        "# Get the percentage of negative comment\n",
        "ncomment = df[df.Class == 'Negative']\n",
        "ncomment = ncomment['Customer_reviewText']\n",
        "round((ncomment.shape[0]/df.shape[0]*100), 1)"
      ]
    },
    {
      "cell_type": "code",
      "execution_count": 121,
      "metadata": {
        "colab": {
          "base_uri": "https://localhost:8080/"
        },
        "id": "IVZgSJsi9Un2",
        "outputId": "79c95668-0eb4-4fb8-ed23-52c769d612eb"
      },
      "outputs": [
        {
          "output_type": "execute_result",
          "data": {
            "text/plain": [
              "13.5"
            ]
          },
          "metadata": {},
          "execution_count": 121
        }
      ],
      "source": [
        "# Get the percentage of neutral comment\n",
        "nucomment = df[df.Class == 'Neutral']\n",
        "nucomment = nucomment['Customer_reviewText']\n",
        "round((nucomment.shape[0]/df.shape[0]*100), 1)"
      ]
    },
    {
      "cell_type": "code",
      "execution_count": 122,
      "metadata": {
        "colab": {
          "base_uri": "https://localhost:8080/",
          "height": 369
        },
        "id": "gJnTqvMU9oxX",
        "outputId": "9d6ccc84-ac56-4ab0-bec8-d61286c68bc7"
      },
      "outputs": [
        {
          "output_type": "display_data",
          "data": {
            "text/plain": [
              "<Figure size 432x288 with 1 Axes>"
            ],
            "image/png": "[encoded data removed]"
          },
          "metadata": {
            "needs_background": "light"
          }
        }
      ],
      "source": [
        "import matplotlib.pyplot as plt\n",
        "import numpy as np\n",
        "# Displaying the Sentiment Coutns\n",
        "df['Class'].value_counts()\n",
        "#plot and visualize the counts\n",
        "plt.title('Sentiment Analysis')\n",
        "plt.xlabel('Sentiment')\n",
        "plt.ylabel('Counts')\n",
        "df['Class'].value_counts().plot(kind='bar')\n",
        "plt.show()"
      ]
    },
    {
      "cell_type": "code",
      "execution_count": 123,
      "metadata": {
        "colab": {
          "base_uri": "https://localhost:8080/",
          "height": 248
        },
        "id": "HYU75JTU93p5",
        "outputId": "80f69fa5-f5b6-4f98-c918-6e69a3ee6758"
      },
      "outputs": [
        {
          "output_type": "display_data",
          "data": {
            "text/plain": [
              "<Figure size 432x288 with 1 Axes>"
            ],
            "image/png": "[encoded data removed]"
          },
          "metadata": {}
        }
      ],
      "source": [
        "df['Class'].value_counts().plot(kind='pie')\n",
        "plt.show()"
      ]
    },
    {
      "cell_type": "code",
      "execution_count": 124,
      "metadata": {
        "colab": {
          "base_uri": "https://localhost:8080/"
        },
        "id": "XdnVNBy9NNye",
        "outputId": "8b163bff-a42b-41d3-b0b6-5ed8455a97f9"
      },
      "outputs": [
        {
          "output_type": "stream",
          "name": "stdout",
          "text": [
            "\n",
            "Class Name :  Positive\n",
            "Number of Documents:39664\n",
            "Number of Words:1149214\n",
            "Number of Unique Words:46153\n",
            "Most Frequent Words:\n",
            "\n",
            "the\t44521\n",
            "and\t39272\n",
            "i\t35977\n",
            "a\t32126\n",
            "to\t22523\n",
            "is\t20148\n",
            "for\t18924\n",
            "it\t18913\n",
            "my\t14803\n",
            "are\t14359\n",
            "\n",
            "Class Name :  Neutral\n",
            "Number of Documents:7161\n",
            "Number of Words:74729\n",
            "Number of Unique Words:9129\n",
            "Most Frequent Words:\n",
            "\n",
            "\"i\t2774\n",
            "a\t2445\n",
            "the\t2318\n",
            "for\t1870\n",
            "i\t1671\n",
            "to\t1482\n",
            "this\t1480\n",
            "my\t1420\n",
            "and\t1245\n",
            "of\t1216\n",
            "\n",
            "Class Name :  Negative\n",
            "Number of Documents:6044\n",
            "Number of Words:149128\n",
            "Number of Unique Words:13471\n",
            "Most Frequent Words:\n",
            "\n",
            "the\t6022\n",
            "i\t4663\n",
            "a\t4553\n",
            "and\t3848\n",
            "to\t3210\n",
            "it\t2336\n",
            "is\t2267\n",
            "\"i\t2188\n",
            "for\t2170\n",
            "in\t1899\n",
            "Total Number of Unique Words:52945\n"
          ]
        }
      ],
      "source": [
        "def data_summary(df):\n",
        "    \n",
        "    \"\"\"\n",
        "    This function will print the summary of the reviews and words distribution in the dataset. \n",
        "    \n",
        "    Args:\n",
        "        dataset: list of cleaned sentences   \n",
        "        \n",
        "    Returns:\n",
        "        Number of documnets per class: int \n",
        "        Number of words per class: int\n",
        "        Number of unique words per class: int\n",
        "    \"\"\"\n",
        "    documents = []\n",
        "    words = []\n",
        "    u_words = []\n",
        "    total_u_words = [word.strip().lower() for t in list(df.Customer_reviewText) for word in t.strip().split()]\n",
        "    class_label= [k for k,v in df.Class.value_counts().to_dict().items()]\n",
        "  # find word list\n",
        "    for label in class_label: \n",
        "        word_list = [word.strip().lower() for t in list(df[df.Class==label].Customer_reviewText) for word in t.strip().split()]\n",
        "        counts = dict()\n",
        "        for word in word_list:\n",
        "                counts[word] = counts.get(word, 0)+1\n",
        "        # sort the dictionary of word list  \n",
        "        ordered = sorted(counts.items(), key= lambda item: item[1],reverse = True)\n",
        "        # Documents per class\n",
        "        documents.append(len(list(df[df.Class==label].Customer_reviewText)))\n",
        "        # Total Word per class\n",
        "        words.append(len(word_list))\n",
        "        # Unique words per class \n",
        "        u_words.append(len(np.unique(word_list)))\n",
        "       \n",
        "        print(\"\\nClass Name : \",label)\n",
        "        print(\"Number of Documents:{}\".format(len(list(df[df.Class==label].Customer_reviewText))))  \n",
        "        print(\"Number of Words:{}\".format(len(word_list))) \n",
        "        print(\"Number of Unique Words:{}\".format(len(np.unique(word_list)))) \n",
        "        print(\"Most Frequent Words:\\n\")\n",
        "        for k,v in ordered[:10]:\n",
        "              print(\"{}\\t{}\".format(k,v))\n",
        "    print(\"Total Number of Unique Words:{}\".format(len(np.unique(total_u_words))))           \n",
        "   \n",
        "    return documents,words,u_words,class_label\n",
        "\n",
        "#call the fucntion\n",
        "documents,words,u_words,class_names = data_summary(df)"
      ]
    },
    {
      "cell_type": "markdown",
      "metadata": {
        "id": "yI1GAIUk73WD"
      },
      "source": [
        "                          **Preprocessing**"
      ]
    },
    {
      "cell_type": "markdown",
      "metadata": {
        "id": "Us7Q0Umw-D46"
      },
      "source": [
        "Lower casing"
      ]
    },
    {
      "cell_type": "code",
      "execution_count": 125,
      "metadata": {
        "id": "2Q3GYvvA9u2R"
      },
      "outputs": [],
      "source": [
        "df['Customer_reviewText']=df['Customer_reviewText'].apply(lambda x: x.lower())"
      ]
    },
    {
      "cell_type": "markdown",
      "metadata": {
        "id": "eLdTWDX4Bsoh"
      },
      "source": [
        "Punctuation Remove"
      ]
    },
    {
      "cell_type": "code",
      "execution_count": 126,
      "metadata": {
        "colab": {
          "base_uri": "https://localhost:8080/",
          "height": 35
        },
        "id": "mjQ0bSQcBQkJ",
        "outputId": "bbc4af0e-e83b-4a00-ae15-28107115d3bf"
      },
      "outputs": [
        {
          "output_type": "execute_result",
          "data": {
            "text/plain": [
              "'!\"#$%&\\'()*+,-./:;<=>?@[\\\\]^_`{|}~'"
            ],
            "application/vnd.google.colaboratory.intrinsic+json": {
              "type": "string"
            }
          },
          "metadata": {},
          "execution_count": 126
        }
      ],
      "source": [
        "#library that contains punctuation\n",
        "import string\n",
        "string.punctuation"
      ]
    },
    {
      "cell_type": "code",
      "execution_count": 127,
      "metadata": {
        "colab": {
          "base_uri": "https://localhost:8080/",
          "height": 206
        },
        "id": "XHQ8JhDnBZFd",
        "outputId": "59fb21cb-3f39-4657-f04c-4c6675fa330e"
      },
      "outputs": [
        {
          "output_type": "execute_result",
          "data": {
            "text/plain": [
              "                                 Customer_reviewText  polarity  subjectivity  \\\n",
              "0     fits great but not too hot and bulky so it ...  0.683333      0.866667   \n",
              "1     great lounge set  i now own both colors and...  0.812500      0.937500   \n",
              "2     i ordered both colors and i am in love with...  0.300000      0.475000   \n",
              "3     i purchased these for myself and was so hap...  0.187500      0.687500   \n",
              "4     i bought this for my soninlaw  he put it on...  0.700000      0.800000   \n",
              "\n",
              "      Class  \n",
              "0  Positive  \n",
              "1  Positive  \n",
              "2  Positive  \n",
              "3  Positive  \n",
              "4  Positive  "
            ],
            "text/html": [
              "\n",
              "  <div id=\"df-e7c30d87-c895-414e-bd57-8dcca38d0503\">\n",
              "    <div class=\"colab-df-container\">\n",
              "      <div>\n",
              "<style scoped>\n",
              "    .dataframe tbody tr th:only-of-type {\n",
              "        vertical-align: middle;\n",
              "    }\n",
              "\n",
              "    .dataframe tbody tr th {\n",
              "        vertical-align: top;\n",
              "    }\n",
              "\n",
              "    .dataframe thead th {\n",
              "        text-align: right;\n",
              "    }\n",
              "</style>\n",
              "<table border=\"1\" class=\"dataframe\">\n",
              "  <thead>\n",
              "    <tr style=\"text-align: right;\">\n",
              "      <th></th>\n",
              "      <th>Customer_reviewText</th>\n",
              "      <th>polarity</th>\n",
              "      <th>subjectivity</th>\n",
              "      <th>Class</th>\n",
              "    </tr>\n",
              "  </thead>\n",
              "  <tbody>\n",
              "    <tr>\n",
              "      <th>0</th>\n",
              "      <td>fits great but not too hot and bulky so it ...</td>\n",
              "      <td>0.683333</td>\n",
              "      <td>0.866667</td>\n",
              "      <td>Positive</td>\n",
              "    </tr>\n",
              "    <tr>\n",
              "      <th>1</th>\n",
              "      <td>great lounge set  i now own both colors and...</td>\n",
              "      <td>0.812500</td>\n",
              "      <td>0.937500</td>\n",
              "      <td>Positive</td>\n",
              "    </tr>\n",
              "    <tr>\n",
              "      <th>2</th>\n",
              "      <td>i ordered both colors and i am in love with...</td>\n",
              "      <td>0.300000</td>\n",
              "      <td>0.475000</td>\n",
              "      <td>Positive</td>\n",
              "    </tr>\n",
              "    <tr>\n",
              "      <th>3</th>\n",
              "      <td>i purchased these for myself and was so hap...</td>\n",
              "      <td>0.187500</td>\n",
              "      <td>0.687500</td>\n",
              "      <td>Positive</td>\n",
              "    </tr>\n",
              "    <tr>\n",
              "      <th>4</th>\n",
              "      <td>i bought this for my soninlaw  he put it on...</td>\n",
              "      <td>0.700000</td>\n",
              "      <td>0.800000</td>\n",
              "      <td>Positive</td>\n",
              "    </tr>\n",
              "  </tbody>\n",
              "</table>\n",
              "</div>\n",
              "      <button class=\"colab-df-convert\" onclick=\"convertToInteractive('df-e7c30d87-c895-414e-bd57-8dcca38d0503')\"\n",
              "              title=\"Convert this dataframe to an interactive table.\"\n",
              "              style=\"display:none;\">\n",
              "        \n",
              "  <svg xmlns=\"http://www.w3.org/2000/svg\" height=\"24px\"viewBox=\"0 0 24 24\"\n",
              "       width=\"24px\">\n",
              "    <path d=\"M0 0h24v24H0V0z\" fill=\"none\"/>\n",
              "    <path d=\"M18.56 5.44l.94 2.06.94-2.06 2.06-.94-2.06-.94-.94-2.06-.94 2.06-2.06.94zm-11 1L8.5 8.5l.94-2.06 2.06-.94-2.06-.94L8.5 2.5l-.94 2.06-2.06.94zm10 10l.94 2.06.94-2.06 2.06-.94-2.06-.94-.94-2.06-.94 2.06-2.06.94z\"/><path d=\"M17.41 7.96l-1.37-1.37c-.4-.4-.92-.59-1.43-.59-.52 0-1.04.2-1.43.59L10.3 9.45l-7.72 7.72c-.78.78-.78 2.05 0 2.83L4 21.41c.39.39.9.59 1.41.59.51 0 1.02-.2 1.41-.59l7.78-7.78 2.81-2.81c.8-.78.8-2.07 0-2.86zM5.41 20L4 18.59l7.72-7.72 1.47 1.35L5.41 20z\"/>\n",
              "  </svg>\n",
              "      </button>\n",
              "      \n",
              "  <style>\n",
              "    .colab-df-container {\n",
              "      display:flex;\n",
              "      flex-wrap:wrap;\n",
              "      gap: 12px;\n",
              "    }\n",
              "\n",
              "    .colab-df-convert {\n",
              "      background-color: #E8F0FE;\n",
              "      border: none;\n",
              "      border-radius: 50%;\n",
              "      cursor: pointer;\n",
              "      display: none;\n",
              "      fill: #1967D2;\n",
              "      height: 32px;\n",
              "      padding: 0 0 0 0;\n",
              "      width: 32px;\n",
              "    }\n",
              "\n",
              "    .colab-df-convert:hover {\n",
              "      background-color: #E2EBFA;\n",
              "      box-shadow: 0px 1px 2px rgba(60, 64, 67, 0.3), 0px 1px 3px 1px rgba(60, 64, 67, 0.15);\n",
              "      fill: #174EA6;\n",
              "    }\n",
              "\n",
              "    [theme=dark] .colab-df-convert {\n",
              "      background-color: #3B4455;\n",
              "      fill: #D2E3FC;\n",
              "    }\n",
              "\n",
              "    [theme=dark] .colab-df-convert:hover {\n",
              "      background-color: #434B5C;\n",
              "      box-shadow: 0px 1px 3px 1px rgba(0, 0, 0, 0.15);\n",
              "      filter: drop-shadow(0px 1px 2px rgba(0, 0, 0, 0.3));\n",
              "      fill: #FFFFFF;\n",
              "    }\n",
              "  </style>\n",
              "\n",
              "      <script>\n",
              "        const buttonEl =\n",
              "          document.querySelector('#df-e7c30d87-c895-414e-bd57-8dcca38d0503 button.colab-df-convert');\n",
              "        buttonEl.style.display =\n",
              "          google.colab.kernel.accessAllowed ? 'block' : 'none';\n",
              "\n",
              "        async function convertToInteractive(key) {\n",
              "          const element = document.querySelector('#df-e7c30d87-c895-414e-bd57-8dcca38d0503');\n",
              "          const dataTable =\n",
              "            await google.colab.kernel.invokeFunction('convertToInteractive',\n",
              "                                                     [key], {});\n",
              "          if (!dataTable) return;\n",
              "\n",
              "          const docLinkHtml = 'Like what you see? Visit the ' +\n",
              "            '<a target=\"_blank\" href=https://colab.research.google.com/notebooks/data_table.ipynb>data table notebook</a>'\n",
              "            + ' to learn more about interactive tables.';\n",
              "          element.innerHTML = '';\n",
              "          dataTable['output_type'] = 'display_data';\n",
              "          await google.colab.output.renderOutput(dataTable, element);\n",
              "          const docLink = document.createElement('div');\n",
              "          docLink.innerHTML = docLinkHtml;\n",
              "          element.appendChild(docLink);\n",
              "        }\n",
              "      </script>\n",
              "    </div>\n",
              "  </div>\n",
              "  "
            ]
          },
          "metadata": {},
          "execution_count": 127
        }
      ],
      "source": [
        "#defining the function to remove punctuation\n",
        "def remove_punctuation(text):\n",
        "    punctuationfree=\"\".join([i for i in text if i not in string.punctuation])\n",
        "    return punctuationfree\n",
        "#storing the puntuation free text\n",
        "df['Customer_reviewText']= df['Customer_reviewText'].apply(lambda x:remove_punctuation(x))\n",
        "df.head()"
      ]
    },
    {
      "cell_type": "markdown",
      "metadata": {
        "id": "d7o8I-dNKtxx"
      },
      "source": [
        "Removing URLs"
      ]
    },
    {
      "cell_type": "code",
      "execution_count": 128,
      "metadata": {
        "colab": {
          "base_uri": "https://localhost:8080/",
          "height": 458
        },
        "id": "shaAJIn1JtN5",
        "outputId": "e0e88a27-ffb8-4f5e-dc7a-1ebf5afea303"
      },
      "outputs": [
        {
          "output_type": "stream",
          "name": "stderr",
          "text": [
            "<ipython-input-128-ed3b5d8266e3>:1: FutureWarning: The default value of regex will change from True to False in a future version.\n",
            "  df['Customer_reviewText'] = df['Customer_reviewText'].str.replace('http[s]?://(?:[a-zA-Z]|[0-9]|[$-_@.&+]|[!*\\(\\),]|(?:%[0-9a-fA-F][0-9a-fA-F]))+', ' ')\n"
          ]
        },
        {
          "output_type": "execute_result",
          "data": {
            "text/plain": [
              "                                     Customer_reviewText  polarity  \\\n",
              "0         fits great but not too hot and bulky so it ...  0.683333   \n",
              "1         great lounge set  i now own both colors and...  0.812500   \n",
              "2         i ordered both colors and i am in love with...  0.300000   \n",
              "3         i purchased these for myself and was so hap...  0.187500   \n",
              "4         i bought this for my soninlaw  he put it on...  0.700000   \n",
              "...                                                  ...       ...   \n",
              "54995     absolutely love this robe looks like it sho...  0.182099   \n",
              "54996                        this robe fits true to size  0.350000   \n",
              "54997     this is a superior satin mens robe  great s...  0.642222   \n",
              "54998                    this is a great item  no lining  0.800000   \n",
              "54999     previously i had a silk robe which i liked ...  0.061111   \n",
              "\n",
              "       subjectivity     Class  \n",
              "0          0.866667  Positive  \n",
              "1          0.937500  Positive  \n",
              "2          0.475000  Positive  \n",
              "3          0.687500  Positive  \n",
              "4          0.800000  Positive  \n",
              "...             ...       ...  \n",
              "54995      0.403086  Positive  \n",
              "54996      0.650000  Positive  \n",
              "54997      0.785556  Positive  \n",
              "54998      0.750000  Positive  \n",
              "54999      0.455556  Positive  \n",
              "\n",
              "[52869 rows x 4 columns]"
            ],
            "text/html": [
              "\n",
              "  <div id=\"df-120d2153-5575-4e41-9d5d-0abce54bc152\">\n",
              "    <div class=\"colab-df-container\">\n",
              "      <div>\n",
              "<style scoped>\n",
              "    .dataframe tbody tr th:only-of-type {\n",
              "        vertical-align: middle;\n",
              "    }\n",
              "\n",
              "    .dataframe tbody tr th {\n",
              "        vertical-align: top;\n",
              "    }\n",
              "\n",
              "    .dataframe thead th {\n",
              "        text-align: right;\n",
              "    }\n",
              "</style>\n",
              "<table border=\"1\" class=\"dataframe\">\n",
              "  <thead>\n",
              "    <tr style=\"text-align: right;\">\n",
              "      <th></th>\n",
              "      <th>Customer_reviewText</th>\n",
              "      <th>polarity</th>\n",
              "      <th>subjectivity</th>\n",
              "      <th>Class</th>\n",
              "    </tr>\n",
              "  </thead>\n",
              "  <tbody>\n",
              "    <tr>\n",
              "      <th>0</th>\n",
              "      <td>fits great but not too hot and bulky so it ...</td>\n",
              "      <td>0.683333</td>\n",
              "      <td>0.866667</td>\n",
              "      <td>Positive</td>\n",
              "    </tr>\n",
              "    <tr>\n",
              "      <th>1</th>\n",
              "      <td>great lounge set  i now own both colors and...</td>\n",
              "      <td>0.812500</td>\n",
              "      <td>0.937500</td>\n",
              "      <td>Positive</td>\n",
              "    </tr>\n",
              "    <tr>\n",
              "      <th>2</th>\n",
              "      <td>i ordered both colors and i am in love with...</td>\n",
              "      <td>0.300000</td>\n",
              "      <td>0.475000</td>\n",
              "      <td>Positive</td>\n",
              "    </tr>\n",
              "    <tr>\n",
              "      <th>3</th>\n",
              "      <td>i purchased these for myself and was so hap...</td>\n",
              "      <td>0.187500</td>\n",
              "      <td>0.687500</td>\n",
              "      <td>Positive</td>\n",
              "    </tr>\n",
              "    <tr>\n",
              "      <th>4</th>\n",
              "      <td>i bought this for my soninlaw  he put it on...</td>\n",
              "      <td>0.700000</td>\n",
              "      <td>0.800000</td>\n",
              "      <td>Positive</td>\n",
              "    </tr>\n",
              "    <tr>\n",
              "      <th>...</th>\n",
              "      <td>...</td>\n",
              "      <td>...</td>\n",
              "      <td>...</td>\n",
              "      <td>...</td>\n",
              "    </tr>\n",
              "    <tr>\n",
              "      <th>54995</th>\n",
              "      <td>absolutely love this robe looks like it sho...</td>\n",
              "      <td>0.182099</td>\n",
              "      <td>0.403086</td>\n",
              "      <td>Positive</td>\n",
              "    </tr>\n",
              "    <tr>\n",
              "      <th>54996</th>\n",
              "      <td>this robe fits true to size</td>\n",
              "      <td>0.350000</td>\n",
              "      <td>0.650000</td>\n",
              "      <td>Positive</td>\n",
              "    </tr>\n",
              "    <tr>\n",
              "      <th>54997</th>\n",
              "      <td>this is a superior satin mens robe  great s...</td>\n",
              "      <td>0.642222</td>\n",
              "      <td>0.785556</td>\n",
              "      <td>Positive</td>\n",
              "    </tr>\n",
              "    <tr>\n",
              "      <th>54998</th>\n",
              "      <td>this is a great item  no lining</td>\n",
              "      <td>0.800000</td>\n",
              "      <td>0.750000</td>\n",
              "      <td>Positive</td>\n",
              "    </tr>\n",
              "    <tr>\n",
              "      <th>54999</th>\n",
              "      <td>previously i had a silk robe which i liked ...</td>\n",
              "      <td>0.061111</td>\n",
              "      <td>0.455556</td>\n",
              "      <td>Positive</td>\n",
              "    </tr>\n",
              "  </tbody>\n",
              "</table>\n",
              "<p>52869 rows × 4 columns</p>\n",
              "</div>\n",
              "      <button class=\"colab-df-convert\" onclick=\"convertToInteractive('df-120d2153-5575-4e41-9d5d-0abce54bc152')\"\n",
              "              title=\"Convert this dataframe to an interactive table.\"\n",
              "              style=\"display:none;\">\n",
              "        \n",
              "  <svg xmlns=\"http://www.w3.org/2000/svg\" height=\"24px\"viewBox=\"0 0 24 24\"\n",
              "       width=\"24px\">\n",
              "    <path d=\"M0 0h24v24H0V0z\" fill=\"none\"/>\n",
              "    <path d=\"M18.56 5.44l.94 2.06.94-2.06 2.06-.94-2.06-.94-.94-2.06-.94 2.06-2.06.94zm-11 1L8.5 8.5l.94-2.06 2.06-.94-2.06-.94L8.5 2.5l-.94 2.06-2.06.94zm10 10l.94 2.06.94-2.06 2.06-.94-2.06-.94-.94-2.06-.94 2.06-2.06.94z\"/><path d=\"M17.41 7.96l-1.37-1.37c-.4-.4-.92-.59-1.43-.59-.52 0-1.04.2-1.43.59L10.3 9.45l-7.72 7.72c-.78.78-.78 2.05 0 2.83L4 21.41c.39.39.9.59 1.41.59.51 0 1.02-.2 1.41-.59l7.78-7.78 2.81-2.81c.8-.78.8-2.07 0-2.86zM5.41 20L4 18.59l7.72-7.72 1.47 1.35L5.41 20z\"/>\n",
              "  </svg>\n",
              "      </button>\n",
              "      \n",
              "  <style>\n",
              "    .colab-df-container {\n",
              "      display:flex;\n",
              "      flex-wrap:wrap;\n",
              "      gap: 12px;\n",
              "    }\n",
              "\n",
              "    .colab-df-convert {\n",
              "      background-color: #E8F0FE;\n",
              "      border: none;\n",
              "      border-radius: 50%;\n",
              "      cursor: pointer;\n",
              "      display: none;\n",
              "      fill: #1967D2;\n",
              "      height: 32px;\n",
              "      padding: 0 0 0 0;\n",
              "      width: 32px;\n",
              "    }\n",
              "\n",
              "    .colab-df-convert:hover {\n",
              "      background-color: #E2EBFA;\n",
              "      box-shadow: 0px 1px 2px rgba(60, 64, 67, 0.3), 0px 1px 3px 1px rgba(60, 64, 67, 0.15);\n",
              "      fill: #174EA6;\n",
              "    }\n",
              "\n",
              "    [theme=dark] .colab-df-convert {\n",
              "      background-color: #3B4455;\n",
              "      fill: #D2E3FC;\n",
              "    }\n",
              "\n",
              "    [theme=dark] .colab-df-convert:hover {\n",
              "      background-color: #434B5C;\n",
              "      box-shadow: 0px 1px 3px 1px rgba(0, 0, 0, 0.15);\n",
              "      filter: drop-shadow(0px 1px 2px rgba(0, 0, 0, 0.3));\n",
              "      fill: #FFFFFF;\n",
              "    }\n",
              "  </style>\n",
              "\n",
              "      <script>\n",
              "        const buttonEl =\n",
              "          document.querySelector('#df-120d2153-5575-4e41-9d5d-0abce54bc152 button.colab-df-convert');\n",
              "        buttonEl.style.display =\n",
              "          google.colab.kernel.accessAllowed ? 'block' : 'none';\n",
              "\n",
              "        async function convertToInteractive(key) {\n",
              "          const element = document.querySelector('#df-120d2153-5575-4e41-9d5d-0abce54bc152');\n",
              "          const dataTable =\n",
              "            await google.colab.kernel.invokeFunction('convertToInteractive',\n",
              "                                                     [key], {});\n",
              "          if (!dataTable) return;\n",
              "\n",
              "          const docLinkHtml = 'Like what you see? Visit the ' +\n",
              "            '<a target=\"_blank\" href=https://colab.research.google.com/notebooks/data_table.ipynb>data table notebook</a>'\n",
              "            + ' to learn more about interactive tables.';\n",
              "          element.innerHTML = '';\n",
              "          dataTable['output_type'] = 'display_data';\n",
              "          await google.colab.output.renderOutput(dataTable, element);\n",
              "          const docLink = document.createElement('div');\n",
              "          docLink.innerHTML = docLinkHtml;\n",
              "          element.appendChild(docLink);\n",
              "        }\n",
              "      </script>\n",
              "    </div>\n",
              "  </div>\n",
              "  "
            ]
          },
          "metadata": {},
          "execution_count": 128
        }
      ],
      "source": [
        "df['Customer_reviewText'] = df['Customer_reviewText'].str.replace('http[s]?://(?:[a-zA-Z]|[0-9]|[$-_@.&+]|[!*\\(\\),]|(?:%[0-9a-fA-F][0-9a-fA-F]))+', ' ')\n",
        "df"
      ]
    },
    {
      "cell_type": "markdown",
      "metadata": {
        "id": "F1KmUjgf0EZq"
      },
      "source": [
        "Stopwords\n",
        "\n",
        "It allows us to get rid of commonly used words."
      ]
    },
    {
      "cell_type": "code",
      "execution_count": 129,
      "metadata": {
        "colab": {
          "base_uri": "https://localhost:8080/",
          "height": 424
        },
        "id": "mriSJiETq-6R",
        "outputId": "4cf2071c-5fb5-40f9-dffc-7142c8b93615"
      },
      "outputs": [
        {
          "output_type": "execute_result",
          "data": {
            "text/plain": [
              "                                     Customer_reviewText  polarity  \\\n",
              "0      fits,great,hot,bulky,perfect,lounger,beach,wat...  0.683333   \n",
              "1      great,lounge,set,colors,pleased,excellent,qual...  0.812500   \n",
              "2               ordered,colors,love,lounge,setsthey,soft  0.300000   \n",
              "3      purchased,happy,soft,found,2,holes,inside,leg,...  0.187500   \n",
              "4             bought,soninlaw,put,soon,got,package,loved  0.700000   \n",
              "...                                                  ...       ...   \n",
              "54995  absolutely,love,robe,looks,like,cost,200,im,51...  0.182099   \n",
              "54996                                robe,fits,true,size  0.350000   \n",
              "54997  superior,satin,mens,robe,great,sizing,good,len...  0.642222   \n",
              "54998                                  great,item,lining  0.800000   \n",
              "54999               previously,silk,robe,liked,bit,small  0.061111   \n",
              "\n",
              "       subjectivity     Class  \n",
              "0          0.866667  Positive  \n",
              "1          0.937500  Positive  \n",
              "2          0.475000  Positive  \n",
              "3          0.687500  Positive  \n",
              "4          0.800000  Positive  \n",
              "...             ...       ...  \n",
              "54995      0.403086  Positive  \n",
              "54996      0.650000  Positive  \n",
              "54997      0.785556  Positive  \n",
              "54998      0.750000  Positive  \n",
              "54999      0.455556  Positive  \n",
              "\n",
              "[52869 rows x 4 columns]"
            ],
            "text/html": [
              "\n",
              "  <div id=\"df-aa6ae6eb-5196-49fd-963a-99833991e3dd\">\n",
              "    <div class=\"colab-df-container\">\n",
              "      <div>\n",
              "<style scoped>\n",
              "    .dataframe tbody tr th:only-of-type {\n",
              "        vertical-align: middle;\n",
              "    }\n",
              "\n",
              "    .dataframe tbody tr th {\n",
              "        vertical-align: top;\n",
              "    }\n",
              "\n",
              "    .dataframe thead th {\n",
              "        text-align: right;\n",
              "    }\n",
              "</style>\n",
              "<table border=\"1\" class=\"dataframe\">\n",
              "  <thead>\n",
              "    <tr style=\"text-align: right;\">\n",
              "      <th></th>\n",
              "      <th>Customer_reviewText</th>\n",
              "      <th>polarity</th>\n",
              "      <th>subjectivity</th>\n",
              "      <th>Class</th>\n",
              "    </tr>\n",
              "  </thead>\n",
              "  <tbody>\n",
              "    <tr>\n",
              "      <th>0</th>\n",
              "      <td>fits,great,hot,bulky,perfect,lounger,beach,wat...</td>\n",
              "      <td>0.683333</td>\n",
              "      <td>0.866667</td>\n",
              "      <td>Positive</td>\n",
              "    </tr>\n",
              "    <tr>\n",
              "      <th>1</th>\n",
              "      <td>great,lounge,set,colors,pleased,excellent,qual...</td>\n",
              "      <td>0.812500</td>\n",
              "      <td>0.937500</td>\n",
              "      <td>Positive</td>\n",
              "    </tr>\n",
              "    <tr>\n",
              "      <th>2</th>\n",
              "      <td>ordered,colors,love,lounge,setsthey,soft</td>\n",
              "      <td>0.300000</td>\n",
              "      <td>0.475000</td>\n",
              "      <td>Positive</td>\n",
              "    </tr>\n",
              "    <tr>\n",
              "      <th>3</th>\n",
              "      <td>purchased,happy,soft,found,2,holes,inside,leg,...</td>\n",
              "      <td>0.187500</td>\n",
              "      <td>0.687500</td>\n",
              "      <td>Positive</td>\n",
              "    </tr>\n",
              "    <tr>\n",
              "      <th>4</th>\n",
              "      <td>bought,soninlaw,put,soon,got,package,loved</td>\n",
              "      <td>0.700000</td>\n",
              "      <td>0.800000</td>\n",
              "      <td>Positive</td>\n",
              "    </tr>\n",
              "    <tr>\n",
              "      <th>...</th>\n",
              "      <td>...</td>\n",
              "      <td>...</td>\n",
              "      <td>...</td>\n",
              "      <td>...</td>\n",
              "    </tr>\n",
              "    <tr>\n",
              "      <th>54995</th>\n",
              "      <td>absolutely,love,robe,looks,like,cost,200,im,51...</td>\n",
              "      <td>0.182099</td>\n",
              "      <td>0.403086</td>\n",
              "      <td>Positive</td>\n",
              "    </tr>\n",
              "    <tr>\n",
              "      <th>54996</th>\n",
              "      <td>robe,fits,true,size</td>\n",
              "      <td>0.350000</td>\n",
              "      <td>0.650000</td>\n",
              "      <td>Positive</td>\n",
              "    </tr>\n",
              "    <tr>\n",
              "      <th>54997</th>\n",
              "      <td>superior,satin,mens,robe,great,sizing,good,len...</td>\n",
              "      <td>0.642222</td>\n",
              "      <td>0.785556</td>\n",
              "      <td>Positive</td>\n",
              "    </tr>\n",
              "    <tr>\n",
              "      <th>54998</th>\n",
              "      <td>great,item,lining</td>\n",
              "      <td>0.800000</td>\n",
              "      <td>0.750000</td>\n",
              "      <td>Positive</td>\n",
              "    </tr>\n",
              "    <tr>\n",
              "      <th>54999</th>\n",
              "      <td>previously,silk,robe,liked,bit,small</td>\n",
              "      <td>0.061111</td>\n",
              "      <td>0.455556</td>\n",
              "      <td>Positive</td>\n",
              "    </tr>\n",
              "  </tbody>\n",
              "</table>\n",
              "<p>52869 rows × 4 columns</p>\n",
              "</div>\n",
              "      <button class=\"colab-df-convert\" onclick=\"convertToInteractive('df-aa6ae6eb-5196-49fd-963a-99833991e3dd')\"\n",
              "              title=\"Convert this dataframe to an interactive table.\"\n",
              "              style=\"display:none;\">\n",
              "        \n",
              "  <svg xmlns=\"http://www.w3.org/2000/svg\" height=\"24px\"viewBox=\"0 0 24 24\"\n",
              "       width=\"24px\">\n",
              "    <path d=\"M0 0h24v24H0V0z\" fill=\"none\"/>\n",
              "    <path d=\"M18.56 5.44l.94 2.06.94-2.06 2.06-.94-2.06-.94-.94-2.06-.94 2.06-2.06.94zm-11 1L8.5 8.5l.94-2.06 2.06-.94-2.06-.94L8.5 2.5l-.94 2.06-2.06.94zm10 10l.94 2.06.94-2.06 2.06-.94-2.06-.94-.94-2.06-.94 2.06-2.06.94z\"/><path d=\"M17.41 7.96l-1.37-1.37c-.4-.4-.92-.59-1.43-.59-.52 0-1.04.2-1.43.59L10.3 9.45l-7.72 7.72c-.78.78-.78 2.05 0 2.83L4 21.41c.39.39.9.59 1.41.59.51 0 1.02-.2 1.41-.59l7.78-7.78 2.81-2.81c.8-.78.8-2.07 0-2.86zM5.41 20L4 18.59l7.72-7.72 1.47 1.35L5.41 20z\"/>\n",
              "  </svg>\n",
              "      </button>\n",
              "      \n",
              "  <style>\n",
              "    .colab-df-container {\n",
              "      display:flex;\n",
              "      flex-wrap:wrap;\n",
              "      gap: 12px;\n",
              "    }\n",
              "\n",
              "    .colab-df-convert {\n",
              "      background-color: #E8F0FE;\n",
              "      border: none;\n",
              "      border-radius: 50%;\n",
              "      cursor: pointer;\n",
              "      display: none;\n",
              "      fill: #1967D2;\n",
              "      height: 32px;\n",
              "      padding: 0 0 0 0;\n",
              "      width: 32px;\n",
              "    }\n",
              "\n",
              "    .colab-df-convert:hover {\n",
              "      background-color: #E2EBFA;\n",
              "      box-shadow: 0px 1px 2px rgba(60, 64, 67, 0.3), 0px 1px 3px 1px rgba(60, 64, 67, 0.15);\n",
              "      fill: #174EA6;\n",
              "    }\n",
              "\n",
              "    [theme=dark] .colab-df-convert {\n",
              "      background-color: #3B4455;\n",
              "      fill: #D2E3FC;\n",
              "    }\n",
              "\n",
              "    [theme=dark] .colab-df-convert:hover {\n",
              "      background-color: #434B5C;\n",
              "      box-shadow: 0px 1px 3px 1px rgba(0, 0, 0, 0.15);\n",
              "      filter: drop-shadow(0px 1px 2px rgba(0, 0, 0, 0.3));\n",
              "      fill: #FFFFFF;\n",
              "    }\n",
              "  </style>\n",
              "\n",
              "      <script>\n",
              "        const buttonEl =\n",
              "          document.querySelector('#df-aa6ae6eb-5196-49fd-963a-99833991e3dd button.colab-df-convert');\n",
              "        buttonEl.style.display =\n",
              "          google.colab.kernel.accessAllowed ? 'block' : 'none';\n",
              "\n",
              "        async function convertToInteractive(key) {\n",
              "          const element = document.querySelector('#df-aa6ae6eb-5196-49fd-963a-99833991e3dd');\n",
              "          const dataTable =\n",
              "            await google.colab.kernel.invokeFunction('convertToInteractive',\n",
              "                                                     [key], {});\n",
              "          if (!dataTable) return;\n",
              "\n",
              "          const docLinkHtml = 'Like what you see? Visit the ' +\n",
              "            '<a target=\"_blank\" href=https://colab.research.google.com/notebooks/data_table.ipynb>data table notebook</a>'\n",
              "            + ' to learn more about interactive tables.';\n",
              "          element.innerHTML = '';\n",
              "          dataTable['output_type'] = 'display_data';\n",
              "          await google.colab.output.renderOutput(dataTable, element);\n",
              "          const docLink = document.createElement('div');\n",
              "          docLink.innerHTML = docLinkHtml;\n",
              "          element.appendChild(docLink);\n",
              "        }\n",
              "      </script>\n",
              "    </div>\n",
              "  </div>\n",
              "  "
            ]
          },
          "metadata": {},
          "execution_count": 129
        }
      ],
      "source": [
        "def remove_stop(x):\n",
        "  return \",\".join([word for word in str(x).split() if word not in stop_words]) #stopwords removal)\n",
        "df['Customer_reviewText'] = df['Customer_reviewText'].apply(lambda x: remove_stop(x))\n",
        "df"
      ]
    },
    {
      "cell_type": "markdown",
      "metadata": {
        "id": "48ulvPp-BedS"
      },
      "source": [
        "Remove emoji’s"
      ]
    },
    {
      "cell_type": "code",
      "execution_count": 130,
      "metadata": {
        "colab": {
          "base_uri": "https://localhost:8080/",
          "height": 424
        },
        "id": "MlX7WIDFBBYb",
        "outputId": "f2a1c008-8db8-493e-ed7a-8aef21415a44"
      },
      "outputs": [
        {
          "output_type": "execute_result",
          "data": {
            "text/plain": [
              "                                     Customer_reviewText  polarity  \\\n",
              "0      fits,great,hot,bulky,perfect,lounger,beach,wat...  0.683333   \n",
              "1      great,lounge,set,colors,pleased,excellent,qual...  0.812500   \n",
              "2               ordered,colors,love,lounge,setsthey,soft  0.300000   \n",
              "3      purchased,happy,soft,found,2,holes,inside,leg,...  0.187500   \n",
              "4             bought,soninlaw,put,soon,got,package,loved  0.700000   \n",
              "...                                                  ...       ...   \n",
              "54995  absolutely,love,robe,looks,like,cost,200,im,51...  0.182099   \n",
              "54996                                robe,fits,true,size  0.350000   \n",
              "54997  superior,satin,mens,robe,great,sizing,good,len...  0.642222   \n",
              "54998                                  great,item,lining  0.800000   \n",
              "54999               previously,silk,robe,liked,bit,small  0.061111   \n",
              "\n",
              "       subjectivity     Class  \n",
              "0          0.866667  Positive  \n",
              "1          0.937500  Positive  \n",
              "2          0.475000  Positive  \n",
              "3          0.687500  Positive  \n",
              "4          0.800000  Positive  \n",
              "...             ...       ...  \n",
              "54995      0.403086  Positive  \n",
              "54996      0.650000  Positive  \n",
              "54997      0.785556  Positive  \n",
              "54998      0.750000  Positive  \n",
              "54999      0.455556  Positive  \n",
              "\n",
              "[52869 rows x 4 columns]"
            ],
            "text/html": [
              "\n",
              "  <div id=\"df-6bcdfa85-2e37-4a05-83ec-f02f93ee5272\">\n",
              "    <div class=\"colab-df-container\">\n",
              "      <div>\n",
              "<style scoped>\n",
              "    .dataframe tbody tr th:only-of-type {\n",
              "        vertical-align: middle;\n",
              "    }\n",
              "\n",
              "    .dataframe tbody tr th {\n",
              "        vertical-align: top;\n",
              "    }\n",
              "\n",
              "    .dataframe thead th {\n",
              "        text-align: right;\n",
              "    }\n",
              "</style>\n",
              "<table border=\"1\" class=\"dataframe\">\n",
              "  <thead>\n",
              "    <tr style=\"text-align: right;\">\n",
              "      <th></th>\n",
              "      <th>Customer_reviewText</th>\n",
              "      <th>polarity</th>\n",
              "      <th>subjectivity</th>\n",
              "      <th>Class</th>\n",
              "    </tr>\n",
              "  </thead>\n",
              "  <tbody>\n",
              "    <tr>\n",
              "      <th>0</th>\n",
              "      <td>fits,great,hot,bulky,perfect,lounger,beach,wat...</td>\n",
              "      <td>0.683333</td>\n",
              "      <td>0.866667</td>\n",
              "      <td>Positive</td>\n",
              "    </tr>\n",
              "    <tr>\n",
              "      <th>1</th>\n",
              "      <td>great,lounge,set,colors,pleased,excellent,qual...</td>\n",
              "      <td>0.812500</td>\n",
              "      <td>0.937500</td>\n",
              "      <td>Positive</td>\n",
              "    </tr>\n",
              "    <tr>\n",
              "      <th>2</th>\n",
              "      <td>ordered,colors,love,lounge,setsthey,soft</td>\n",
              "      <td>0.300000</td>\n",
              "      <td>0.475000</td>\n",
              "      <td>Positive</td>\n",
              "    </tr>\n",
              "    <tr>\n",
              "      <th>3</th>\n",
              "      <td>purchased,happy,soft,found,2,holes,inside,leg,...</td>\n",
              "      <td>0.187500</td>\n",
              "      <td>0.687500</td>\n",
              "      <td>Positive</td>\n",
              "    </tr>\n",
              "    <tr>\n",
              "      <th>4</th>\n",
              "      <td>bought,soninlaw,put,soon,got,package,loved</td>\n",
              "      <td>0.700000</td>\n",
              "      <td>0.800000</td>\n",
              "      <td>Positive</td>\n",
              "    </tr>\n",
              "    <tr>\n",
              "      <th>...</th>\n",
              "      <td>...</td>\n",
              "      <td>...</td>\n",
              "      <td>...</td>\n",
              "      <td>...</td>\n",
              "    </tr>\n",
              "    <tr>\n",
              "      <th>54995</th>\n",
              "      <td>absolutely,love,robe,looks,like,cost,200,im,51...</td>\n",
              "      <td>0.182099</td>\n",
              "      <td>0.403086</td>\n",
              "      <td>Positive</td>\n",
              "    </tr>\n",
              "    <tr>\n",
              "      <th>54996</th>\n",
              "      <td>robe,fits,true,size</td>\n",
              "      <td>0.350000</td>\n",
              "      <td>0.650000</td>\n",
              "      <td>Positive</td>\n",
              "    </tr>\n",
              "    <tr>\n",
              "      <th>54997</th>\n",
              "      <td>superior,satin,mens,robe,great,sizing,good,len...</td>\n",
              "      <td>0.642222</td>\n",
              "      <td>0.785556</td>\n",
              "      <td>Positive</td>\n",
              "    </tr>\n",
              "    <tr>\n",
              "      <th>54998</th>\n",
              "      <td>great,item,lining</td>\n",
              "      <td>0.800000</td>\n",
              "      <td>0.750000</td>\n",
              "      <td>Positive</td>\n",
              "    </tr>\n",
              "    <tr>\n",
              "      <th>54999</th>\n",
              "      <td>previously,silk,robe,liked,bit,small</td>\n",
              "      <td>0.061111</td>\n",
              "      <td>0.455556</td>\n",
              "      <td>Positive</td>\n",
              "    </tr>\n",
              "  </tbody>\n",
              "</table>\n",
              "<p>52869 rows × 4 columns</p>\n",
              "</div>\n",
              "      <button class=\"colab-df-convert\" onclick=\"convertToInteractive('df-6bcdfa85-2e37-4a05-83ec-f02f93ee5272')\"\n",
              "              title=\"Convert this dataframe to an interactive table.\"\n",
              "              style=\"display:none;\">\n",
              "        \n",
              "  <svg xmlns=\"http://www.w3.org/2000/svg\" height=\"24px\"viewBox=\"0 0 24 24\"\n",
              "       width=\"24px\">\n",
              "    <path d=\"M0 0h24v24H0V0z\" fill=\"none\"/>\n",
              "    <path d=\"M18.56 5.44l.94 2.06.94-2.06 2.06-.94-2.06-.94-.94-2.06-.94 2.06-2.06.94zm-11 1L8.5 8.5l.94-2.06 2.06-.94-2.06-.94L8.5 2.5l-.94 2.06-2.06.94zm10 10l.94 2.06.94-2.06 2.06-.94-2.06-.94-.94-2.06-.94 2.06-2.06.94z\"/><path d=\"M17.41 7.96l-1.37-1.37c-.4-.4-.92-.59-1.43-.59-.52 0-1.04.2-1.43.59L10.3 9.45l-7.72 7.72c-.78.78-.78 2.05 0 2.83L4 21.41c.39.39.9.59 1.41.59.51 0 1.02-.2 1.41-.59l7.78-7.78 2.81-2.81c.8-.78.8-2.07 0-2.86zM5.41 20L4 18.59l7.72-7.72 1.47 1.35L5.41 20z\"/>\n",
              "  </svg>\n",
              "      </button>\n",
              "      \n",
              "  <style>\n",
              "    .colab-df-container {\n",
              "      display:flex;\n",
              "      flex-wrap:wrap;\n",
              "      gap: 12px;\n",
              "    }\n",
              "\n",
              "    .colab-df-convert {\n",
              "      background-color: #E8F0FE;\n",
              "      border: none;\n",
              "      border-radius: 50%;\n",
              "      cursor: pointer;\n",
              "      display: none;\n",
              "      fill: #1967D2;\n",
              "      height: 32px;\n",
              "      padding: 0 0 0 0;\n",
              "      width: 32px;\n",
              "    }\n",
              "\n",
              "    .colab-df-convert:hover {\n",
              "      background-color: #E2EBFA;\n",
              "      box-shadow: 0px 1px 2px rgba(60, 64, 67, 0.3), 0px 1px 3px 1px rgba(60, 64, 67, 0.15);\n",
              "      fill: #174EA6;\n",
              "    }\n",
              "\n",
              "    [theme=dark] .colab-df-convert {\n",
              "      background-color: #3B4455;\n",
              "      fill: #D2E3FC;\n",
              "    }\n",
              "\n",
              "    [theme=dark] .colab-df-convert:hover {\n",
              "      background-color: #434B5C;\n",
              "      box-shadow: 0px 1px 3px 1px rgba(0, 0, 0, 0.15);\n",
              "      filter: drop-shadow(0px 1px 2px rgba(0, 0, 0, 0.3));\n",
              "      fill: #FFFFFF;\n",
              "    }\n",
              "  </style>\n",
              "\n",
              "      <script>\n",
              "        const buttonEl =\n",
              "          document.querySelector('#df-6bcdfa85-2e37-4a05-83ec-f02f93ee5272 button.colab-df-convert');\n",
              "        buttonEl.style.display =\n",
              "          google.colab.kernel.accessAllowed ? 'block' : 'none';\n",
              "\n",
              "        async function convertToInteractive(key) {\n",
              "          const element = document.querySelector('#df-6bcdfa85-2e37-4a05-83ec-f02f93ee5272');\n",
              "          const dataTable =\n",
              "            await google.colab.kernel.invokeFunction('convertToInteractive',\n",
              "                                                     [key], {});\n",
              "          if (!dataTable) return;\n",
              "\n",
              "          const docLinkHtml = 'Like what you see? Visit the ' +\n",
              "            '<a target=\"_blank\" href=https://colab.research.google.com/notebooks/data_table.ipynb>data table notebook</a>'\n",
              "            + ' to learn more about interactive tables.';\n",
              "          element.innerHTML = '';\n",
              "          dataTable['output_type'] = 'display_data';\n",
              "          await google.colab.output.renderOutput(dataTable, element);\n",
              "          const docLink = document.createElement('div');\n",
              "          docLink.innerHTML = docLinkHtml;\n",
              "          element.appendChild(docLink);\n",
              "        }\n",
              "      </script>\n",
              "    </div>\n",
              "  </div>\n",
              "  "
            ]
          },
          "metadata": {},
          "execution_count": 130
        }
      ],
      "source": [
        "def remove_emoji(text):\n",
        "    emoji_pattern = re.compile(\"[\"\n",
        "                           u\"\\U0001F600-\\U0001F64F\"  # emoticons\n",
        "                           u\"\\U0001F300-\\U0001F5FF\"  # symbols & pictographs\n",
        "                           u\"\\U0001F680-\\U0001F6FF\"  # transport & map symbols\n",
        "                           u\"\\U0001F1E0-\\U0001F1FF\"  # flags \n",
        "                           u\"\\U00002702-\\U000027B0\"\n",
        "                           u\"\\U000024C2-\\U0001F251\"\n",
        "                           \"]+\", flags=re.UNICODE)\n",
        "    return emoji_pattern.sub(r'', text)\n",
        "df['Customer_reviewText'] = df['Customer_reviewText'].apply(lambda x: remove_emoji(x))\n",
        "df"
      ]
    },
    {
      "cell_type": "markdown",
      "metadata": {
        "id": "G316dfYA5ke7"
      },
      "source": [
        "Tokenization\n",
        "\n",
        "break sentences into parts"
      ]
    },
    {
      "cell_type": "code",
      "execution_count": 131,
      "metadata": {
        "id": "kKWdYzWrgrmK"
      },
      "outputs": [],
      "source": [
        "# df['Customer_reviewText'] = df['Customer_reviewText'].astype(str)"
      ]
    },
    {
      "cell_type": "code",
      "execution_count": 132,
      "metadata": {
        "colab": {
          "base_uri": "https://localhost:8080/",
          "height": 424
        },
        "id": "WqY-N8LatJJU",
        "outputId": "cd51090f-43f3-4e27-82cb-0c7a691a9404"
      },
      "outputs": [
        {
          "output_type": "execute_result",
          "data": {
            "text/plain": [
              "                                     Customer_reviewText  polarity  \\\n",
              "0      [fits, great, hot, bulky, perfect, lounger, be...  0.683333   \n",
              "1      [great, lounge, set, colors, pleased, excellen...  0.812500   \n",
              "2        [ordered, colors, love, lounge, setsthey, soft]  0.300000   \n",
              "3      [purchased, happy, soft, found,2, holes, insid...  0.187500   \n",
              "4      [bought, soninlaw, put, soon, got, package, lo...  0.700000   \n",
              "...                                                  ...       ...   \n",
              "54995  [absolutely, love, robe, looks, like, cost,200...  0.182099   \n",
              "54996                           [robe, fits, true, size]  0.350000   \n",
              "54997  [superior, satin, mens, robe, great, sizing, g...  0.642222   \n",
              "54998                              [great, item, lining]  0.800000   \n",
              "54999        [previously, silk, robe, liked, bit, small]  0.061111   \n",
              "\n",
              "       subjectivity     Class  \n",
              "0          0.866667  Positive  \n",
              "1          0.937500  Positive  \n",
              "2          0.475000  Positive  \n",
              "3          0.687500  Positive  \n",
              "4          0.800000  Positive  \n",
              "...             ...       ...  \n",
              "54995      0.403086  Positive  \n",
              "54996      0.650000  Positive  \n",
              "54997      0.785556  Positive  \n",
              "54998      0.750000  Positive  \n",
              "54999      0.455556  Positive  \n",
              "\n",
              "[52869 rows x 4 columns]"
            ],
            "text/html": [
              "\n",
              "  <div id=\"df-2acc2365-2e6b-42ab-bda1-23ae2d3ca33e\">\n",
              "    <div class=\"colab-df-container\">\n",
              "      <div>\n",
              "<style scoped>\n",
              "    .dataframe tbody tr th:only-of-type {\n",
              "        vertical-align: middle;\n",
              "    }\n",
              "\n",
              "    .dataframe tbody tr th {\n",
              "        vertical-align: top;\n",
              "    }\n",
              "\n",
              "    .dataframe thead th {\n",
              "        text-align: right;\n",
              "    }\n",
              "</style>\n",
              "<table border=\"1\" class=\"dataframe\">\n",
              "  <thead>\n",
              "    <tr style=\"text-align: right;\">\n",
              "      <th></th>\n",
              "      <th>Customer_reviewText</th>\n",
              "      <th>polarity</th>\n",
              "      <th>subjectivity</th>\n",
              "      <th>Class</th>\n",
              "    </tr>\n",
              "  </thead>\n",
              "  <tbody>\n",
              "    <tr>\n",
              "      <th>0</th>\n",
              "      <td>[fits, great, hot, bulky, perfect, lounger, be...</td>\n",
              "      <td>0.683333</td>\n",
              "      <td>0.866667</td>\n",
              "      <td>Positive</td>\n",
              "    </tr>\n",
              "    <tr>\n",
              "      <th>1</th>\n",
              "      <td>[great, lounge, set, colors, pleased, excellen...</td>\n",
              "      <td>0.812500</td>\n",
              "      <td>0.937500</td>\n",
              "      <td>Positive</td>\n",
              "    </tr>\n",
              "    <tr>\n",
              "      <th>2</th>\n",
              "      <td>[ordered, colors, love, lounge, setsthey, soft]</td>\n",
              "      <td>0.300000</td>\n",
              "      <td>0.475000</td>\n",
              "      <td>Positive</td>\n",
              "    </tr>\n",
              "    <tr>\n",
              "      <th>3</th>\n",
              "      <td>[purchased, happy, soft, found,2, holes, insid...</td>\n",
              "      <td>0.187500</td>\n",
              "      <td>0.687500</td>\n",
              "      <td>Positive</td>\n",
              "    </tr>\n",
              "    <tr>\n",
              "      <th>4</th>\n",
              "      <td>[bought, soninlaw, put, soon, got, package, lo...</td>\n",
              "      <td>0.700000</td>\n",
              "      <td>0.800000</td>\n",
              "      <td>Positive</td>\n",
              "    </tr>\n",
              "    <tr>\n",
              "      <th>...</th>\n",
              "      <td>...</td>\n",
              "      <td>...</td>\n",
              "      <td>...</td>\n",
              "      <td>...</td>\n",
              "    </tr>\n",
              "    <tr>\n",
              "      <th>54995</th>\n",
              "      <td>[absolutely, love, robe, looks, like, cost,200...</td>\n",
              "      <td>0.182099</td>\n",
              "      <td>0.403086</td>\n",
              "      <td>Positive</td>\n",
              "    </tr>\n",
              "    <tr>\n",
              "      <th>54996</th>\n",
              "      <td>[robe, fits, true, size]</td>\n",
              "      <td>0.350000</td>\n",
              "      <td>0.650000</td>\n",
              "      <td>Positive</td>\n",
              "    </tr>\n",
              "    <tr>\n",
              "      <th>54997</th>\n",
              "      <td>[superior, satin, mens, robe, great, sizing, g...</td>\n",
              "      <td>0.642222</td>\n",
              "      <td>0.785556</td>\n",
              "      <td>Positive</td>\n",
              "    </tr>\n",
              "    <tr>\n",
              "      <th>54998</th>\n",
              "      <td>[great, item, lining]</td>\n",
              "      <td>0.800000</td>\n",
              "      <td>0.750000</td>\n",
              "      <td>Positive</td>\n",
              "    </tr>\n",
              "    <tr>\n",
              "      <th>54999</th>\n",
              "      <td>[previously, silk, robe, liked, bit, small]</td>\n",
              "      <td>0.061111</td>\n",
              "      <td>0.455556</td>\n",
              "      <td>Positive</td>\n",
              "    </tr>\n",
              "  </tbody>\n",
              "</table>\n",
              "<p>52869 rows × 4 columns</p>\n",
              "</div>\n",
              "      <button class=\"colab-df-convert\" onclick=\"convertToInteractive('df-2acc2365-2e6b-42ab-bda1-23ae2d3ca33e')\"\n",
              "              title=\"Convert this dataframe to an interactive table.\"\n",
              "              style=\"display:none;\">\n",
              "        \n",
              "  <svg xmlns=\"http://www.w3.org/2000/svg\" height=\"24px\"viewBox=\"0 0 24 24\"\n",
              "       width=\"24px\">\n",
              "    <path d=\"M0 0h24v24H0V0z\" fill=\"none\"/>\n",
              "    <path d=\"M18.56 5.44l.94 2.06.94-2.06 2.06-.94-2.06-.94-.94-2.06-.94 2.06-2.06.94zm-11 1L8.5 8.5l.94-2.06 2.06-.94-2.06-.94L8.5 2.5l-.94 2.06-2.06.94zm10 10l.94 2.06.94-2.06 2.06-.94-2.06-.94-.94-2.06-.94 2.06-2.06.94z\"/><path d=\"M17.41 7.96l-1.37-1.37c-.4-.4-.92-.59-1.43-.59-.52 0-1.04.2-1.43.59L10.3 9.45l-7.72 7.72c-.78.78-.78 2.05 0 2.83L4 21.41c.39.39.9.59 1.41.59.51 0 1.02-.2 1.41-.59l7.78-7.78 2.81-2.81c.8-.78.8-2.07 0-2.86zM5.41 20L4 18.59l7.72-7.72 1.47 1.35L5.41 20z\"/>\n",
              "  </svg>\n",
              "      </button>\n",
              "      \n",
              "  <style>\n",
              "    .colab-df-container {\n",
              "      display:flex;\n",
              "      flex-wrap:wrap;\n",
              "      gap: 12px;\n",
              "    }\n",
              "\n",
              "    .colab-df-convert {\n",
              "      background-color: #E8F0FE;\n",
              "      border: none;\n",
              "      border-radius: 50%;\n",
              "      cursor: pointer;\n",
              "      display: none;\n",
              "      fill: #1967D2;\n",
              "      height: 32px;\n",
              "      padding: 0 0 0 0;\n",
              "      width: 32px;\n",
              "    }\n",
              "\n",
              "    .colab-df-convert:hover {\n",
              "      background-color: #E2EBFA;\n",
              "      box-shadow: 0px 1px 2px rgba(60, 64, 67, 0.3), 0px 1px 3px 1px rgba(60, 64, 67, 0.15);\n",
              "      fill: #174EA6;\n",
              "    }\n",
              "\n",
              "    [theme=dark] .colab-df-convert {\n",
              "      background-color: #3B4455;\n",
              "      fill: #D2E3FC;\n",
              "    }\n",
              "\n",
              "    [theme=dark] .colab-df-convert:hover {\n",
              "      background-color: #434B5C;\n",
              "      box-shadow: 0px 1px 3px 1px rgba(0, 0, 0, 0.15);\n",
              "      filter: drop-shadow(0px 1px 2px rgba(0, 0, 0, 0.3));\n",
              "      fill: #FFFFFF;\n",
              "    }\n",
              "  </style>\n",
              "\n",
              "      <script>\n",
              "        const buttonEl =\n",
              "          document.querySelector('#df-2acc2365-2e6b-42ab-bda1-23ae2d3ca33e button.colab-df-convert');\n",
              "        buttonEl.style.display =\n",
              "          google.colab.kernel.accessAllowed ? 'block' : 'none';\n",
              "\n",
              "        async function convertToInteractive(key) {\n",
              "          const element = document.querySelector('#df-2acc2365-2e6b-42ab-bda1-23ae2d3ca33e');\n",
              "          const dataTable =\n",
              "            await google.colab.kernel.invokeFunction('convertToInteractive',\n",
              "                                                     [key], {});\n",
              "          if (!dataTable) return;\n",
              "\n",
              "          const docLinkHtml = 'Like what you see? Visit the ' +\n",
              "            '<a target=\"_blank\" href=https://colab.research.google.com/notebooks/data_table.ipynb>data table notebook</a>'\n",
              "            + ' to learn more about interactive tables.';\n",
              "          element.innerHTML = '';\n",
              "          dataTable['output_type'] = 'display_data';\n",
              "          await google.colab.output.renderOutput(dataTable, element);\n",
              "          const docLink = document.createElement('div');\n",
              "          docLink.innerHTML = docLinkHtml;\n",
              "          element.appendChild(docLink);\n",
              "        }\n",
              "      </script>\n",
              "    </div>\n",
              "  </div>\n",
              "  "
            ]
          },
          "metadata": {},
          "execution_count": 132
        }
      ],
      "source": [
        "df[\"Customer_reviewText\"]=df[\"Customer_reviewText\"].apply(lambda x: TextBlob(x).words)\n",
        "df"
      ]
    },
    {
      "cell_type": "markdown",
      "metadata": {
        "id": "mpW4aop6Z5iB"
      },
      "source": [
        "Stemming"
      ]
    },
    {
      "cell_type": "code",
      "execution_count": 133,
      "metadata": {
        "id": "TcS8-V8ZDnzr"
      },
      "outputs": [],
      "source": [
        "from nltk.stem import PorterStemmer\n",
        "porter = PorterStemmer()"
      ]
    },
    {
      "cell_type": "code",
      "execution_count": 134,
      "metadata": {
        "colab": {
          "base_uri": "https://localhost:8080/",
          "height": 424
        },
        "id": "r4KK02L3X7z5",
        "outputId": "9e7b7f52-e2a1-40e9-cc84-bc43ffab498b"
      },
      "outputs": [
        {
          "output_type": "execute_result",
          "data": {
            "text/plain": [
              "                                     Customer_reviewText  polarity  \\\n",
              "0      [fit, great, hot, bulki, perfect, lounger, bea...  0.683333   \n",
              "1      [great, loung, set, color, pleas, excel, quali...  0.812500   \n",
              "2            [order, color, love, loung, setsthey, soft]  0.300000   \n",
              "3      [purchas, happi, soft, found,2, hole, insid, l...  0.187500   \n",
              "4       [bought, soninlaw, put, soon, got, packag, love]  0.700000   \n",
              "...                                                  ...       ...   \n",
              "54995  [absolut, love, robe, look, like, cost,200, im...  0.182099   \n",
              "54996                            [robe, fit, true, size]  0.350000   \n",
              "54997  [superior, satin, men, robe, great, size, good...  0.642222   \n",
              "54998                                [great, item, line]  0.800000   \n",
              "54999           [previous, silk, robe, like, bit, small]  0.061111   \n",
              "\n",
              "       subjectivity     Class  \n",
              "0          0.866667  Positive  \n",
              "1          0.937500  Positive  \n",
              "2          0.475000  Positive  \n",
              "3          0.687500  Positive  \n",
              "4          0.800000  Positive  \n",
              "...             ...       ...  \n",
              "54995      0.403086  Positive  \n",
              "54996      0.650000  Positive  \n",
              "54997      0.785556  Positive  \n",
              "54998      0.750000  Positive  \n",
              "54999      0.455556  Positive  \n",
              "\n",
              "[52869 rows x 4 columns]"
            ],
            "text/html": [
              "\n",
              "  <div id=\"df-a94a74c6-26c6-4a2c-acef-aad5aa3df93d\">\n",
              "    <div class=\"colab-df-container\">\n",
              "      <div>\n",
              "<style scoped>\n",
              "    .dataframe tbody tr th:only-of-type {\n",
              "        vertical-align: middle;\n",
              "    }\n",
              "\n",
              "    .dataframe tbody tr th {\n",
              "        vertical-align: top;\n",
              "    }\n",
              "\n",
              "    .dataframe thead th {\n",
              "        text-align: right;\n",
              "    }\n",
              "</style>\n",
              "<table border=\"1\" class=\"dataframe\">\n",
              "  <thead>\n",
              "    <tr style=\"text-align: right;\">\n",
              "      <th></th>\n",
              "      <th>Customer_reviewText</th>\n",
              "      <th>polarity</th>\n",
              "      <th>subjectivity</th>\n",
              "      <th>Class</th>\n",
              "    </tr>\n",
              "  </thead>\n",
              "  <tbody>\n",
              "    <tr>\n",
              "      <th>0</th>\n",
              "      <td>[fit, great, hot, bulki, perfect, lounger, bea...</td>\n",
              "      <td>0.683333</td>\n",
              "      <td>0.866667</td>\n",
              "      <td>Positive</td>\n",
              "    </tr>\n",
              "    <tr>\n",
              "      <th>1</th>\n",
              "      <td>[great, loung, set, color, pleas, excel, quali...</td>\n",
              "      <td>0.812500</td>\n",
              "      <td>0.937500</td>\n",
              "      <td>Positive</td>\n",
              "    </tr>\n",
              "    <tr>\n",
              "      <th>2</th>\n",
              "      <td>[order, color, love, loung, setsthey, soft]</td>\n",
              "      <td>0.300000</td>\n",
              "      <td>0.475000</td>\n",
              "      <td>Positive</td>\n",
              "    </tr>\n",
              "    <tr>\n",
              "      <th>3</th>\n",
              "      <td>[purchas, happi, soft, found,2, hole, insid, l...</td>\n",
              "      <td>0.187500</td>\n",
              "      <td>0.687500</td>\n",
              "      <td>Positive</td>\n",
              "    </tr>\n",
              "    <tr>\n",
              "      <th>4</th>\n",
              "      <td>[bought, soninlaw, put, soon, got, packag, love]</td>\n",
              "      <td>0.700000</td>\n",
              "      <td>0.800000</td>\n",
              "      <td>Positive</td>\n",
              "    </tr>\n",
              "    <tr>\n",
              "      <th>...</th>\n",
              "      <td>...</td>\n",
              "      <td>...</td>\n",
              "      <td>...</td>\n",
              "      <td>...</td>\n",
              "    </tr>\n",
              "    <tr>\n",
              "      <th>54995</th>\n",
              "      <td>[absolut, love, robe, look, like, cost,200, im...</td>\n",
              "      <td>0.182099</td>\n",
              "      <td>0.403086</td>\n",
              "      <td>Positive</td>\n",
              "    </tr>\n",
              "    <tr>\n",
              "      <th>54996</th>\n",
              "      <td>[robe, fit, true, size]</td>\n",
              "      <td>0.350000</td>\n",
              "      <td>0.650000</td>\n",
              "      <td>Positive</td>\n",
              "    </tr>\n",
              "    <tr>\n",
              "      <th>54997</th>\n",
              "      <td>[superior, satin, men, robe, great, size, good...</td>\n",
              "      <td>0.642222</td>\n",
              "      <td>0.785556</td>\n",
              "      <td>Positive</td>\n",
              "    </tr>\n",
              "    <tr>\n",
              "      <th>54998</th>\n",
              "      <td>[great, item, line]</td>\n",
              "      <td>0.800000</td>\n",
              "      <td>0.750000</td>\n",
              "      <td>Positive</td>\n",
              "    </tr>\n",
              "    <tr>\n",
              "      <th>54999</th>\n",
              "      <td>[previous, silk, robe, like, bit, small]</td>\n",
              "      <td>0.061111</td>\n",
              "      <td>0.455556</td>\n",
              "      <td>Positive</td>\n",
              "    </tr>\n",
              "  </tbody>\n",
              "</table>\n",
              "<p>52869 rows × 4 columns</p>\n",
              "</div>\n",
              "      <button class=\"colab-df-convert\" onclick=\"convertToInteractive('df-a94a74c6-26c6-4a2c-acef-aad5aa3df93d')\"\n",
              "              title=\"Convert this dataframe to an interactive table.\"\n",
              "              style=\"display:none;\">\n",
              "        \n",
              "  <svg xmlns=\"http://www.w3.org/2000/svg\" height=\"24px\"viewBox=\"0 0 24 24\"\n",
              "       width=\"24px\">\n",
              "    <path d=\"M0 0h24v24H0V0z\" fill=\"none\"/>\n",
              "    <path d=\"M18.56 5.44l.94 2.06.94-2.06 2.06-.94-2.06-.94-.94-2.06-.94 2.06-2.06.94zm-11 1L8.5 8.5l.94-2.06 2.06-.94-2.06-.94L8.5 2.5l-.94 2.06-2.06.94zm10 10l.94 2.06.94-2.06 2.06-.94-2.06-.94-.94-2.06-.94 2.06-2.06.94z\"/><path d=\"M17.41 7.96l-1.37-1.37c-.4-.4-.92-.59-1.43-.59-.52 0-1.04.2-1.43.59L10.3 9.45l-7.72 7.72c-.78.78-.78 2.05 0 2.83L4 21.41c.39.39.9.59 1.41.59.51 0 1.02-.2 1.41-.59l7.78-7.78 2.81-2.81c.8-.78.8-2.07 0-2.86zM5.41 20L4 18.59l7.72-7.72 1.47 1.35L5.41 20z\"/>\n",
              "  </svg>\n",
              "      </button>\n",
              "      \n",
              "  <style>\n",
              "    .colab-df-container {\n",
              "      display:flex;\n",
              "      flex-wrap:wrap;\n",
              "      gap: 12px;\n",
              "    }\n",
              "\n",
              "    .colab-df-convert {\n",
              "      background-color: #E8F0FE;\n",
              "      border: none;\n",
              "      border-radius: 50%;\n",
              "      cursor: pointer;\n",
              "      display: none;\n",
              "      fill: #1967D2;\n",
              "      height: 32px;\n",
              "      padding: 0 0 0 0;\n",
              "      width: 32px;\n",
              "    }\n",
              "\n",
              "    .colab-df-convert:hover {\n",
              "      background-color: #E2EBFA;\n",
              "      box-shadow: 0px 1px 2px rgba(60, 64, 67, 0.3), 0px 1px 3px 1px rgba(60, 64, 67, 0.15);\n",
              "      fill: #174EA6;\n",
              "    }\n",
              "\n",
              "    [theme=dark] .colab-df-convert {\n",
              "      background-color: #3B4455;\n",
              "      fill: #D2E3FC;\n",
              "    }\n",
              "\n",
              "    [theme=dark] .colab-df-convert:hover {\n",
              "      background-color: #434B5C;\n",
              "      box-shadow: 0px 1px 3px 1px rgba(0, 0, 0, 0.15);\n",
              "      filter: drop-shadow(0px 1px 2px rgba(0, 0, 0, 0.3));\n",
              "      fill: #FFFFFF;\n",
              "    }\n",
              "  </style>\n",
              "\n",
              "      <script>\n",
              "        const buttonEl =\n",
              "          document.querySelector('#df-a94a74c6-26c6-4a2c-acef-aad5aa3df93d button.colab-df-convert');\n",
              "        buttonEl.style.display =\n",
              "          google.colab.kernel.accessAllowed ? 'block' : 'none';\n",
              "\n",
              "        async function convertToInteractive(key) {\n",
              "          const element = document.querySelector('#df-a94a74c6-26c6-4a2c-acef-aad5aa3df93d');\n",
              "          const dataTable =\n",
              "            await google.colab.kernel.invokeFunction('convertToInteractive',\n",
              "                                                     [key], {});\n",
              "          if (!dataTable) return;\n",
              "\n",
              "          const docLinkHtml = 'Like what you see? Visit the ' +\n",
              "            '<a target=\"_blank\" href=https://colab.research.google.com/notebooks/data_table.ipynb>data table notebook</a>'\n",
              "            + ' to learn more about interactive tables.';\n",
              "          element.innerHTML = '';\n",
              "          dataTable['output_type'] = 'display_data';\n",
              "          await google.colab.output.renderOutput(dataTable, element);\n",
              "          const docLink = document.createElement('div');\n",
              "          docLink.innerHTML = docLinkHtml;\n",
              "          element.appendChild(docLink);\n",
              "        }\n",
              "      </script>\n",
              "    </div>\n",
              "  </div>\n",
              "  "
            ]
          },
          "metadata": {},
          "execution_count": 134
        }
      ],
      "source": [
        "df['Customer_reviewText'] = df['Customer_reviewText'].apply(lambda x: [porter.stem(y) for y in x])\n",
        "df"
      ]
    },
    {
      "cell_type": "markdown",
      "metadata": {
        "id": "c2vBhSeN6mHg"
      },
      "source": [
        "Lemmatization \n",
        "\n",
        "is the process of separating words by root"
      ]
    },
    {
      "cell_type": "code",
      "execution_count": 135,
      "metadata": {
        "id": "fR_OvUZE99uD"
      },
      "outputs": [],
      "source": [
        "from nltk.stem import WordNetLemmatizer\n",
        "#defining the object for Lemmatization\n",
        "wordnet_lemmatizer = WordNetLemmatizer()"
      ]
    },
    {
      "cell_type": "code",
      "execution_count": 136,
      "metadata": {
        "colab": {
          "base_uri": "https://localhost:8080/",
          "height": 424
        },
        "id": "Y1BsNkULajJG",
        "outputId": "c03e1d30-b8aa-40bd-c208-b0bfde717334"
      },
      "outputs": [
        {
          "output_type": "execute_result",
          "data": {
            "text/plain": [
              "                                     Customer_reviewText  polarity  \\\n",
              "0      [fit, great, hot, bulki, perfect, lounger, bea...  0.683333   \n",
              "1      [great, loung, set, color, plea, excel, qualit...  0.812500   \n",
              "2            [order, color, love, loung, setsthey, soft]  0.300000   \n",
              "3      [purchas, happi, soft, found,2, hole, insid, l...  0.187500   \n",
              "4       [bought, soninlaw, put, soon, got, packag, love]  0.700000   \n",
              "...                                                  ...       ...   \n",
              "54995  [absolut, love, robe, look, like, cost,200, im...  0.182099   \n",
              "54996                            [robe, fit, true, size]  0.350000   \n",
              "54997  [superior, satin, men, robe, great, size, good...  0.642222   \n",
              "54998                                [great, item, line]  0.800000   \n",
              "54999           [previous, silk, robe, like, bit, small]  0.061111   \n",
              "\n",
              "       subjectivity     Class  \n",
              "0          0.866667  Positive  \n",
              "1          0.937500  Positive  \n",
              "2          0.475000  Positive  \n",
              "3          0.687500  Positive  \n",
              "4          0.800000  Positive  \n",
              "...             ...       ...  \n",
              "54995      0.403086  Positive  \n",
              "54996      0.650000  Positive  \n",
              "54997      0.785556  Positive  \n",
              "54998      0.750000  Positive  \n",
              "54999      0.455556  Positive  \n",
              "\n",
              "[52869 rows x 4 columns]"
            ],
            "text/html": [
              "\n",
              "  <div id=\"df-a045a914-25d0-41a5-97ff-0d52b8e0f88e\">\n",
              "    <div class=\"colab-df-container\">\n",
              "      <div>\n",
              "<style scoped>\n",
              "    .dataframe tbody tr th:only-of-type {\n",
              "        vertical-align: middle;\n",
              "    }\n",
              "\n",
              "    .dataframe tbody tr th {\n",
              "        vertical-align: top;\n",
              "    }\n",
              "\n",
              "    .dataframe thead th {\n",
              "        text-align: right;\n",
              "    }\n",
              "</style>\n",
              "<table border=\"1\" class=\"dataframe\">\n",
              "  <thead>\n",
              "    <tr style=\"text-align: right;\">\n",
              "      <th></th>\n",
              "      <th>Customer_reviewText</th>\n",
              "      <th>polarity</th>\n",
              "      <th>subjectivity</th>\n",
              "      <th>Class</th>\n",
              "    </tr>\n",
              "  </thead>\n",
              "  <tbody>\n",
              "    <tr>\n",
              "      <th>0</th>\n",
              "      <td>[fit, great, hot, bulki, perfect, lounger, bea...</td>\n",
              "      <td>0.683333</td>\n",
              "      <td>0.866667</td>\n",
              "      <td>Positive</td>\n",
              "    </tr>\n",
              "    <tr>\n",
              "      <th>1</th>\n",
              "      <td>[great, loung, set, color, plea, excel, qualit...</td>\n",
              "      <td>0.812500</td>\n",
              "      <td>0.937500</td>\n",
              "      <td>Positive</td>\n",
              "    </tr>\n",
              "    <tr>\n",
              "      <th>2</th>\n",
              "      <td>[order, color, love, loung, setsthey, soft]</td>\n",
              "      <td>0.300000</td>\n",
              "      <td>0.475000</td>\n",
              "      <td>Positive</td>\n",
              "    </tr>\n",
              "    <tr>\n",
              "      <th>3</th>\n",
              "      <td>[purchas, happi, soft, found,2, hole, insid, l...</td>\n",
              "      <td>0.187500</td>\n",
              "      <td>0.687500</td>\n",
              "      <td>Positive</td>\n",
              "    </tr>\n",
              "    <tr>\n",
              "      <th>4</th>\n",
              "      <td>[bought, soninlaw, put, soon, got, packag, love]</td>\n",
              "      <td>0.700000</td>\n",
              "      <td>0.800000</td>\n",
              "      <td>Positive</td>\n",
              "    </tr>\n",
              "    <tr>\n",
              "      <th>...</th>\n",
              "      <td>...</td>\n",
              "      <td>...</td>\n",
              "      <td>...</td>\n",
              "      <td>...</td>\n",
              "    </tr>\n",
              "    <tr>\n",
              "      <th>54995</th>\n",
              "      <td>[absolut, love, robe, look, like, cost,200, im...</td>\n",
              "      <td>0.182099</td>\n",
              "      <td>0.403086</td>\n",
              "      <td>Positive</td>\n",
              "    </tr>\n",
              "    <tr>\n",
              "      <th>54996</th>\n",
              "      <td>[robe, fit, true, size]</td>\n",
              "      <td>0.350000</td>\n",
              "      <td>0.650000</td>\n",
              "      <td>Positive</td>\n",
              "    </tr>\n",
              "    <tr>\n",
              "      <th>54997</th>\n",
              "      <td>[superior, satin, men, robe, great, size, good...</td>\n",
              "      <td>0.642222</td>\n",
              "      <td>0.785556</td>\n",
              "      <td>Positive</td>\n",
              "    </tr>\n",
              "    <tr>\n",
              "      <th>54998</th>\n",
              "      <td>[great, item, line]</td>\n",
              "      <td>0.800000</td>\n",
              "      <td>0.750000</td>\n",
              "      <td>Positive</td>\n",
              "    </tr>\n",
              "    <tr>\n",
              "      <th>54999</th>\n",
              "      <td>[previous, silk, robe, like, bit, small]</td>\n",
              "      <td>0.061111</td>\n",
              "      <td>0.455556</td>\n",
              "      <td>Positive</td>\n",
              "    </tr>\n",
              "  </tbody>\n",
              "</table>\n",
              "<p>52869 rows × 4 columns</p>\n",
              "</div>\n",
              "      <button class=\"colab-df-convert\" onclick=\"convertToInteractive('df-a045a914-25d0-41a5-97ff-0d52b8e0f88e')\"\n",
              "              title=\"Convert this dataframe to an interactive table.\"\n",
              "              style=\"display:none;\">\n",
              "        \n",
              "  <svg xmlns=\"http://www.w3.org/2000/svg\" height=\"24px\"viewBox=\"0 0 24 24\"\n",
              "       width=\"24px\">\n",
              "    <path d=\"M0 0h24v24H0V0z\" fill=\"none\"/>\n",
              "    <path d=\"M18.56 5.44l.94 2.06.94-2.06 2.06-.94-2.06-.94-.94-2.06-.94 2.06-2.06.94zm-11 1L8.5 8.5l.94-2.06 2.06-.94-2.06-.94L8.5 2.5l-.94 2.06-2.06.94zm10 10l.94 2.06.94-2.06 2.06-.94-2.06-.94-.94-2.06-.94 2.06-2.06.94z\"/><path d=\"M17.41 7.96l-1.37-1.37c-.4-.4-.92-.59-1.43-.59-.52 0-1.04.2-1.43.59L10.3 9.45l-7.72 7.72c-.78.78-.78 2.05 0 2.83L4 21.41c.39.39.9.59 1.41.59.51 0 1.02-.2 1.41-.59l7.78-7.78 2.81-2.81c.8-.78.8-2.07 0-2.86zM5.41 20L4 18.59l7.72-7.72 1.47 1.35L5.41 20z\"/>\n",
              "  </svg>\n",
              "      </button>\n",
              "      \n",
              "  <style>\n",
              "    .colab-df-container {\n",
              "      display:flex;\n",
              "      flex-wrap:wrap;\n",
              "      gap: 12px;\n",
              "    }\n",
              "\n",
              "    .colab-df-convert {\n",
              "      background-color: #E8F0FE;\n",
              "      border: none;\n",
              "      border-radius: 50%;\n",
              "      cursor: pointer;\n",
              "      display: none;\n",
              "      fill: #1967D2;\n",
              "      height: 32px;\n",
              "      padding: 0 0 0 0;\n",
              "      width: 32px;\n",
              "    }\n",
              "\n",
              "    .colab-df-convert:hover {\n",
              "      background-color: #E2EBFA;\n",
              "      box-shadow: 0px 1px 2px rgba(60, 64, 67, 0.3), 0px 1px 3px 1px rgba(60, 64, 67, 0.15);\n",
              "      fill: #174EA6;\n",
              "    }\n",
              "\n",
              "    [theme=dark] .colab-df-convert {\n",
              "      background-color: #3B4455;\n",
              "      fill: #D2E3FC;\n",
              "    }\n",
              "\n",
              "    [theme=dark] .colab-df-convert:hover {\n",
              "      background-color: #434B5C;\n",
              "      box-shadow: 0px 1px 3px 1px rgba(0, 0, 0, 0.15);\n",
              "      filter: drop-shadow(0px 1px 2px rgba(0, 0, 0, 0.3));\n",
              "      fill: #FFFFFF;\n",
              "    }\n",
              "  </style>\n",
              "\n",
              "      <script>\n",
              "        const buttonEl =\n",
              "          document.querySelector('#df-a045a914-25d0-41a5-97ff-0d52b8e0f88e button.colab-df-convert');\n",
              "        buttonEl.style.display =\n",
              "          google.colab.kernel.accessAllowed ? 'block' : 'none';\n",
              "\n",
              "        async function convertToInteractive(key) {\n",
              "          const element = document.querySelector('#df-a045a914-25d0-41a5-97ff-0d52b8e0f88e');\n",
              "          const dataTable =\n",
              "            await google.colab.kernel.invokeFunction('convertToInteractive',\n",
              "                                                     [key], {});\n",
              "          if (!dataTable) return;\n",
              "\n",
              "          const docLinkHtml = 'Like what you see? Visit the ' +\n",
              "            '<a target=\"_blank\" href=https://colab.research.google.com/notebooks/data_table.ipynb>data table notebook</a>'\n",
              "            + ' to learn more about interactive tables.';\n",
              "          element.innerHTML = '';\n",
              "          dataTable['output_type'] = 'display_data';\n",
              "          await google.colab.output.renderOutput(dataTable, element);\n",
              "          const docLink = document.createElement('div');\n",
              "          docLink.innerHTML = docLinkHtml;\n",
              "          element.appendChild(docLink);\n",
              "        }\n",
              "      </script>\n",
              "    </div>\n",
              "  </div>\n",
              "  "
            ]
          },
          "metadata": {},
          "execution_count": 136
        }
      ],
      "source": [
        "df['Customer_reviewText'] = df['Customer_reviewText'].apply(lambda x: [wordnet_lemmatizer.lemmatize(y) for y in x])\n",
        "df"
      ]
    },
    {
      "cell_type": "code",
      "execution_count": 137,
      "metadata": {
        "colab": {
          "base_uri": "https://localhost:8080/"
        },
        "id": "eQKHi7SVSpfh",
        "outputId": "431c785d-c9e0-4bb9-8e19-9865f78b197a"
      },
      "outputs": [
        {
          "output_type": "execute_result",
          "data": {
            "text/plain": [
              "Positive    39664\n",
              "Neutral      7161\n",
              "Negative     6044\n",
              "Name: Class, dtype: int64"
            ]
          },
          "metadata": {},
          "execution_count": 137
        }
      ],
      "source": [
        "# distribution of the three classes\n",
        "df['Class'].value_counts()"
      ]
    },
    {
      "cell_type": "code",
      "execution_count": 138,
      "metadata": {
        "colab": {
          "base_uri": "https://localhost:8080/",
          "height": 424
        },
        "id": "VvRRKwlXkqn1",
        "outputId": "014ad7d1-7244-4887-f9e9-7819010f6990"
      },
      "outputs": [
        {
          "output_type": "execute_result",
          "data": {
            "text/plain": [
              "                                     Customer_reviewText  polarity  \\\n",
              "0      [fit, great, hot, bulki, perfect, lounger, bea...  0.683333   \n",
              "1      [great, loung, set, color, plea, excel, qualit...  0.812500   \n",
              "2            [order, color, love, loung, setsthey, soft]  0.300000   \n",
              "3      [purchas, happi, soft, found,2, hole, insid, l...  0.187500   \n",
              "4       [bought, soninlaw, put, soon, got, packag, love]  0.700000   \n",
              "...                                                  ...       ...   \n",
              "25174  [kind, hokey, tri, felt, bulki, though, realli...  0.400000   \n",
              "25175                     [idea, behind, product, great]  0.200000   \n",
              "25177  [realli, small, good, im, sure, could, fit, go...  0.250000   \n",
              "25178  [got, beig, trip, nyci, guess, didnt, think, p...  0.348148   \n",
              "25179  [15, yr, old, daughter, got, trip, spain, avoi...  0.100000   \n",
              "\n",
              "       subjectivity     Class  \n",
              "0          0.866667  Positive  \n",
              "1          0.937500  Positive  \n",
              "2          0.475000  Positive  \n",
              "3          0.687500  Positive  \n",
              "4          0.800000  Positive  \n",
              "...             ...       ...  \n",
              "25174      0.550000  Positive  \n",
              "25175      0.725000  Positive  \n",
              "25177      0.511111  Positive  \n",
              "25178      0.462963  Positive  \n",
              "25179      0.200000  Positive  \n",
              "\n",
              "[18400 rows x 4 columns]"
            ],
            "text/html": [
              "\n",
              "  <div id=\"df-8e799377-9468-4ac7-a0a5-463718a15e10\">\n",
              "    <div class=\"colab-df-container\">\n",
              "      <div>\n",
              "<style scoped>\n",
              "    .dataframe tbody tr th:only-of-type {\n",
              "        vertical-align: middle;\n",
              "    }\n",
              "\n",
              "    .dataframe tbody tr th {\n",
              "        vertical-align: top;\n",
              "    }\n",
              "\n",
              "    .dataframe thead th {\n",
              "        text-align: right;\n",
              "    }\n",
              "</style>\n",
              "<table border=\"1\" class=\"dataframe\">\n",
              "  <thead>\n",
              "    <tr style=\"text-align: right;\">\n",
              "      <th></th>\n",
              "      <th>Customer_reviewText</th>\n",
              "      <th>polarity</th>\n",
              "      <th>subjectivity</th>\n",
              "      <th>Class</th>\n",
              "    </tr>\n",
              "  </thead>\n",
              "  <tbody>\n",
              "    <tr>\n",
              "      <th>0</th>\n",
              "      <td>[fit, great, hot, bulki, perfect, lounger, bea...</td>\n",
              "      <td>0.683333</td>\n",
              "      <td>0.866667</td>\n",
              "      <td>Positive</td>\n",
              "    </tr>\n",
              "    <tr>\n",
              "      <th>1</th>\n",
              "      <td>[great, loung, set, color, plea, excel, qualit...</td>\n",
              "      <td>0.812500</td>\n",
              "      <td>0.937500</td>\n",
              "      <td>Positive</td>\n",
              "    </tr>\n",
              "    <tr>\n",
              "      <th>2</th>\n",
              "      <td>[order, color, love, loung, setsthey, soft]</td>\n",
              "      <td>0.300000</td>\n",
              "      <td>0.475000</td>\n",
              "      <td>Positive</td>\n",
              "    </tr>\n",
              "    <tr>\n",
              "      <th>3</th>\n",
              "      <td>[purchas, happi, soft, found,2, hole, insid, l...</td>\n",
              "      <td>0.187500</td>\n",
              "      <td>0.687500</td>\n",
              "      <td>Positive</td>\n",
              "    </tr>\n",
              "    <tr>\n",
              "      <th>4</th>\n",
              "      <td>[bought, soninlaw, put, soon, got, packag, love]</td>\n",
              "      <td>0.700000</td>\n",
              "      <td>0.800000</td>\n",
              "      <td>Positive</td>\n",
              "    </tr>\n",
              "    <tr>\n",
              "      <th>...</th>\n",
              "      <td>...</td>\n",
              "      <td>...</td>\n",
              "      <td>...</td>\n",
              "      <td>...</td>\n",
              "    </tr>\n",
              "    <tr>\n",
              "      <th>25174</th>\n",
              "      <td>[kind, hokey, tri, felt, bulki, though, realli...</td>\n",
              "      <td>0.400000</td>\n",
              "      <td>0.550000</td>\n",
              "      <td>Positive</td>\n",
              "    </tr>\n",
              "    <tr>\n",
              "      <th>25175</th>\n",
              "      <td>[idea, behind, product, great]</td>\n",
              "      <td>0.200000</td>\n",
              "      <td>0.725000</td>\n",
              "      <td>Positive</td>\n",
              "    </tr>\n",
              "    <tr>\n",
              "      <th>25177</th>\n",
              "      <td>[realli, small, good, im, sure, could, fit, go...</td>\n",
              "      <td>0.250000</td>\n",
              "      <td>0.511111</td>\n",
              "      <td>Positive</td>\n",
              "    </tr>\n",
              "    <tr>\n",
              "      <th>25178</th>\n",
              "      <td>[got, beig, trip, nyci, guess, didnt, think, p...</td>\n",
              "      <td>0.348148</td>\n",
              "      <td>0.462963</td>\n",
              "      <td>Positive</td>\n",
              "    </tr>\n",
              "    <tr>\n",
              "      <th>25179</th>\n",
              "      <td>[15, yr, old, daughter, got, trip, spain, avoi...</td>\n",
              "      <td>0.100000</td>\n",
              "      <td>0.200000</td>\n",
              "      <td>Positive</td>\n",
              "    </tr>\n",
              "  </tbody>\n",
              "</table>\n",
              "<p>18400 rows × 4 columns</p>\n",
              "</div>\n",
              "      <button class=\"colab-df-convert\" onclick=\"convertToInteractive('df-8e799377-9468-4ac7-a0a5-463718a15e10')\"\n",
              "              title=\"Convert this dataframe to an interactive table.\"\n",
              "              style=\"display:none;\">\n",
              "        \n",
              "  <svg xmlns=\"http://www.w3.org/2000/svg\" height=\"24px\"viewBox=\"0 0 24 24\"\n",
              "       width=\"24px\">\n",
              "    <path d=\"M0 0h24v24H0V0z\" fill=\"none\"/>\n",
              "    <path d=\"M18.56 5.44l.94 2.06.94-2.06 2.06-.94-2.06-.94-.94-2.06-.94 2.06-2.06.94zm-11 1L8.5 8.5l.94-2.06 2.06-.94-2.06-.94L8.5 2.5l-.94 2.06-2.06.94zm10 10l.94 2.06.94-2.06 2.06-.94-2.06-.94-.94-2.06-.94 2.06-2.06.94z\"/><path d=\"M17.41 7.96l-1.37-1.37c-.4-.4-.92-.59-1.43-.59-.52 0-1.04.2-1.43.59L10.3 9.45l-7.72 7.72c-.78.78-.78 2.05 0 2.83L4 21.41c.39.39.9.59 1.41.59.51 0 1.02-.2 1.41-.59l7.78-7.78 2.81-2.81c.8-.78.8-2.07 0-2.86zM5.41 20L4 18.59l7.72-7.72 1.47 1.35L5.41 20z\"/>\n",
              "  </svg>\n",
              "      </button>\n",
              "      \n",
              "  <style>\n",
              "    .colab-df-container {\n",
              "      display:flex;\n",
              "      flex-wrap:wrap;\n",
              "      gap: 12px;\n",
              "    }\n",
              "\n",
              "    .colab-df-convert {\n",
              "      background-color: #E8F0FE;\n",
              "      border: none;\n",
              "      border-radius: 50%;\n",
              "      cursor: pointer;\n",
              "      display: none;\n",
              "      fill: #1967D2;\n",
              "      height: 32px;\n",
              "      padding: 0 0 0 0;\n",
              "      width: 32px;\n",
              "    }\n",
              "\n",
              "    .colab-df-convert:hover {\n",
              "      background-color: #E2EBFA;\n",
              "      box-shadow: 0px 1px 2px rgba(60, 64, 67, 0.3), 0px 1px 3px 1px rgba(60, 64, 67, 0.15);\n",
              "      fill: #174EA6;\n",
              "    }\n",
              "\n",
              "    [theme=dark] .colab-df-convert {\n",
              "      background-color: #3B4455;\n",
              "      fill: #D2E3FC;\n",
              "    }\n",
              "\n",
              "    [theme=dark] .colab-df-convert:hover {\n",
              "      background-color: #434B5C;\n",
              "      box-shadow: 0px 1px 3px 1px rgba(0, 0, 0, 0.15);\n",
              "      filter: drop-shadow(0px 1px 2px rgba(0, 0, 0, 0.3));\n",
              "      fill: #FFFFFF;\n",
              "    }\n",
              "  </style>\n",
              "\n",
              "      <script>\n",
              "        const buttonEl =\n",
              "          document.querySelector('#df-8e799377-9468-4ac7-a0a5-463718a15e10 button.colab-df-convert');\n",
              "        buttonEl.style.display =\n",
              "          google.colab.kernel.accessAllowed ? 'block' : 'none';\n",
              "\n",
              "        async function convertToInteractive(key) {\n",
              "          const element = document.querySelector('#df-8e799377-9468-4ac7-a0a5-463718a15e10');\n",
              "          const dataTable =\n",
              "            await google.colab.kernel.invokeFunction('convertToInteractive',\n",
              "                                                     [key], {});\n",
              "          if (!dataTable) return;\n",
              "\n",
              "          const docLinkHtml = 'Like what you see? Visit the ' +\n",
              "            '<a target=\"_blank\" href=https://colab.research.google.com/notebooks/data_table.ipynb>data table notebook</a>'\n",
              "            + ' to learn more about interactive tables.';\n",
              "          element.innerHTML = '';\n",
              "          dataTable['output_type'] = 'display_data';\n",
              "          await google.colab.output.renderOutput(dataTable, element);\n",
              "          const docLink = document.createElement('div');\n",
              "          docLink.innerHTML = docLinkHtml;\n",
              "          element.appendChild(docLink);\n",
              "        }\n",
              "      </script>\n",
              "    </div>\n",
              "  </div>\n",
              "  "
            ]
          },
          "metadata": {},
          "execution_count": 138
        }
      ],
      "source": [
        "pcomment = df[df.Class == 'Positive'][:18400]\n",
        "pcomment"
      ]
    },
    {
      "cell_type": "code",
      "execution_count": 139,
      "metadata": {
        "colab": {
          "base_uri": "https://localhost:8080/",
          "height": 424
        },
        "id": "eLOwAnQ4fZcS",
        "outputId": "1e6feb5b-a4aa-44a1-f245-28487aab5035"
      },
      "outputs": [
        {
          "output_type": "execute_result",
          "data": {
            "text/plain": [
              "                                     Customer_reviewText  polarity  \\\n",
              "15                                       [unlik, review] -0.125000   \n",
              "22     [nice, hat, fit, size, place, put, rank, insig... -0.010000   \n",
              "24     [realli, like, size, bag, usual, casual, mode,... -0.065000   \n",
              "25     [use, le, sportsac, bag, swim, gear, love, sta... -0.158333   \n",
              "26     [bought, handbag, last, spring, wore, summer, ... -0.116667   \n",
              "...                                                  ...       ...   \n",
              "54942            [ring, brighter, pictur, unlik, review] -0.125000   \n",
              "54947  [small, size, order, tri, wear, one, pair, tor... -0.020833   \n",
              "54958  [look, silk, boxer, store, day, difficult, fou... -0.107143   \n",
              "54966  [order, think, silk, stupid, realli, disappoin... -0.343333   \n",
              "54975  [bought, husband, post, op, recoveri, sinc, go... -0.100000   \n",
              "\n",
              "       subjectivity     Class  \n",
              "15         0.375000  Negative  \n",
              "22         0.950000  Negative  \n",
              "24         0.661667  Negative  \n",
              "25         0.858333  Negative  \n",
              "26         0.616667  Negative  \n",
              "...             ...       ...  \n",
              "54942      0.375000  Negative  \n",
              "54947      0.369444  Negative  \n",
              "54958      0.767857  Negative  \n",
              "54966      0.886667  Negative  \n",
              "54975      0.050000  Negative  \n",
              "\n",
              "[6044 rows x 4 columns]"
            ],
            "text/html": [
              "\n",
              "  <div id=\"df-d3d31be2-e4dc-4bca-81ba-e35349bedf7f\">\n",
              "    <div class=\"colab-df-container\">\n",
              "      <div>\n",
              "<style scoped>\n",
              "    .dataframe tbody tr th:only-of-type {\n",
              "        vertical-align: middle;\n",
              "    }\n",
              "\n",
              "    .dataframe tbody tr th {\n",
              "        vertical-align: top;\n",
              "    }\n",
              "\n",
              "    .dataframe thead th {\n",
              "        text-align: right;\n",
              "    }\n",
              "</style>\n",
              "<table border=\"1\" class=\"dataframe\">\n",
              "  <thead>\n",
              "    <tr style=\"text-align: right;\">\n",
              "      <th></th>\n",
              "      <th>Customer_reviewText</th>\n",
              "      <th>polarity</th>\n",
              "      <th>subjectivity</th>\n",
              "      <th>Class</th>\n",
              "    </tr>\n",
              "  </thead>\n",
              "  <tbody>\n",
              "    <tr>\n",
              "      <th>15</th>\n",
              "      <td>[unlik, review]</td>\n",
              "      <td>-0.125000</td>\n",
              "      <td>0.375000</td>\n",
              "      <td>Negative</td>\n",
              "    </tr>\n",
              "    <tr>\n",
              "      <th>22</th>\n",
              "      <td>[nice, hat, fit, size, place, put, rank, insig...</td>\n",
              "      <td>-0.010000</td>\n",
              "      <td>0.950000</td>\n",
              "      <td>Negative</td>\n",
              "    </tr>\n",
              "    <tr>\n",
              "      <th>24</th>\n",
              "      <td>[realli, like, size, bag, usual, casual, mode,...</td>\n",
              "      <td>-0.065000</td>\n",
              "      <td>0.661667</td>\n",
              "      <td>Negative</td>\n",
              "    </tr>\n",
              "    <tr>\n",
              "      <th>25</th>\n",
              "      <td>[use, le, sportsac, bag, swim, gear, love, sta...</td>\n",
              "      <td>-0.158333</td>\n",
              "      <td>0.858333</td>\n",
              "      <td>Negative</td>\n",
              "    </tr>\n",
              "    <tr>\n",
              "      <th>26</th>\n",
              "      <td>[bought, handbag, last, spring, wore, summer, ...</td>\n",
              "      <td>-0.116667</td>\n",
              "      <td>0.616667</td>\n",
              "      <td>Negative</td>\n",
              "    </tr>\n",
              "    <tr>\n",
              "      <th>...</th>\n",
              "      <td>...</td>\n",
              "      <td>...</td>\n",
              "      <td>...</td>\n",
              "      <td>...</td>\n",
              "    </tr>\n",
              "    <tr>\n",
              "      <th>54942</th>\n",
              "      <td>[ring, brighter, pictur, unlik, review]</td>\n",
              "      <td>-0.125000</td>\n",
              "      <td>0.375000</td>\n",
              "      <td>Negative</td>\n",
              "    </tr>\n",
              "    <tr>\n",
              "      <th>54947</th>\n",
              "      <td>[small, size, order, tri, wear, one, pair, tor...</td>\n",
              "      <td>-0.020833</td>\n",
              "      <td>0.369444</td>\n",
              "      <td>Negative</td>\n",
              "    </tr>\n",
              "    <tr>\n",
              "      <th>54958</th>\n",
              "      <td>[look, silk, boxer, store, day, difficult, fou...</td>\n",
              "      <td>-0.107143</td>\n",
              "      <td>0.767857</td>\n",
              "      <td>Negative</td>\n",
              "    </tr>\n",
              "    <tr>\n",
              "      <th>54966</th>\n",
              "      <td>[order, think, silk, stupid, realli, disappoin...</td>\n",
              "      <td>-0.343333</td>\n",
              "      <td>0.886667</td>\n",
              "      <td>Negative</td>\n",
              "    </tr>\n",
              "    <tr>\n",
              "      <th>54975</th>\n",
              "      <td>[bought, husband, post, op, recoveri, sinc, go...</td>\n",
              "      <td>-0.100000</td>\n",
              "      <td>0.050000</td>\n",
              "      <td>Negative</td>\n",
              "    </tr>\n",
              "  </tbody>\n",
              "</table>\n",
              "<p>6044 rows × 4 columns</p>\n",
              "</div>\n",
              "      <button class=\"colab-df-convert\" onclick=\"convertToInteractive('df-d3d31be2-e4dc-4bca-81ba-e35349bedf7f')\"\n",
              "              title=\"Convert this dataframe to an interactive table.\"\n",
              "              style=\"display:none;\">\n",
              "        \n",
              "  <svg xmlns=\"http://www.w3.org/2000/svg\" height=\"24px\"viewBox=\"0 0 24 24\"\n",
              "       width=\"24px\">\n",
              "    <path d=\"M0 0h24v24H0V0z\" fill=\"none\"/>\n",
              "    <path d=\"M18.56 5.44l.94 2.06.94-2.06 2.06-.94-2.06-.94-.94-2.06-.94 2.06-2.06.94zm-11 1L8.5 8.5l.94-2.06 2.06-.94-2.06-.94L8.5 2.5l-.94 2.06-2.06.94zm10 10l.94 2.06.94-2.06 2.06-.94-2.06-.94-.94-2.06-.94 2.06-2.06.94z\"/><path d=\"M17.41 7.96l-1.37-1.37c-.4-.4-.92-.59-1.43-.59-.52 0-1.04.2-1.43.59L10.3 9.45l-7.72 7.72c-.78.78-.78 2.05 0 2.83L4 21.41c.39.39.9.59 1.41.59.51 0 1.02-.2 1.41-.59l7.78-7.78 2.81-2.81c.8-.78.8-2.07 0-2.86zM5.41 20L4 18.59l7.72-7.72 1.47 1.35L5.41 20z\"/>\n",
              "  </svg>\n",
              "      </button>\n",
              "      \n",
              "  <style>\n",
              "    .colab-df-container {\n",
              "      display:flex;\n",
              "      flex-wrap:wrap;\n",
              "      gap: 12px;\n",
              "    }\n",
              "\n",
              "    .colab-df-convert {\n",
              "      background-color: #E8F0FE;\n",
              "      border: none;\n",
              "      border-radius: 50%;\n",
              "      cursor: pointer;\n",
              "      display: none;\n",
              "      fill: #1967D2;\n",
              "      height: 32px;\n",
              "      padding: 0 0 0 0;\n",
              "      width: 32px;\n",
              "    }\n",
              "\n",
              "    .colab-df-convert:hover {\n",
              "      background-color: #E2EBFA;\n",
              "      box-shadow: 0px 1px 2px rgba(60, 64, 67, 0.3), 0px 1px 3px 1px rgba(60, 64, 67, 0.15);\n",
              "      fill: #174EA6;\n",
              "    }\n",
              "\n",
              "    [theme=dark] .colab-df-convert {\n",
              "      background-color: #3B4455;\n",
              "      fill: #D2E3FC;\n",
              "    }\n",
              "\n",
              "    [theme=dark] .colab-df-convert:hover {\n",
              "      background-color: #434B5C;\n",
              "      box-shadow: 0px 1px 3px 1px rgba(0, 0, 0, 0.15);\n",
              "      filter: drop-shadow(0px 1px 2px rgba(0, 0, 0, 0.3));\n",
              "      fill: #FFFFFF;\n",
              "    }\n",
              "  </style>\n",
              "\n",
              "      <script>\n",
              "        const buttonEl =\n",
              "          document.querySelector('#df-d3d31be2-e4dc-4bca-81ba-e35349bedf7f button.colab-df-convert');\n",
              "        buttonEl.style.display =\n",
              "          google.colab.kernel.accessAllowed ? 'block' : 'none';\n",
              "\n",
              "        async function convertToInteractive(key) {\n",
              "          const element = document.querySelector('#df-d3d31be2-e4dc-4bca-81ba-e35349bedf7f');\n",
              "          const dataTable =\n",
              "            await google.colab.kernel.invokeFunction('convertToInteractive',\n",
              "                                                     [key], {});\n",
              "          if (!dataTable) return;\n",
              "\n",
              "          const docLinkHtml = 'Like what you see? Visit the ' +\n",
              "            '<a target=\"_blank\" href=https://colab.research.google.com/notebooks/data_table.ipynb>data table notebook</a>'\n",
              "            + ' to learn more about interactive tables.';\n",
              "          element.innerHTML = '';\n",
              "          dataTable['output_type'] = 'display_data';\n",
              "          await google.colab.output.renderOutput(dataTable, element);\n",
              "          const docLink = document.createElement('div');\n",
              "          docLink.innerHTML = docLinkHtml;\n",
              "          element.appendChild(docLink);\n",
              "        }\n",
              "      </script>\n",
              "    </div>\n",
              "  </div>\n",
              "  "
            ]
          },
          "metadata": {},
          "execution_count": 139
        }
      ],
      "source": [
        "ncomment = df[df.Class == 'Negative']\n",
        "ncomment"
      ]
    },
    {
      "cell_type": "code",
      "execution_count": 140,
      "metadata": {
        "colab": {
          "base_uri": "https://localhost:8080/",
          "height": 424
        },
        "id": "8fECXzrA4P4T",
        "outputId": "b0f49451-e196-47e8-b824-fe7d2780819e"
      },
      "outputs": [
        {
          "output_type": "execute_result",
          "data": {
            "text/plain": [
              "                                     Customer_reviewText  polarity  \\\n",
              "8                                           [like, wear]       0.0   \n",
              "31                             [like, bag, dont, chintz]       0.0   \n",
              "32      [bought, bag, differ, design, fabric, australia]       0.0   \n",
              "58                              [espectacular, sunglass]       0.0   \n",
              "59                                         [feel, solid]       0.0   \n",
              "...                                                  ...       ...   \n",
              "54945                                       [ring, oval]       0.0   \n",
              "54955  [bought, boxer, short, dad, hospit, heart, con...       0.0   \n",
              "54959                            [like, product, receiv]       0.0   \n",
              "54963  [got, one, set, father, last, year, sleep, tsh...       0.0   \n",
              "54981                              [husband, love, item]       0.0   \n",
              "\n",
              "       subjectivity    Class  \n",
              "8          0.000000  Neutral  \n",
              "31         0.000000  Neutral  \n",
              "32         0.362500  Neutral  \n",
              "58         0.000000  Neutral  \n",
              "59         0.100000  Neutral  \n",
              "...             ...      ...  \n",
              "54945      0.000000  Neutral  \n",
              "54955      0.000000  Neutral  \n",
              "54959      0.000000  Neutral  \n",
              "54963      0.066667  Neutral  \n",
              "54981      0.000000  Neutral  \n",
              "\n",
              "[7161 rows x 4 columns]"
            ],
            "text/html": [
              "\n",
              "  <div id=\"df-60b23bd5-9682-4d5a-ae22-fb4758a53680\">\n",
              "    <div class=\"colab-df-container\">\n",
              "      <div>\n",
              "<style scoped>\n",
              "    .dataframe tbody tr th:only-of-type {\n",
              "        vertical-align: middle;\n",
              "    }\n",
              "\n",
              "    .dataframe tbody tr th {\n",
              "        vertical-align: top;\n",
              "    }\n",
              "\n",
              "    .dataframe thead th {\n",
              "        text-align: right;\n",
              "    }\n",
              "</style>\n",
              "<table border=\"1\" class=\"dataframe\">\n",
              "  <thead>\n",
              "    <tr style=\"text-align: right;\">\n",
              "      <th></th>\n",
              "      <th>Customer_reviewText</th>\n",
              "      <th>polarity</th>\n",
              "      <th>subjectivity</th>\n",
              "      <th>Class</th>\n",
              "    </tr>\n",
              "  </thead>\n",
              "  <tbody>\n",
              "    <tr>\n",
              "      <th>8</th>\n",
              "      <td>[like, wear]</td>\n",
              "      <td>0.0</td>\n",
              "      <td>0.000000</td>\n",
              "      <td>Neutral</td>\n",
              "    </tr>\n",
              "    <tr>\n",
              "      <th>31</th>\n",
              "      <td>[like, bag, dont, chintz]</td>\n",
              "      <td>0.0</td>\n",
              "      <td>0.000000</td>\n",
              "      <td>Neutral</td>\n",
              "    </tr>\n",
              "    <tr>\n",
              "      <th>32</th>\n",
              "      <td>[bought, bag, differ, design, fabric, australia]</td>\n",
              "      <td>0.0</td>\n",
              "      <td>0.362500</td>\n",
              "      <td>Neutral</td>\n",
              "    </tr>\n",
              "    <tr>\n",
              "      <th>58</th>\n",
              "      <td>[espectacular, sunglass]</td>\n",
              "      <td>0.0</td>\n",
              "      <td>0.000000</td>\n",
              "      <td>Neutral</td>\n",
              "    </tr>\n",
              "    <tr>\n",
              "      <th>59</th>\n",
              "      <td>[feel, solid]</td>\n",
              "      <td>0.0</td>\n",
              "      <td>0.100000</td>\n",
              "      <td>Neutral</td>\n",
              "    </tr>\n",
              "    <tr>\n",
              "      <th>...</th>\n",
              "      <td>...</td>\n",
              "      <td>...</td>\n",
              "      <td>...</td>\n",
              "      <td>...</td>\n",
              "    </tr>\n",
              "    <tr>\n",
              "      <th>54945</th>\n",
              "      <td>[ring, oval]</td>\n",
              "      <td>0.0</td>\n",
              "      <td>0.000000</td>\n",
              "      <td>Neutral</td>\n",
              "    </tr>\n",
              "    <tr>\n",
              "      <th>54955</th>\n",
              "      <td>[bought, boxer, short, dad, hospit, heart, con...</td>\n",
              "      <td>0.0</td>\n",
              "      <td>0.000000</td>\n",
              "      <td>Neutral</td>\n",
              "    </tr>\n",
              "    <tr>\n",
              "      <th>54959</th>\n",
              "      <td>[like, product, receiv]</td>\n",
              "      <td>0.0</td>\n",
              "      <td>0.000000</td>\n",
              "      <td>Neutral</td>\n",
              "    </tr>\n",
              "    <tr>\n",
              "      <th>54963</th>\n",
              "      <td>[got, one, set, father, last, year, sleep, tsh...</td>\n",
              "      <td>0.0</td>\n",
              "      <td>0.066667</td>\n",
              "      <td>Neutral</td>\n",
              "    </tr>\n",
              "    <tr>\n",
              "      <th>54981</th>\n",
              "      <td>[husband, love, item]</td>\n",
              "      <td>0.0</td>\n",
              "      <td>0.000000</td>\n",
              "      <td>Neutral</td>\n",
              "    </tr>\n",
              "  </tbody>\n",
              "</table>\n",
              "<p>7161 rows × 4 columns</p>\n",
              "</div>\n",
              "      <button class=\"colab-df-convert\" onclick=\"convertToInteractive('df-60b23bd5-9682-4d5a-ae22-fb4758a53680')\"\n",
              "              title=\"Convert this dataframe to an interactive table.\"\n",
              "              style=\"display:none;\">\n",
              "        \n",
              "  <svg xmlns=\"http://www.w3.org/2000/svg\" height=\"24px\"viewBox=\"0 0 24 24\"\n",
              "       width=\"24px\">\n",
              "    <path d=\"M0 0h24v24H0V0z\" fill=\"none\"/>\n",
              "    <path d=\"M18.56 5.44l.94 2.06.94-2.06 2.06-.94-2.06-.94-.94-2.06-.94 2.06-2.06.94zm-11 1L8.5 8.5l.94-2.06 2.06-.94-2.06-.94L8.5 2.5l-.94 2.06-2.06.94zm10 10l.94 2.06.94-2.06 2.06-.94-2.06-.94-.94-2.06-.94 2.06-2.06.94z\"/><path d=\"M17.41 7.96l-1.37-1.37c-.4-.4-.92-.59-1.43-.59-.52 0-1.04.2-1.43.59L10.3 9.45l-7.72 7.72c-.78.78-.78 2.05 0 2.83L4 21.41c.39.39.9.59 1.41.59.51 0 1.02-.2 1.41-.59l7.78-7.78 2.81-2.81c.8-.78.8-2.07 0-2.86zM5.41 20L4 18.59l7.72-7.72 1.47 1.35L5.41 20z\"/>\n",
              "  </svg>\n",
              "      </button>\n",
              "      \n",
              "  <style>\n",
              "    .colab-df-container {\n",
              "      display:flex;\n",
              "      flex-wrap:wrap;\n",
              "      gap: 12px;\n",
              "    }\n",
              "\n",
              "    .colab-df-convert {\n",
              "      background-color: #E8F0FE;\n",
              "      border: none;\n",
              "      border-radius: 50%;\n",
              "      cursor: pointer;\n",
              "      display: none;\n",
              "      fill: #1967D2;\n",
              "      height: 32px;\n",
              "      padding: 0 0 0 0;\n",
              "      width: 32px;\n",
              "    }\n",
              "\n",
              "    .colab-df-convert:hover {\n",
              "      background-color: #E2EBFA;\n",
              "      box-shadow: 0px 1px 2px rgba(60, 64, 67, 0.3), 0px 1px 3px 1px rgba(60, 64, 67, 0.15);\n",
              "      fill: #174EA6;\n",
              "    }\n",
              "\n",
              "    [theme=dark] .colab-df-convert {\n",
              "      background-color: #3B4455;\n",
              "      fill: #D2E3FC;\n",
              "    }\n",
              "\n",
              "    [theme=dark] .colab-df-convert:hover {\n",
              "      background-color: #434B5C;\n",
              "      box-shadow: 0px 1px 3px 1px rgba(0, 0, 0, 0.15);\n",
              "      filter: drop-shadow(0px 1px 2px rgba(0, 0, 0, 0.3));\n",
              "      fill: #FFFFFF;\n",
              "    }\n",
              "  </style>\n",
              "\n",
              "      <script>\n",
              "        const buttonEl =\n",
              "          document.querySelector('#df-60b23bd5-9682-4d5a-ae22-fb4758a53680 button.colab-df-convert');\n",
              "        buttonEl.style.display =\n",
              "          google.colab.kernel.accessAllowed ? 'block' : 'none';\n",
              "\n",
              "        async function convertToInteractive(key) {\n",
              "          const element = document.querySelector('#df-60b23bd5-9682-4d5a-ae22-fb4758a53680');\n",
              "          const dataTable =\n",
              "            await google.colab.kernel.invokeFunction('convertToInteractive',\n",
              "                                                     [key], {});\n",
              "          if (!dataTable) return;\n",
              "\n",
              "          const docLinkHtml = 'Like what you see? Visit the ' +\n",
              "            '<a target=\"_blank\" href=https://colab.research.google.com/notebooks/data_table.ipynb>data table notebook</a>'\n",
              "            + ' to learn more about interactive tables.';\n",
              "          element.innerHTML = '';\n",
              "          dataTable['output_type'] = 'display_data';\n",
              "          await google.colab.output.renderOutput(dataTable, element);\n",
              "          const docLink = document.createElement('div');\n",
              "          docLink.innerHTML = docLinkHtml;\n",
              "          element.appendChild(docLink);\n",
              "        }\n",
              "      </script>\n",
              "    </div>\n",
              "  </div>\n",
              "  "
            ]
          },
          "metadata": {},
          "execution_count": 140
        }
      ],
      "source": [
        "Neucomment = df[df.Class == 'Neutral']\n",
        "Neucomment"
      ]
    },
    {
      "cell_type": "code",
      "execution_count": 141,
      "metadata": {
        "id": "qH-KiXj274-G"
      },
      "outputs": [],
      "source": [
        "df = pd.concat([pcomment,ncomment,Neucomment], axis = 0)"
      ]
    },
    {
      "cell_type": "code",
      "execution_count": 142,
      "metadata": {
        "colab": {
          "base_uri": "https://localhost:8080/"
        },
        "id": "GgeeOOE68sKg",
        "outputId": "a78ba262-7943-4006-b709-cb459b46ed34"
      },
      "outputs": [
        {
          "output_type": "execute_result",
          "data": {
            "text/plain": [
              "Positive    18400\n",
              "Neutral      7161\n",
              "Negative     6044\n",
              "Name: Class, dtype: int64"
            ]
          },
          "metadata": {},
          "execution_count": 142
        }
      ],
      "source": [
        "df.Class.value_counts()"
      ]
    },
    {
      "cell_type": "code",
      "execution_count": 143,
      "metadata": {
        "id": "7lj2zUIjRAxJ"
      },
      "outputs": [],
      "source": [
        "import seaborn as sns"
      ]
    },
    {
      "cell_type": "code",
      "execution_count": 144,
      "metadata": {
        "colab": {
          "base_uri": "https://localhost:8080/",
          "height": 272
        },
        "id": "xmUMWaN5Q4_p",
        "outputId": "14c96f13-b3b6-48b4-86b0-1fbd243edc82"
      },
      "outputs": [
        {
          "output_type": "display_data",
          "data": {
            "text/plain": [
              "<Figure size 648x216 with 1 Axes>"
            ],
            "image/png": "[encoded data removed]"
          },
          "metadata": {}
        }
      ],
      "source": [
        "sns.set(font_scale=1.4)\n",
        "df['Class'].value_counts().plot(kind='barh', figsize=(9, 3))\n",
        "plt.xlabel(\"Number of Comments\", labelpad=12)\n",
        "plt.ylabel(\"Sentiment Class\", labelpad=12)\n",
        "plt.yticks(rotation = 45)\n",
        "plt.title(\"Dataset Distribution\", y=1.02);"
      ]
    },
    {
      "cell_type": "markdown",
      "metadata": {
        "id": "KN2Ph2LgbXV8"
      },
      "source": [
        "LabelEncoder"
      ]
    },
    {
      "cell_type": "code",
      "execution_count": 145,
      "metadata": {
        "colab": {
          "base_uri": "https://localhost:8080/"
        },
        "id": "f5aBzLrk-rE5",
        "outputId": "7449b299-72a8-41c7-816d-c142a6c99417"
      },
      "outputs": [
        {
          "output_type": "execute_result",
          "data": {
            "text/plain": [
              "0        2\n",
              "1        2\n",
              "2        2\n",
              "3        2\n",
              "4        2\n",
              "        ..\n",
              "54945    1\n",
              "54955    1\n",
              "54959    1\n",
              "54963    1\n",
              "54981    1\n",
              "Name: Class, Length: 31605, dtype: int64"
            ]
          },
          "metadata": {},
          "execution_count": 145
        }
      ],
      "source": [
        "from sklearn.preprocessing import LabelEncoder\n",
        "df['Class'] = LabelEncoder().fit_transform(df['Class'])\n",
        "df['Class']"
      ]
    },
    {
      "cell_type": "code",
      "execution_count": 146,
      "metadata": {
        "colab": {
          "base_uri": "https://localhost:8080/"
        },
        "id": "nBSuqBFDdogo",
        "outputId": "2cfe6a02-ef08-4ada-949f-6957f5ada0b2"
      },
      "outputs": [
        {
          "output_type": "execute_result",
          "data": {
            "text/plain": [
              "0        ['fit', 'great', 'hot', 'bulki', 'perfect', 'l...\n",
              "1        ['great', 'loung', 'set', 'color', 'plea', 'ex...\n",
              "2        ['order', 'color', 'love', 'loung', 'setsthey'...\n",
              "3        ['purchas', 'happi', 'soft', 'found,2', 'hole'...\n",
              "4        ['bought', 'soninlaw', 'put', 'soon', 'got', '...\n",
              "                               ...                        \n",
              "54945                                     ['ring', 'oval']\n",
              "54955    ['bought', 'boxer', 'short', 'dad', 'hospit', ...\n",
              "54959                        ['like', 'product', 'receiv']\n",
              "54963    ['got', 'one', 'set', 'father', 'last', 'year'...\n",
              "54981                          ['husband', 'love', 'item']\n",
              "Name: Customer_reviewText, Length: 31605, dtype: object"
            ]
          },
          "metadata": {},
          "execution_count": 146
        }
      ],
      "source": [
        "df['Customer_reviewText'] = df['Customer_reviewText'].astype(str)\n",
        "df['Customer_reviewText']"
      ]
    },
    {
      "cell_type": "code",
      "execution_count": 147,
      "metadata": {
        "id": "xDuv8kGbA5mi"
      },
      "outputs": [],
      "source": [
        "x = df.Customer_reviewText.values\n",
        "y= df.Class.values\n"
      ]
    },
    {
      "cell_type": "code",
      "execution_count": 148,
      "metadata": {
        "colab": {
          "base_uri": "https://localhost:8080/"
        },
        "id": "8MmS1sI-SFgY",
        "outputId": "14e301d4-6a95-4c33-8b8a-a6d044fb269c"
      },
      "outputs": [
        {
          "output_type": "execute_result",
          "data": {
            "text/plain": [
              "((31605,), (31605,))"
            ]
          },
          "metadata": {},
          "execution_count": 148
        }
      ],
      "source": [
        "x.shape,y.shape"
      ]
    },
    {
      "cell_type": "markdown",
      "metadata": {
        "id": "eQnuRzTebti8"
      },
      "source": [
        "Tokenizer"
      ]
    },
    {
      "cell_type": "code",
      "execution_count": 149,
      "metadata": {
        "id": "h_1Vph0UK_2b"
      },
      "outputs": [],
      "source": [
        "MAX_NB_WORDS = 31605"
      ]
    },
    {
      "cell_type": "code",
      "execution_count": 150,
      "metadata": {
        "id": "ufHTHfxcLqUC"
      },
      "outputs": [],
      "source": [
        "from keras.preprocessing.text import Tokenizer\n",
        "from tensorflow.keras.preprocessing.sequence import pad_sequences"
      ]
    },
    {
      "cell_type": "code",
      "execution_count": 151,
      "metadata": {
        "colab": {
          "base_uri": "https://localhost:8080/"
        },
        "id": "YSm4waEZ6T4S",
        "outputId": "fa0b044d-15c5-416f-c149-d4ad74154385"
      },
      "outputs": [
        {
          "output_type": "stream",
          "name": "stderr",
          "text": [
            "/usr/local/lib/python3.8/dist-packages/keras/preprocessing/text.py:234: UserWarning: The `nb_words` argument in `Tokenizer` has been renamed `num_words`.\n",
            "  warnings.warn('The `nb_words` argument in `Tokenizer` '\n"
          ]
        },
        {
          "output_type": "stream",
          "name": "stdout",
          "text": [
            "Found 19358 unique tokens.\n"
          ]
        }
      ],
      "source": [
        "tokenizer = Tokenizer(nb_words=MAX_NB_WORDS, char_level=False)\n",
        "tokenizer.fit_on_texts(df.Customer_reviewText)\n",
        "sequences = tokenizer.texts_to_sequences(df.Customer_reviewText)\n",
        "word_index = tokenizer.word_index\n",
        "print('Found %s unique tokens.' % len(word_index))"
      ]
    },
    {
      "cell_type": "code",
      "execution_count": 152,
      "metadata": {
        "colab": {
          "base_uri": "https://localhost:8080/"
        },
        "id": "gKJCsrWVMceD",
        "outputId": "f3eec1c9-39f0-497c-afd8-3363b865cacb"
      },
      "outputs": [
        {
          "output_type": "execute_result",
          "data": {
            "text/plain": [
              "[3, 7, 414, 615, 40, 7939, 551, 33, 1771, 1576, 15, 102, 1333]"
            ]
          },
          "metadata": {},
          "execution_count": 152
        }
      ],
      "source": [
        "sequences[0]"
      ]
    },
    {
      "cell_type": "code",
      "execution_count": 153,
      "metadata": {
        "colab": {
          "base_uri": "https://localhost:8080/"
        },
        "id": "lFc-8iyPMira",
        "outputId": "66dae2aa-4a5b-4a0f-fa67-cbc8cd0df493"
      },
      "outputs": [
        {
          "output_type": "execute_result",
          "data": {
            "text/plain": [
              "(dict, 19358)"
            ]
          },
          "metadata": {},
          "execution_count": 153
        }
      ],
      "source": [
        "type(tokenizer.word_index), len(tokenizer.word_index)"
      ]
    },
    {
      "cell_type": "code",
      "execution_count": 154,
      "metadata": {
        "id": "iUm3Q5wfMw_w"
      },
      "outputs": [],
      "source": [
        "index_to_word = dict((i, w) for w, i in tokenizer.word_index.items())"
      ]
    },
    {
      "cell_type": "code",
      "execution_count": 155,
      "metadata": {
        "colab": {
          "base_uri": "https://localhost:8080/",
          "height": 35
        },
        "id": "ZPYkhPJRM4xK",
        "outputId": "28e3e320-f92e-498a-e384-521901cc181f"
      },
      "outputs": [
        {
          "output_type": "execute_result",
          "data": {
            "text/plain": [
              "\"'fit' 'great' 'hot' 'bulki' 'perfect' 'lounger' 'beach' 'watch' 'tv' 'indoor' 'would' 'wash' 'alon'\""
            ],
            "application/vnd.google.colaboratory.intrinsic+json": {
              "type": "string"
            }
          },
          "metadata": {},
          "execution_count": 155
        }
      ],
      "source": [
        "\" \".join([index_to_word[i] for i in sequences[0]])"
      ]
    },
    {
      "cell_type": "code",
      "execution_count": 156,
      "metadata": {
        "colab": {
          "base_uri": "https://localhost:8080/"
        },
        "id": "DzvXDixzM_6L",
        "outputId": "02e1482d-83e1-47ed-e8ed-f6b51822827f"
      },
      "outputs": [
        {
          "output_type": "stream",
          "name": "stdout",
          "text": [
            "average length: 11.8\n",
            "max length: 215\n"
          ]
        }
      ],
      "source": [
        "seq_lens = [len(s) for s in sequences]\n",
        "print(\"average length: %0.1f\" % np.mean(seq_lens))\n",
        "print(\"max length: %d\" % max(seq_lens))"
      ]
    },
    {
      "cell_type": "code",
      "execution_count": 157,
      "metadata": {
        "colab": {
          "base_uri": "https://localhost:8080/",
          "height": 273
        },
        "id": "UUj4ySftNILt",
        "outputId": "06cda0e9-b51a-4a71-965a-699f4a2479a0"
      },
      "outputs": [
        {
          "output_type": "display_data",
          "data": {
            "text/plain": [
              "<Figure size 432x288 with 1 Axes>"
            ],
            "image/png": "[encoded data removed]"
          },
          "metadata": {
            "needs_background": "light"
          }
        }
      ],
      "source": [
        "%matplotlib inline\n",
        "import matplotlib.pyplot as plt\n",
        "\n",
        "plt.hist(seq_lens, bins=50);"
      ]
    },
    {
      "cell_type": "code",
      "execution_count": 158,
      "metadata": {
        "colab": {
          "base_uri": "https://localhost:8080/",
          "height": 277
        },
        "id": "cNIQplZ3NSr1",
        "outputId": "cd31ce4a-25fe-418c-a9c5-369699bef281"
      },
      "outputs": [
        {
          "output_type": "display_data",
          "data": {
            "text/plain": [
              "<Figure size 432x288 with 1 Axes>"
            ],
            "image/png": "[encoded data removed]"
          },
          "metadata": {
            "needs_background": "light"
          }
        }
      ],
      "source": [
        "plt.hist([l for l in seq_lens if l < 200], bins=50);"
      ]
    },
    {
      "cell_type": "markdown",
      "metadata": {
        "id": "hUbRCws1y3qr"
      },
      "source": [
        "Stemming"
      ]
    },
    {
      "cell_type": "code",
      "execution_count": 159,
      "metadata": {
        "colab": {
          "base_uri": "https://localhost:8080/"
        },
        "id": "yZUXYNPCNzP0",
        "outputId": "2b71a21a-cb45-456a-dcfc-41b4f40b5638"
      },
      "outputs": [
        {
          "output_type": "stream",
          "name": "stdout",
          "text": [
            "Shape of data tensor: (31605, 215)\n"
          ]
        }
      ],
      "source": [
        "MAX_SEQUENCE_LENGTH = 215\n",
        "# pad sequences with 0s\n",
        "x = pad_sequences(sequences, maxlen=MAX_SEQUENCE_LENGTH)\n",
        "print('Shape of data tensor:', x.shape)\n"
      ]
    },
    {
      "cell_type": "markdown",
      "metadata": {
        "id": "dDWDQJMq8DGR"
      },
      "source": [
        "over_sampling"
      ]
    },
    {
      "cell_type": "code",
      "execution_count": 160,
      "metadata": {
        "colab": {
          "base_uri": "https://localhost:8080/"
        },
        "id": "8ubu7jOoxMBy",
        "outputId": "0edf995f-5153-426a-f7a9-d2087b3f29c1"
      },
      "outputs": [
        {
          "output_type": "stream",
          "name": "stdout",
          "text": [
            "[(0, 18400), (1, 18400), (2, 18400)]\n"
          ]
        }
      ],
      "source": [
        "from imblearn.over_sampling import SMOTE, ADASYN\n",
        "import collections\n",
        "x_resampled, y_resampled = SMOTE().fit_resample(x,y)\n",
        "print(sorted(collections.Counter(y_resampled).items()))"
      ]
    },
    {
      "cell_type": "code",
      "execution_count": 161,
      "metadata": {
        "id": "R55cUL2maRh9"
      },
      "outputs": [],
      "source": [
        "import matplotlib.pyplot as plt\n",
        "%matplotlib inline\n",
        "#Miscellanous libraries\n",
        "from collections import Counter"
      ]
    },
    {
      "cell_type": "code",
      "execution_count": 162,
      "metadata": {
        "colab": {
          "base_uri": "https://localhost:8080/",
          "height": 325
        },
        "id": "Rnfo76IQZTqp",
        "outputId": "813ddf67-4111-4490-bf2f-42c113b6b198"
      },
      "outputs": [
        {
          "output_type": "stream",
          "name": "stdout",
          "text": [
            "Class=2, n=18400 (58.219%)\n",
            "Class=0, n=18400 (58.219%)\n",
            "Class=1, n=18400 (58.219%)\n"
          ]
        },
        {
          "output_type": "display_data",
          "data": {
            "text/plain": [
              "<Figure size 432x288 with 1 Axes>"
            ],
            "image/png": "[encoded data removed]"
          },
          "metadata": {
            "needs_background": "light"
          }
        }
      ],
      "source": [
        "counter = Counter(y_resampled)\n",
        "for k,v in counter.items():\n",
        "    per = v / len(y) * 100\n",
        "    print('Class=%d, n=%d (%.3f%%)' % (k, v, per))\n",
        "plt.bar(counter.keys(), counter.values())\n",
        "plt.show()"
      ]
    },
    {
      "cell_type": "code",
      "execution_count": 163,
      "metadata": {
        "colab": {
          "base_uri": "https://localhost:8080/"
        },
        "id": "aelG-nKbXGta",
        "outputId": "fe9899d7-0359-407f-8a85-737c00bb2030"
      },
      "outputs": [
        {
          "output_type": "execute_result",
          "data": {
            "text/plain": [
              "((55200, 215), (55200,))"
            ]
          },
          "metadata": {},
          "execution_count": 163
        }
      ],
      "source": [
        "x_resampled.shape,y_resampled.shape"
      ]
    },
    {
      "cell_type": "code",
      "execution_count": 164,
      "metadata": {
        "colab": {
          "base_uri": "https://localhost:8080/"
        },
        "id": "kMR-XSFJx14o",
        "outputId": "310251fe-cb28-4730-a129-c55b18cae20d"
      },
      "outputs": [
        {
          "output_type": "execute_result",
          "data": {
            "text/plain": [
              "55200"
            ]
          },
          "metadata": {},
          "execution_count": 164
        }
      ],
      "source": [
        "len(y_resampled)"
      ]
    },
    {
      "cell_type": "code",
      "execution_count": 165,
      "metadata": {
        "id": "QDTOemYgCocq"
      },
      "outputs": [],
      "source": [
        "from sklearn.model_selection import train_test_split\n",
        "X_train, X_test, y_train, y_test = train_test_split(x_resampled,y_resampled,train_size=0.80, shuffle=True, random_state=45)"
      ]
    },
    {
      "cell_type": "code",
      "execution_count": 166,
      "metadata": {
        "colab": {
          "base_uri": "https://localhost:8080/"
        },
        "id": "mrGVZaawZzA2",
        "outputId": "ece08091-9dde-4c13-def7-168eac526e66"
      },
      "outputs": [
        {
          "output_type": "execute_result",
          "data": {
            "text/plain": [
              "((44160, 215), (11040, 215))"
            ]
          },
          "metadata": {},
          "execution_count": 166
        }
      ],
      "source": [
        "X_train.shape, X_test.shape"
      ]
    },
    {
      "cell_type": "code",
      "execution_count": 167,
      "metadata": {
        "colab": {
          "base_uri": "https://localhost:8080/"
        },
        "id": "bwon2NfODUNW",
        "outputId": "fef465a2-f595-4f91-b1f8-d7722112b05f"
      },
      "outputs": [
        {
          "output_type": "execute_result",
          "data": {
            "text/plain": [
              "(11040,)"
            ]
          },
          "metadata": {},
          "execution_count": 167
        }
      ],
      "source": [
        "y_test.shape"
      ]
    },
    {
      "cell_type": "code",
      "execution_count": 168,
      "metadata": {
        "id": "3m1CoeRf_sTJ"
      },
      "outputs": [],
      "source": [
        "from keras.utils import to_categorical"
      ]
    },
    {
      "cell_type": "code",
      "execution_count": 169,
      "metadata": {
        "colab": {
          "base_uri": "https://localhost:8080/"
        },
        "id": "3wrxBIs2Pv6t",
        "outputId": "4e06c755-18c2-48b4-f8df-dee2020df03d"
      },
      "outputs": [
        {
          "output_type": "stream",
          "name": "stdout",
          "text": [
            "Shape of label tensor Y_test: (11040, 3)\n",
            "Shape of label tensor Y_train: (44160, 3)\n"
          ]
        }
      ],
      "source": [
        "y_train = to_categorical(np.asarray(y_train))\n",
        "y_test= to_categorical(np.asarray(y_test))\n",
        "print('Shape of label tensor Y_test:', y_test.shape)\n",
        "print('Shape of label tensor Y_train:', y_train.shape)"
      ]
    },
    {
      "cell_type": "markdown",
      "metadata": {
        "id": "i5SlmoEX6t2a"
      },
      "source": [
        "Long Short-Term Memory(LSTM)"
      ]
    },
    {
      "cell_type": "code",
      "execution_count": 170,
      "metadata": {
        "id": "JA695jRtMaN5"
      },
      "outputs": [],
      "source": [
        "EMBEDDING_DIM = 450\n",
        "N_CLASSES = 3"
      ]
    },
    {
      "cell_type": "code",
      "execution_count": 171,
      "metadata": {
        "id": "MeHbWLN26-Wa"
      },
      "outputs": [],
      "source": [
        "from keras.layers import Dense, Embedding, LSTM, SpatialDropout1D \n",
        "from keras.models import Sequential"
      ]
    },
    {
      "cell_type": "code",
      "execution_count": 172,
      "metadata": {
        "id": "DUV-_BwW7oDa"
      },
      "outputs": [],
      "source": [
        "## Creating model\n",
        "model_lstm=Sequential()\n",
        "model_lstm.add(Embedding(MAX_NB_WORDS, EMBEDDING_DIM, input_length = MAX_SEQUENCE_LENGTH))\n",
        "model_lstm.add(SpatialDropout1D(0.5))\n",
        "model_lstm.add(LSTM(128))\n",
        "model_lstm.add(Dense(64, activation='relu'))\n",
        "model_lstm.add(Dense(3, activation='softmax'))"
      ]
    },
    {
      "cell_type": "code",
      "execution_count": 173,
      "metadata": {
        "colab": {
          "base_uri": "https://localhost:8080/"
        },
        "id": "vQN-J04_70Bv",
        "outputId": "8b0e67a8-fd6a-48a4-acad-31374730962c"
      },
      "outputs": [
        {
          "output_type": "stream",
          "name": "stdout",
          "text": [
            "Model: \"sequential_2\"\n",
            "_________________________________________________________________\n",
            " Layer (type)                Output Shape              Param #   \n",
            "=================================================================\n",
            " embedding_2 (Embedding)     (None, 215, 450)          14222250  \n",
            "                                                                 \n",
            " spatial_dropout1d_1 (Spatia  (None, 215, 450)         0         \n",
            " lDropout1D)                                                     \n",
            "                                                                 \n",
            " lstm_1 (LSTM)               (None, 128)               296448    \n",
            "                                                                 \n",
            " dense_5 (Dense)             (None, 64)                8256      \n",
            "                                                                 \n",
            " dense_6 (Dense)             (None, 3)                 195       \n",
            "                                                                 \n",
            "=================================================================\n",
            "Total params: 14,527,149\n",
            "Trainable params: 14,527,149\n",
            "Non-trainable params: 0\n",
            "_________________________________________________________________\n"
          ]
        }
      ],
      "source": [
        "model_lstm.compile(loss = 'categorical_crossentropy' , optimizer = 'adam' , metrics = 'accuracy')\n",
        "model_lstm.summary()"
      ]
    },
    {
      "cell_type": "code",
      "execution_count": 174,
      "metadata": {
        "id": "nIsOkaSB77__"
      },
      "outputs": [],
      "source": [
        "from tensorflow import keras"
      ]
    },
    {
      "cell_type": "code",
      "execution_count": 175,
      "metadata": {
        "colab": {
          "base_uri": "https://localhost:8080/",
          "height": 644
        },
        "id": "jshvRrIK8A5R",
        "outputId": "b4dfa270-aaf6-457e-ac23-4c94497e33b6"
      },
      "outputs": [
        {
          "output_type": "execute_result",
          "data": {
            "image/png": "[encoded data removed]",
            "text/plain": [
              "<IPython.core.display.Image object>"
            ]
          },
          "metadata": {},
          "execution_count": 175
        }
      ],
      "source": [
        "keras.utils.plot_model(model_lstm,to_file='lstm.png',show_shapes=True)"
      ]
    },
    {
      "cell_type": "code",
      "source": [
        "from keras.callbacks import EarlyStopping\n",
        "earlyStop=EarlyStopping(monitor=\"val_loss\",verbose=2,mode='min',patience=3)"
      ],
      "metadata": {
        "id": "Qig78JoH5Mew"
      },
      "execution_count": 176,
      "outputs": []
    },
    {
      "cell_type": "code",
      "execution_count": 177,
      "metadata": {
        "colab": {
          "base_uri": "https://localhost:8080/"
        },
        "id": "jRtKF2v38guh",
        "outputId": "20f65319-435b-4516-e486-3cf5a80a0c68"
      },
      "outputs": [
        {
          "output_type": "stream",
          "name": "stdout",
          "text": [
            "Epoch 1/40\n",
            "1380/1380 - 33s - loss: 0.7819 - accuracy: 0.6470 - val_loss: 0.7134 - val_accuracy: 0.6965 - 33s/epoch - 24ms/step\n",
            "Epoch 2/40\n",
            "1380/1380 - 31s - loss: 0.5972 - accuracy: 0.7493 - val_loss: 0.6533 - val_accuracy: 0.7284 - 31s/epoch - 22ms/step\n",
            "Epoch 3/40\n",
            "1380/1380 - 30s - loss: 0.4701 - accuracy: 0.8089 - val_loss: 0.6581 - val_accuracy: 0.7292 - 30s/epoch - 21ms/step\n",
            "Epoch 4/40\n",
            "1380/1380 - 30s - loss: 0.3712 - accuracy: 0.8507 - val_loss: 0.7160 - val_accuracy: 0.7329 - 30s/epoch - 21ms/step\n",
            "Epoch 5/40\n",
            "1380/1380 - 30s - loss: 0.2951 - accuracy: 0.8801 - val_loss: 0.8123 - val_accuracy: 0.7322 - 30s/epoch - 22ms/step\n",
            "Epoch 5: early stopping\n"
          ]
        }
      ],
      "source": [
        "lstm_model_fit = model_lstm.fit(X_train , y_train , validation_data= (X_test , y_test),batch_size = 32, \n",
        "          epochs = 40,verbose =2,callbacks=[earlyStop])"
      ]
    },
    {
      "cell_type": "code",
      "execution_count": 178,
      "metadata": {
        "id": "Ira0TlwD824o",
        "colab": {
          "base_uri": "https://localhost:8080/"
        },
        "outputId": "08e67e74-8b72-4daa-c1fd-96b7e912267b"
      },
      "outputs": [
        {
          "output_type": "stream",
          "name": "stdout",
          "text": [
            "345/345 [==============================] - 2s 7ms/step - loss: 0.8123 - accuracy: 0.7322\n",
            "[0.8123263716697693, 0.7322463989257812]\n"
          ]
        }
      ],
      "source": [
        "accuracy = model_lstm.evaluate(X_test, y_test)\n",
        "print(accuracy)"
      ]
    },
    {
      "cell_type": "code",
      "execution_count": 179,
      "metadata": {
        "id": "aFKLZPgUCyNK",
        "colab": {
          "base_uri": "https://localhost:8080/"
        },
        "outputId": "ca1b5fe9-0b48-4e82-dd5a-b7158e7bae8a"
      },
      "outputs": [
        {
          "output_type": "stream",
          "name": "stdout",
          "text": [
            "Accuracy: 73.22%\n"
          ]
        }
      ],
      "source": [
        "print(\"Accuracy: %.2f%%\" % (accuracy[1]*100))"
      ]
    },
    {
      "cell_type": "code",
      "execution_count": 180,
      "metadata": {
        "id": "tnfg9dW0C8WU",
        "colab": {
          "base_uri": "https://localhost:8080/"
        },
        "outputId": "a1411f09-e5aa-4eeb-d044-94b898c239fb"
      },
      "outputs": [
        {
          "output_type": "stream",
          "name": "stdout",
          "text": [
            "345/345 [==============================] - 3s 6ms/step\n",
            "rounded test_labels [[0. 0. 1.]\n",
            " [1. 0. 0.]\n",
            " [0. 1. 0.]\n",
            " ...\n",
            " [0. 1. 0.]\n",
            " [1. 0. 0.]\n",
            " [0. 1. 0.]]\n"
          ]
        }
      ],
      "source": [
        "preds = np.round(model_lstm.predict((X_test)),0)\n",
        "print(\"rounded test_labels\",preds)"
      ]
    },
    {
      "cell_type": "code",
      "execution_count": 181,
      "metadata": {
        "id": "RW3-9JgwDJN6"
      },
      "outputs": [],
      "source": [
        "test_labels = np.array((y_test))"
      ]
    },
    {
      "cell_type": "code",
      "execution_count": 182,
      "metadata": {
        "id": "bTxTtCI7Gkq1"
      },
      "outputs": [],
      "source": [
        "from sklearn import metrics"
      ]
    },
    {
      "cell_type": "code",
      "execution_count": 183,
      "metadata": {
        "id": "H2sRmLPRDXDF",
        "colab": {
          "base_uri": "https://localhost:8080/"
        },
        "outputId": "57dbe994-14bf-4260-ea66-67d1b2636186"
      },
      "outputs": [
        {
          "output_type": "stream",
          "name": "stdout",
          "text": [
            "              precision    recall  f1-score   support\n",
            "\n",
            "           0       0.70      0.64      0.67      3616\n",
            "           1       0.74      0.72      0.73      3625\n",
            "           2       0.79      0.79      0.79      3799\n",
            "\n",
            "   micro avg       0.74      0.72      0.73     11040\n",
            "   macro avg       0.74      0.72      0.73     11040\n",
            "weighted avg       0.74      0.72      0.73     11040\n",
            " samples avg       0.72      0.72      0.72     11040\n",
            "\n"
          ]
        },
        {
          "output_type": "stream",
          "name": "stderr",
          "text": [
            "/usr/local/lib/python3.8/dist-packages/sklearn/metrics/_classification.py:1318: UndefinedMetricWarning: Precision and F-score are ill-defined and being set to 0.0 in samples with no predicted labels. Use `zero_division` parameter to control this behavior.\n",
            "  _warn_prf(average, modifier, msg_start, len(result))\n"
          ]
        }
      ],
      "source": [
        "experiment_labels = [\"0\",\"1\",\"2\" ]\n",
        "classification_metrics = metrics.classification_report(test_labels,preds,target_names=experiment_labels)\n",
        "print(classification_metrics)"
      ]
    },
    {
      "cell_type": "code",
      "execution_count": 184,
      "metadata": {
        "id": "oMtdayNcD382",
        "colab": {
          "base_uri": "https://localhost:8080/",
          "height": 368
        },
        "outputId": "d865c9bb-4297-450b-978c-5de6bae4be8b"
      },
      "outputs": [
        {
          "output_type": "stream",
          "name": "stdout",
          "text": [
            "345/345 [==============================] - 2s 7ms/step\n"
          ]
        },
        {
          "output_type": "display_data",
          "data": {
            "text/plain": [
              "<Figure size 360x360 with 2 Axes>"
            ],
            "image/png": "[encoded data removed]"
          },
          "metadata": {
            "needs_background": "light"
          }
        }
      ],
      "source": [
        "from sklearn.metrics import confusion_matrix\n",
        "\n",
        "fig = plt.figure(figsize=(5, 5))\n",
        "\n",
        "pred = model_lstm.predict(X_test)\n",
        "\n",
        "pred = np.argmax(pred, 1)\n",
        "test = np.argmax(y_test, 1)\n",
        "\n",
        "mat = confusion_matrix(test,pred)\n",
        "sns.heatmap(mat.T, linewidths=1, annot=True, fmt='g')\n",
        "\n",
        "plt.xlabel('Predicted Values')\n",
        "plt.ylabel('True Values');\n",
        "plt.show();\n"
      ]
    },
    {
      "cell_type": "code",
      "execution_count": 185,
      "metadata": {
        "id": "1L3dhtXMEQJX",
        "colab": {
          "base_uri": "https://localhost:8080/"
        },
        "outputId": "2ebcd1c9-e4c8-4d3a-f03b-056a50481d65"
      },
      "outputs": [
        {
          "output_type": "stream",
          "name": "stdout",
          "text": [
            "1/1 [==============================] - 0s 342ms/step\n",
            "1\n"
          ]
        }
      ],
      "source": [
        "comment=['Product is very good, fit is good']\n",
        "sequence = tokenizer.texts_to_sequences(comment)\n",
        "test = pad_sequences(sequence, maxlen=MAX_SEQUENCE_LENGTH)\n",
        "pred = model_lstm.predict(test)\n",
        "labels = ['0','1','2']\n",
        "print(labels[np.argmax(pred)])"
      ]
    },
    {
      "cell_type": "code",
      "execution_count": 186,
      "metadata": {
        "id": "lxzMZ-UlEafX"
      },
      "outputs": [],
      "source": [
        "hist = pd.DataFrame(lstm_model_fit.history)"
      ]
    },
    {
      "cell_type": "code",
      "execution_count": 187,
      "metadata": {
        "id": "f-ZgP8UJEgkl",
        "colab": {
          "base_uri": "https://localhost:8080/",
          "height": 421
        },
        "outputId": "63021cac-4111-4167-e566-9a86418ed4fd"
      },
      "outputs": [
        {
          "output_type": "execute_result",
          "data": {
            "text/plain": [
              "<matplotlib.legend.Legend at 0x7f938a663af0>"
            ]
          },
          "metadata": {},
          "execution_count": 187
        },
        {
          "output_type": "display_data",
          "data": {
            "text/plain": [
              "<Figure size 504x432 with 1 Axes>"
            ],
            "image/png": "[encoded data removed]"
          },
          "metadata": {
            "needs_background": "light"
          }
        }
      ],
      "source": [
        "plt.figure(figsize=(7,6))\n",
        "plt.xlabel('Epochs')\n",
        "plt.ylabel('Loss')\n",
        "hist['loss'].plot(label='Training Loss')\n",
        "hist['val_loss'].plot(label='Validation Loss')\n",
        "plt.legend(loc='center')"
      ]
    },
    {
      "cell_type": "code",
      "execution_count": 188,
      "metadata": {
        "id": "DoMLs86eEoW8",
        "colab": {
          "base_uri": "https://localhost:8080/",
          "height": 421
        },
        "outputId": "37811039-48ae-4ad0-cde3-b8ed3f6c4ac9"
      },
      "outputs": [
        {
          "output_type": "execute_result",
          "data": {
            "text/plain": [
              "<matplotlib.legend.Legend at 0x7f938a7c5d30>"
            ]
          },
          "metadata": {},
          "execution_count": 188
        },
        {
          "output_type": "display_data",
          "data": {
            "text/plain": [
              "<Figure size 504x432 with 1 Axes>"
            ],
            "image/png": "[encoded data removed]"
          },
          "metadata": {
            "needs_background": "light"
          }
        }
      ],
      "source": [
        "plt.figure(figsize=(7,6))\n",
        "plt.xlabel('Epochs')\n",
        "plt.ylabel('Accuracy')\n",
        "hist['accuracy'].plot(label='Training Accuracy')\n",
        "hist['val_accuracy'].plot(label='Validation Accuracy')\n",
        "plt.legend(loc='center')"
      ]
    },
    {
      "cell_type": "markdown",
      "metadata": {
        "id": "ZEfLswzkXE3A"
      },
      "source": [
        " Convolutional Neural Network (CNN)"
      ]
    },
    {
      "cell_type": "code",
      "execution_count": 189,
      "metadata": {
        "id": "ehj24bRlK69N"
      },
      "outputs": [],
      "source": [
        "from keras.layers import Dense , Dropout , Activation\n",
        "from keras.layers import MaxPooling1D , GlobalMaxPooling1D,Conv1D , Flatten"
      ]
    },
    {
      "cell_type": "code",
      "execution_count": 190,
      "metadata": {
        "id": "fK9j47Vh8DbE"
      },
      "outputs": [],
      "source": [
        "model = Sequential()\n",
        "model.add(Embedding(MAX_NB_WORDS, EMBEDDING_DIM, input_length = MAX_SEQUENCE_LENGTH))\n",
        "\n",
        "model.add(Conv1D(64 , 5 , padding = 'same',activation = 'relu'))\n",
        "model.add(MaxPooling1D(5))\n",
        "\n",
        "model.add(Conv1D(64 , 5 , padding = 'same',activation = 'relu'))\n",
        "model.add(MaxPooling1D(5))\n",
        "\n",
        "model.add(Conv1D(64 , 5 , padding = 'same',activation = 'relu'))\n",
        "model.add(MaxPooling1D(5))\n",
        "\n",
        "model.add(Flatten())\n",
        "model.add(Dense(64, activation='relu'))\n",
        "model.add(Dense(64, activation='relu'))\n",
        "model.add(Dense(3, activation='softmax'))"
      ]
    },
    {
      "cell_type": "code",
      "execution_count": 191,
      "metadata": {
        "id": "jIboLht08lRS",
        "colab": {
          "base_uri": "https://localhost:8080/"
        },
        "outputId": "5f649a49-67a9-4cdd-93db-a4debb3705ac"
      },
      "outputs": [
        {
          "output_type": "stream",
          "name": "stdout",
          "text": [
            "Model: \"sequential_3\"\n",
            "_________________________________________________________________\n",
            " Layer (type)                Output Shape              Param #   \n",
            "=================================================================\n",
            " embedding_3 (Embedding)     (None, 215, 450)          14222250  \n",
            "                                                                 \n",
            " conv1d_3 (Conv1D)           (None, 215, 64)           144064    \n",
            "                                                                 \n",
            " max_pooling1d_3 (MaxPooling  (None, 43, 64)           0         \n",
            " 1D)                                                             \n",
            "                                                                 \n",
            " conv1d_4 (Conv1D)           (None, 43, 64)            20544     \n",
            "                                                                 \n",
            " max_pooling1d_4 (MaxPooling  (None, 8, 64)            0         \n",
            " 1D)                                                             \n",
            "                                                                 \n",
            " conv1d_5 (Conv1D)           (None, 8, 64)             20544     \n",
            "                                                                 \n",
            " max_pooling1d_5 (MaxPooling  (None, 1, 64)            0         \n",
            " 1D)                                                             \n",
            "                                                                 \n",
            " flatten_1 (Flatten)         (None, 64)                0         \n",
            "                                                                 \n",
            " dense_7 (Dense)             (None, 64)                4160      \n",
            "                                                                 \n",
            " dense_8 (Dense)             (None, 64)                4160      \n",
            "                                                                 \n",
            " dense_9 (Dense)             (None, 3)                 195       \n",
            "                                                                 \n",
            "=================================================================\n",
            "Total params: 14,415,917\n",
            "Trainable params: 14,415,917\n",
            "Non-trainable params: 0\n",
            "_________________________________________________________________\n"
          ]
        }
      ],
      "source": [
        "model.compile(loss = 'categorical_crossentropy' , optimizer = 'adam' , metrics = 'accuracy')\n",
        "model.summary()"
      ]
    },
    {
      "cell_type": "code",
      "execution_count": 192,
      "metadata": {
        "id": "yKbJT8lbxPoR",
        "colab": {
          "base_uri": "https://localhost:8080/",
          "height": 1000
        },
        "outputId": "aff79429-ae59-4978-fc53-041b57f25dd4"
      },
      "outputs": [
        {
          "output_type": "execute_result",
          "data": {
            "image/png": "[encoded data removed]",
            "text/plain": [
              "<IPython.core.display.Image object>"
            ]
          },
          "metadata": {},
          "execution_count": 192
        }
      ],
      "source": [
        "keras.utils.plot_model(model,to_file='cnn.png',show_shapes=True)"
      ]
    },
    {
      "cell_type": "code",
      "execution_count": 193,
      "metadata": {
        "id": "Z7zspKJt8vUx",
        "colab": {
          "base_uri": "https://localhost:8080/"
        },
        "outputId": "b9c298e1-c08f-4a1b-abc8-ab201490def6"
      },
      "outputs": [
        {
          "output_type": "stream",
          "name": "stdout",
          "text": [
            "Epoch 1/40\n",
            "1380/1380 - 19s - loss: 1.0816 - accuracy: 0.3603 - val_loss: 1.0823 - val_accuracy: 0.3485 - 19s/epoch - 14ms/step\n",
            "Epoch 2/40\n",
            "1380/1380 - 18s - loss: 1.0767 - accuracy: 0.3633 - val_loss: 1.0838 - val_accuracy: 0.3553 - 18s/epoch - 13ms/step\n",
            "Epoch 3/40\n",
            "1380/1380 - 18s - loss: 1.0685 - accuracy: 0.3729 - val_loss: 1.0908 - val_accuracy: 0.3540 - 18s/epoch - 13ms/step\n",
            "Epoch 4/40\n",
            "1380/1380 - 18s - loss: 1.0557 - accuracy: 0.3793 - val_loss: 1.1004 - val_accuracy: 0.3554 - 18s/epoch - 13ms/step\n",
            "Epoch 4: early stopping\n"
          ]
        }
      ],
      "source": [
        "cnn_model=model.fit(X_train , y_train , validation_data= (X_test , y_test) ,batch_size = 32, \n",
        "          epochs = 40, verbose = 2,callbacks=[earlyStop])"
      ]
    },
    {
      "cell_type": "code",
      "execution_count": 194,
      "metadata": {
        "id": "AfNN83gU86V-",
        "colab": {
          "base_uri": "https://localhost:8080/"
        },
        "outputId": "159a7b75-bdcb-469e-cf40-49143b05521b"
      },
      "outputs": [
        {
          "output_type": "execute_result",
          "data": {
            "text/plain": [
              "[1.1003944873809814, 0.355434775352478]"
            ]
          },
          "metadata": {},
          "execution_count": 194
        }
      ],
      "source": [
        "scores = model.evaluate(X_test, y_test, verbose=0)\n",
        "scores"
      ]
    },
    {
      "cell_type": "code",
      "execution_count": 195,
      "metadata": {
        "id": "fiGL-SCB9Idt",
        "colab": {
          "base_uri": "https://localhost:8080/"
        },
        "outputId": "5e4ea085-d75f-4ca9-c520-edfa7f409944"
      },
      "outputs": [
        {
          "output_type": "stream",
          "name": "stdout",
          "text": [
            "Accuracy: 35.54%\n"
          ]
        }
      ],
      "source": [
        "print(\"Accuracy: %.2f%%\" % (scores[1]*100))"
      ]
    },
    {
      "cell_type": "code",
      "execution_count": 196,
      "metadata": {
        "id": "mBm24UbATVQ0"
      },
      "outputs": [],
      "source": [
        "from sklearn import metrics"
      ]
    },
    {
      "cell_type": "code",
      "execution_count": 197,
      "metadata": {
        "id": "XpkaQ2gLTZnp",
        "colab": {
          "base_uri": "https://localhost:8080/"
        },
        "outputId": "c31ff557-3204-47a0-f3b7-1cad10739dfa"
      },
      "outputs": [
        {
          "output_type": "stream",
          "name": "stdout",
          "text": [
            "345/345 [==============================] - 1s 2ms/step\n",
            "rounded test_labels [[0. 0. 0.]\n",
            " [0. 0. 0.]\n",
            " [0. 0. 0.]\n",
            " ...\n",
            " [0. 0. 0.]\n",
            " [0. 0. 0.]\n",
            " [0. 0. 0.]]\n"
          ]
        }
      ],
      "source": [
        "preds = np.round(model.predict((X_test)),0)\n",
        "print(\"rounded test_labels\",preds)"
      ]
    },
    {
      "cell_type": "code",
      "execution_count": 198,
      "metadata": {
        "id": "ycIi9onOTjF1"
      },
      "outputs": [],
      "source": [
        "test_labels = np.array((y_test))"
      ]
    },
    {
      "cell_type": "code",
      "execution_count": 199,
      "metadata": {
        "id": "sTOmXFcQTm-t",
        "colab": {
          "base_uri": "https://localhost:8080/"
        },
        "outputId": "c739f02f-82e0-47d3-837f-3349cc403f1f"
      },
      "outputs": [
        {
          "output_type": "stream",
          "name": "stdout",
          "text": [
            "              precision    recall  f1-score   support\n",
            "\n",
            "           0       0.51      0.02      0.05      3616\n",
            "           1       0.00      0.00      0.00      3625\n",
            "           2       0.63      0.05      0.10      3799\n",
            "\n",
            "   micro avg       0.59      0.03      0.05     11040\n",
            "   macro avg       0.38      0.03      0.05     11040\n",
            "weighted avg       0.38      0.03      0.05     11040\n",
            " samples avg       0.03      0.03      0.03     11040\n",
            "\n"
          ]
        },
        {
          "output_type": "stream",
          "name": "stderr",
          "text": [
            "/usr/local/lib/python3.8/dist-packages/sklearn/metrics/_classification.py:1318: UndefinedMetricWarning: Precision and F-score are ill-defined and being set to 0.0 in labels with no predicted samples. Use `zero_division` parameter to control this behavior.\n",
            "  _warn_prf(average, modifier, msg_start, len(result))\n",
            "/usr/local/lib/python3.8/dist-packages/sklearn/metrics/_classification.py:1318: UndefinedMetricWarning: Precision and F-score are ill-defined and being set to 0.0 in samples with no predicted labels. Use `zero_division` parameter to control this behavior.\n",
            "  _warn_prf(average, modifier, msg_start, len(result))\n"
          ]
        }
      ],
      "source": [
        "experiment_labels = [\"0\",\"1\",\"2\" ]\n",
        "classification_metrics = metrics.classification_report(test_labels,preds,target_names=experiment_labels)\n",
        "print(classification_metrics)"
      ]
    },
    {
      "cell_type": "code",
      "execution_count": 200,
      "metadata": {
        "id": "JHD4YKi_U2qa",
        "colab": {
          "base_uri": "https://localhost:8080/",
          "height": 366
        },
        "outputId": "096aa0ff-3547-4943-ea55-b263d1c88ebe"
      },
      "outputs": [
        {
          "output_type": "stream",
          "name": "stdout",
          "text": [
            "345/345 [==============================] - 1s 2ms/step\n"
          ]
        },
        {
          "output_type": "display_data",
          "data": {
            "text/plain": [
              "<Figure size 360x360 with 2 Axes>"
            ],
            "image/png": "[encoded data removed]"
          },
          "metadata": {
            "needs_background": "light"
          }
        }
      ],
      "source": [
        "from sklearn.metrics import confusion_matrix\n",
        "\n",
        "fig = plt.figure(figsize=(5, 5))\n",
        "\n",
        "pred = model.predict(X_test)\n",
        "\n",
        "pred = np.argmax(pred, 1)\n",
        "test = np.argmax(y_test, 1)\n",
        "\n",
        "mat = confusion_matrix(test,pred)\n",
        "sns.heatmap(mat.T, linewidths=1, annot=True, fmt='g')\n",
        "plt.xlabel('Predicted Values')\n",
        "plt.ylabel('True Values');\n",
        "plt.show();\n"
      ]
    },
    {
      "cell_type": "code",
      "execution_count": 201,
      "metadata": {
        "id": "WgfteSIByBd3",
        "colab": {
          "base_uri": "https://localhost:8080/"
        },
        "outputId": "75cd550f-e483-4bd3-8c25-04fb27e98230"
      },
      "outputs": [
        {
          "output_type": "stream",
          "name": "stdout",
          "text": [
            "1/1 [==============================] - 0s 103ms/step\n",
            "[[0.3097593  0.3612166  0.32902414]\n",
            " [0.3097593  0.3612166  0.32902414]\n",
            " [0.3097593  0.3612166  0.32902414]] 1\n"
          ]
        }
      ],
      "source": [
        "comment=['this product is poor for me and I am not satisfied with this product',\n",
        "         'Product is very good, fit is good','where the product is produced']\n",
        "sequence = tokenizer.texts_to_sequences(comment)\n",
        "test = pad_sequences(sequence, maxlen=MAX_SEQUENCE_LENGTH)\n",
        "pred = model.predict(test)\n",
        "labels = ['0','1','2']\n",
        "print(pred,labels[np.argmax(pred)])"
      ]
    },
    {
      "cell_type": "code",
      "execution_count": 202,
      "metadata": {
        "id": "virbZPPuqk6h"
      },
      "outputs": [],
      "source": [
        "hist = pd.DataFrame(cnn_model.history)"
      ]
    },
    {
      "cell_type": "code",
      "execution_count": 203,
      "metadata": {
        "id": "9LQ4dlZ_IECw",
        "colab": {
          "base_uri": "https://localhost:8080/"
        },
        "outputId": "0662d436-e7f3-4624-df71-a748eb588f2d"
      },
      "outputs": [
        {
          "output_type": "stream",
          "name": "stdout",
          "text": [
            "345/345 [==============================] - 1s 2ms/step\n"
          ]
        }
      ],
      "source": [
        "y_pred = model.predict(X_test)"
      ]
    },
    {
      "cell_type": "code",
      "execution_count": 204,
      "metadata": {
        "id": "-5zkkR2EI-84"
      },
      "outputs": [],
      "source": [
        "ypred = [np.argmax(i) for i in y_pred]"
      ]
    },
    {
      "cell_type": "code",
      "execution_count": 205,
      "metadata": {
        "id": "idxLuLwmrnLf",
        "colab": {
          "base_uri": "https://localhost:8080/",
          "height": 421
        },
        "outputId": "fb93a0c5-9ee3-415f-8790-4db4b4d46c20"
      },
      "outputs": [
        {
          "output_type": "execute_result",
          "data": {
            "text/plain": [
              "<matplotlib.legend.Legend at 0x7f953f166f70>"
            ]
          },
          "metadata": {},
          "execution_count": 205
        },
        {
          "output_type": "display_data",
          "data": {
            "text/plain": [
              "<Figure size 504x432 with 1 Axes>"
            ],
            "image/png": "[encoded data removed]"
          },
          "metadata": {
            "needs_background": "light"
          }
        }
      ],
      "source": [
        "plt.figure(figsize=(7,6))\n",
        "plt.xlabel('Epochs')\n",
        "plt.ylabel('Loss')\n",
        "hist['loss'].plot(label='Training Loss')\n",
        "hist['val_loss'].plot(label='Validation Loss')\n",
        "plt.legend(loc='center')"
      ]
    },
    {
      "cell_type": "code",
      "execution_count": 206,
      "metadata": {
        "id": "Yxq1Gjv9ruQE",
        "colab": {
          "base_uri": "https://localhost:8080/",
          "height": 421
        },
        "outputId": "80ee9207-9105-436c-c8d4-125040de8eb0"
      },
      "outputs": [
        {
          "output_type": "execute_result",
          "data": {
            "text/plain": [
              "<matplotlib.legend.Legend at 0x7f938be2b7c0>"
            ]
          },
          "metadata": {},
          "execution_count": 206
        },
        {
          "output_type": "display_data",
          "data": {
            "text/plain": [
              "<Figure size 504x432 with 1 Axes>"
            ],
            "image/png": "[encoded data removed]"
          },
          "metadata": {
            "needs_background": "light"
          }
        }
      ],
      "source": [
        "plt.figure(figsize=(7,6))\n",
        "plt.xlabel('Epochs')\n",
        "plt.ylabel('Accuracy')\n",
        "hist['accuracy'].plot(label='Training Accuracy')\n",
        "hist['val_accuracy'].plot(label='Validation Accuracy')\n",
        "plt.legend(loc='center')"
      ]
    }
  ],
  "metadata": {
    "accelerator": "GPU",
    "colab": {
      "provenance": []
    },
    "gpuClass": "standard",
    "kernelspec": {
      "display_name": "Python 3",
      "name": "python3"
    },
    "language_info": {
      "name": "python"
    }
  },
  "nbformat": 4,
  "nbformat_minor": 0
}